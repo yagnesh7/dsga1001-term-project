{
 "cells": [
  {
   "cell_type": "code",
   "execution_count": 5,
   "metadata": {},
   "outputs": [],
   "source": [
    "import pandas as pd\n",
    "import numpy as np\n",
    "import requests\n",
    "from bs4 import BeautifulSoup\n",
    "\n",
    "import datetime\n",
    "import time"
   ]
  },
  {
   "cell_type": "code",
   "execution_count": 66,
   "metadata": {},
   "outputs": [],
   "source": [
    "headers = {'User-Agent': 'Mozilla/5.0 (Windows NT 6.1; WOW64; rv:20.0) Gecko/20100101 Firefox/20.0'}\n",
    "\n",
    "npr_title = []\n",
    "npr_time = []\n",
    "\n",
    "for year in range(2016, 2021):\n",
    "    for month in range(1, 13):\n",
    "        for day in range(1, 29):\n",
    "            res = requests.get(f'https://www.npr.org/sections/world/archive?date={day}-{month}-{year}', headers = headers)\n",
    "            each_page = BeautifulSoup(res.text, 'html.parser')\n",
    "            title = each_page.find_all(class_='title')\n",
    "            time = each_page.find_all(class_='date')\n",
    "\n",
    "            all_titles=[]\n",
    "            for e in title:\n",
    "                all_titles.append(e.get_text())\n",
    "\n",
    "            all_time=[]\n",
    "            for t in time:\n",
    "                t_change = t.get_text()[:-3].replace(',', '')\n",
    "                t_change = t_change.replace(' ', '-')\n",
    "    #            all_time.append(datetime.datetime.strptime(t_change, '%B-%d-%y').strftime('%m-%d-%y'))\n",
    "                all_time.append(t_change)       \n",
    "\n",
    "            npr_title.append(all_titles)\n",
    "            npr_time.append(all_time)\n",
    "    "
   ]
  },
  {
   "cell_type": "code",
   "execution_count": 27,
   "metadata": {},
   "outputs": [
    {
     "ename": "NameError",
     "evalue": "name 'npr_title' is not defined",
     "output_type": "error",
     "traceback": [
      "\u001b[1;31m---------------------------------------------------------------------------\u001b[0m",
      "\u001b[1;31mNameError\u001b[0m                                 Traceback (most recent call last)",
      "\u001b[1;32m<ipython-input-27-62abfd4e1cdd>\u001b[0m in \u001b[0;36m<module>\u001b[1;34m\u001b[0m\n\u001b[0;32m      1\u001b[0m \u001b[0mnpr_title_clean\u001b[0m \u001b[1;33m=\u001b[0m \u001b[1;33m[\u001b[0m\u001b[1;33m]\u001b[0m\u001b[1;33m\u001b[0m\u001b[1;33m\u001b[0m\u001b[0m\n\u001b[1;32m----> 2\u001b[1;33m \u001b[1;32mfor\u001b[0m \u001b[0mlst\u001b[0m \u001b[1;32min\u001b[0m \u001b[0mnpr_title\u001b[0m\u001b[1;33m:\u001b[0m\u001b[1;33m\u001b[0m\u001b[1;33m\u001b[0m\u001b[0m\n\u001b[0m\u001b[0;32m      3\u001b[0m     \u001b[1;32mfor\u001b[0m \u001b[0mj\u001b[0m \u001b[1;32min\u001b[0m \u001b[0mlst\u001b[0m\u001b[1;33m:\u001b[0m\u001b[1;33m\u001b[0m\u001b[1;33m\u001b[0m\u001b[0m\n\u001b[0;32m      4\u001b[0m         \u001b[0mnpr_title_clean\u001b[0m\u001b[1;33m.\u001b[0m\u001b[0mappend\u001b[0m\u001b[1;33m(\u001b[0m\u001b[0mj\u001b[0m\u001b[1;33m)\u001b[0m\u001b[1;33m\u001b[0m\u001b[1;33m\u001b[0m\u001b[0m\n\u001b[0;32m      5\u001b[0m \u001b[1;33m\u001b[0m\u001b[0m\n",
      "\u001b[1;31mNameError\u001b[0m: name 'npr_title' is not defined"
     ]
    }
   ],
   "source": [
    "npr_title_clean = []\n",
    "for lst in npr_title:\n",
    "    for j in lst:\n",
    "        npr_title_clean.append(j)\n",
    "\n",
    "npr_time_clean = []\n",
    "for lst in npr_time:\n",
    "    for j in lst:\n",
    "        npr_time_clean.append(j)"
   ]
  },
  {
   "cell_type": "code",
   "execution_count": 114,
   "metadata": {},
   "outputs": [],
   "source": [
    "dictionary = {'title':npr_title_clean, 'date':npr_time_clean} \n",
    "npr = pd.DataFrame(dictionary)"
   ]
  },
  {
   "cell_type": "code",
   "execution_count": 116,
   "metadata": {},
   "outputs": [
    {
     "name": "stderr",
     "output_type": "stream",
     "text": [
      "C:\\ProgramData\\Anaconda3\\lib\\site-packages\\ipykernel_launcher.py:3: SettingWithCopyWarning: \n",
      "A value is trying to be set on a copy of a slice from a DataFrame\n",
      "\n",
      "See the caveats in the documentation: https://pandas.pydata.org/pandas-docs/stable/user_guide/indexing.html#returning-a-view-versus-a-copy\n",
      "  This is separate from the ipykernel package so we can avoid doing imports until\n"
     ]
    }
   ],
   "source": [
    "npr['timestamp'] = 0\n",
    "for i in range(len(npr['date'])):\n",
    "    npr['timestamp'][i] = time.mktime(datetime.datetime.strptime(npr['date'][i], '%B-%d-%Y').timetuple())\n",
    "\n",
    "npr['source'] = 'npr'"
   ]
  },
  {
   "cell_type": "code",
   "execution_count": 43,
   "metadata": {},
   "outputs": [],
   "source": [
    "npr = pd.read_csv('NPR 2016 to 2020.csv')\n",
    "npr = npr.sort_values(by=['timestamp'])\n",
    "npr = npr.set_index(np.arange(0, len(npr['timestamp']), 1))\n",
    "\n",
    "npr_drop2015 = npr[6:]\n",
    "npr_unique = npr_drop2015.drop_duplicates()"
   ]
  },
  {
   "cell_type": "code",
   "execution_count": 56,
   "metadata": {},
   "outputs": [],
   "source": [
    "npr_unique.to_csv('NPR 2016 to 2020.csv', index = False)"
   ]
  },
  {
   "cell_type": "code",
   "execution_count": 57,
   "metadata": {},
   "outputs": [
    {
     "data": {
      "text/html": [
       "<div>\n",
       "<style scoped>\n",
       "    .dataframe tbody tr th:only-of-type {\n",
       "        vertical-align: middle;\n",
       "    }\n",
       "\n",
       "    .dataframe tbody tr th {\n",
       "        vertical-align: top;\n",
       "    }\n",
       "\n",
       "    .dataframe thead th {\n",
       "        text-align: right;\n",
       "    }\n",
       "</style>\n",
       "<table border=\"1\" class=\"dataframe\">\n",
       "  <thead>\n",
       "    <tr style=\"text-align: right;\">\n",
       "      <th></th>\n",
       "      <th>title</th>\n",
       "      <th>date</th>\n",
       "      <th>timestamp</th>\n",
       "      <th>source</th>\n",
       "    </tr>\n",
       "  </thead>\n",
       "  <tbody>\n",
       "    <tr>\n",
       "      <th>6</th>\n",
       "      <td>Smoke Still Rising From Dubai High-Rise Amid F...</td>\n",
       "      <td>January-1-2016</td>\n",
       "      <td>1451624400</td>\n",
       "      <td>npr</td>\n",
       "    </tr>\n",
       "    <tr>\n",
       "      <th>7</th>\n",
       "      <td>Gunman In Downtown Tel Aviv Kills 2 Israelis</td>\n",
       "      <td>January-1-2016</td>\n",
       "      <td>1451624400</td>\n",
       "      <td>npr</td>\n",
       "    </tr>\n",
       "    <tr>\n",
       "      <th>8</th>\n",
       "      <td>New Year's Eve Fireworks In Dubai Go On Despit...</td>\n",
       "      <td>January-1-2016</td>\n",
       "      <td>1451624400</td>\n",
       "      <td>npr</td>\n",
       "    </tr>\n",
       "    <tr>\n",
       "      <th>9</th>\n",
       "      <td>Brazilians Welcome The New Year At Big Beach P...</td>\n",
       "      <td>January-1-2016</td>\n",
       "      <td>1451624400</td>\n",
       "      <td>npr</td>\n",
       "    </tr>\n",
       "    <tr>\n",
       "      <th>10</th>\n",
       "      <td>Hotel Fire Raises Concerns About Safety Of Dub...</td>\n",
       "      <td>January-1-2016</td>\n",
       "      <td>1451624400</td>\n",
       "      <td>npr</td>\n",
       "    </tr>\n",
       "    <tr>\n",
       "      <th>...</th>\n",
       "      <td>...</td>\n",
       "      <td>...</td>\n",
       "      <td>...</td>\n",
       "      <td>...</td>\n",
       "    </tr>\n",
       "    <tr>\n",
       "      <th>17361</th>\n",
       "      <td>Coronavirus World Map: Tracking The Spread Of ...</td>\n",
       "      <td>November-5-2020</td>\n",
       "      <td>1604552400</td>\n",
       "      <td>npr</td>\n",
       "    </tr>\n",
       "    <tr>\n",
       "      <th>17363</th>\n",
       "      <td>Brexit Seems To Benefit The Tiny Nation Of Lux...</td>\n",
       "      <td>November-5-2020</td>\n",
       "      <td>1604552400</td>\n",
       "      <td>npr</td>\n",
       "    </tr>\n",
       "    <tr>\n",
       "      <th>17364</th>\n",
       "      <td>Kosovo's President Steps Down To Face War Crim...</td>\n",
       "      <td>November-5-2020</td>\n",
       "      <td>1604552400</td>\n",
       "      <td>npr</td>\n",
       "    </tr>\n",
       "    <tr>\n",
       "      <th>17365</th>\n",
       "      <td>Poor Countries Fall Behind In Race To Reserve ...</td>\n",
       "      <td>November-5-2020</td>\n",
       "      <td>1604552400</td>\n",
       "      <td>npr</td>\n",
       "    </tr>\n",
       "    <tr>\n",
       "      <th>17378</th>\n",
       "      <td>Amid Violence And Tragedy, A Library Brings Ho...</td>\n",
       "      <td>November-5-2020</td>\n",
       "      <td>1604552400</td>\n",
       "      <td>npr</td>\n",
       "    </tr>\n",
       "  </tbody>\n",
       "</table>\n",
       "<p>8343 rows × 4 columns</p>\n",
       "</div>"
      ],
      "text/plain": [
       "                                                   title             date  \\\n",
       "6      Smoke Still Rising From Dubai High-Rise Amid F...   January-1-2016   \n",
       "7           Gunman In Downtown Tel Aviv Kills 2 Israelis   January-1-2016   \n",
       "8      New Year's Eve Fireworks In Dubai Go On Despit...   January-1-2016   \n",
       "9      Brazilians Welcome The New Year At Big Beach P...   January-1-2016   \n",
       "10     Hotel Fire Raises Concerns About Safety Of Dub...   January-1-2016   \n",
       "...                                                  ...              ...   \n",
       "17361  Coronavirus World Map: Tracking The Spread Of ...  November-5-2020   \n",
       "17363  Brexit Seems To Benefit The Tiny Nation Of Lux...  November-5-2020   \n",
       "17364  Kosovo's President Steps Down To Face War Crim...  November-5-2020   \n",
       "17365  Poor Countries Fall Behind In Race To Reserve ...  November-5-2020   \n",
       "17378  Amid Violence And Tragedy, A Library Brings Ho...  November-5-2020   \n",
       "\n",
       "        timestamp source  \n",
       "6      1451624400    npr  \n",
       "7      1451624400    npr  \n",
       "8      1451624400    npr  \n",
       "9      1451624400    npr  \n",
       "10     1451624400    npr  \n",
       "...           ...    ...  \n",
       "17361  1604552400    npr  \n",
       "17363  1604552400    npr  \n",
       "17364  1604552400    npr  \n",
       "17365  1604552400    npr  \n",
       "17378  1604552400    npr  \n",
       "\n",
       "[8343 rows x 4 columns]"
      ]
     },
     "execution_count": 57,
     "metadata": {},
     "output_type": "execute_result"
    }
   ],
   "source": [
    "npr_unique"
   ]
  },
  {
   "cell_type": "code",
   "execution_count": null,
   "metadata": {},
   "outputs": [],
   "source": []
  }
 ],
 "metadata": {
  "kernelspec": {
   "display_name": "Python 3",
   "language": "python",
   "name": "python3"
  },
  "language_info": {
   "codemirror_mode": {
    "name": "ipython",
    "version": 3
   },
   "file_extension": ".py",
   "mimetype": "text/x-python",
   "name": "python",
   "nbconvert_exporter": "python",
   "pygments_lexer": "ipython3",
   "version": "3.7.9"
  }
 },
 "nbformat": 4,
 "nbformat_minor": 4
}
