{
 "cells": [
  {
   "cell_type": "code",
   "execution_count": 5,
   "metadata": {},
   "outputs": [],
   "source": [
    "import requests\n",
    "from bs4 import BeautifulSoup\n",
    "import pandas as pd\n",
    "from datetime import datetime\n",
    "import time\n",
    "import numpy as np\n",
    "import praw\n",
    "import json"
   ]
  },
  {
   "cell_type": "raw",
   "metadata": {},
   "source": [
    "spamacc11008899\n",
    "ylEKQrTO_AaeYA\n",
    "UX02WYBNf_cCYhDpkgLOA5bNr3o5Ew"
   ]
  },
  {
   "cell_type": "code",
   "execution_count": 3,
   "metadata": {},
   "outputs": [],
   "source": [
    "reddit = praw.Reddit(client_id=\"wpxWR7jGapvLGg\",\n",
    "                     client_secret=\"A7EK-0Ajp5lmNOIs98GJEWdt13INrw\",\n",
    "                     password=\"UX02WYBNf_cCYhDpkgLOA5bNr3o5Ew\",\n",
    "                     user_agent=\"testscript by u/fakebot3\",\n",
    "                     username=\"spamacc11008899\")"
   ]
  },
  {
   "cell_type": "code",
   "execution_count": 4,
   "metadata": {},
   "outputs": [
    {
     "name": "stdout",
     "output_type": "stream",
     "text": [
      "spamacc11008899\n"
     ]
    }
   ],
   "source": [
    "print(reddit.user.me())"
   ]
  },
  {
   "cell_type": "code",
   "execution_count": 46,
   "metadata": {},
   "outputs": [],
   "source": [
    "top_submits = reddit.subreddit(\"nottheonion\").top(\"year\", limit = 1000) # 1000 is hard limit.\n",
    "# Can experiment with other options, like hot 1000, new 1000, might just relegate this to testing.\n",
    "\n",
    "things = []\n",
    "\n",
    "i = 0\n",
    "for s in top_submits:\n",
    "    if i%100 == 0:\n",
    "        print(i)\n",
    "    submit = reddit.submission(s.id)\n",
    "    submit_info = {'title': submit.title, 'date': submit.created_utc, 'name': submit.name}\n",
    "    things.append(submit_info)\n",
    "    i += 1"
   ]
  },
  {
   "cell_type": "code",
   "execution_count": 54,
   "metadata": {
    "scrolled": true
   },
   "outputs": [
    {
     "data": {
      "text/plain": [
       "{'title': 'Petition calls for Blockbuster location in Ontario to be preserved as a museum',\n",
       " 'date': 1603128497.0,\n",
       " 'name': 't3_je64n7'}"
      ]
     },
     "execution_count": 54,
     "metadata": {},
     "output_type": "execute_result"
    }
   ],
   "source": [
    "submit_info"
   ]
  },
  {
   "cell_type": "code",
   "execution_count": 52,
   "metadata": {},
   "outputs": [],
   "source": [
    "data = pd.DataFrame(things)\n",
    "data['source'] = 'nottheonion'"
   ]
  },
  {
   "cell_type": "code",
   "execution_count": 53,
   "metadata": {},
   "outputs": [],
   "source": [
    "data.to_csv('nottheonion_2020.csv', index=False)"
   ]
  }
 ],
 "metadata": {
  "kernelspec": {
   "display_name": "Python 3",
   "language": "python",
   "name": "python3"
  },
  "language_info": {
   "codemirror_mode": {
    "name": "ipython",
    "version": 3
   },
   "file_extension": ".py",
   "mimetype": "text/x-python",
   "name": "python",
   "nbconvert_exporter": "python",
   "pygments_lexer": "ipython3",
   "version": "3.7.9"
  }
 },
 "nbformat": 4,
 "nbformat_minor": 4
}
