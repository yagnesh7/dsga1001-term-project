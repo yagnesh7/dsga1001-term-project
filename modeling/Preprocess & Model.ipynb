{
 "cells": [
  {
   "cell_type": "code",
   "execution_count": 2,
   "metadata": {},
   "outputs": [],
   "source": [
    "## Find common abbreviations and edit earlier\n",
    "## Remove swear words or very specific language (horoscopes, picture of the week, etc.)"
   ]
  },
  {
   "cell_type": "code",
   "execution_count": 3,
   "metadata": {},
   "outputs": [],
   "source": [
    "import matplotlib.pyplot as plt \n",
    "import pandas as pd\n",
    "import numpy as np\n",
    "import datetime\n",
    "import seaborn as sns\n",
    "import re\n",
    "from collections import Counter\n",
    "from nltk.corpus import stopwords\n",
    "import spacy\n",
    "import wordcloud"
   ]
  },
  {
   "cell_type": "code",
   "execution_count": 4,
   "metadata": {},
   "outputs": [],
   "source": [
    "# Loading model\n",
    "#nlp = spacy.load('en_core_web_sm',disable=['parser', 'ner'])"
   ]
  },
  {
   "cell_type": "code",
   "execution_count": 5,
   "metadata": {},
   "outputs": [],
   "source": [
    "data = pd.read_csv('dsga1001-term-project/data/Combined Data v2.csv')"
   ]
  },
  {
   "cell_type": "code",
   "execution_count": 6,
   "metadata": {
    "scrolled": true
   },
   "outputs": [
    {
     "name": "stdout",
     "output_type": "stream",
     "text": [
      "(420655, 5)\n"
     ]
    },
    {
     "data": {
      "text/html": [
       "<div>\n",
       "<style scoped>\n",
       "    .dataframe tbody tr th:only-of-type {\n",
       "        vertical-align: middle;\n",
       "    }\n",
       "\n",
       "    .dataframe tbody tr th {\n",
       "        vertical-align: top;\n",
       "    }\n",
       "\n",
       "    .dataframe thead th {\n",
       "        text-align: right;\n",
       "    }\n",
       "</style>\n",
       "<table border=\"1\" class=\"dataframe\">\n",
       "  <thead>\n",
       "    <tr style=\"text-align: right;\">\n",
       "      <th></th>\n",
       "      <th>Unnamed: 0</th>\n",
       "      <th>headline</th>\n",
       "      <th>date</th>\n",
       "      <th>source</th>\n",
       "      <th>is_sarcastic</th>\n",
       "    </tr>\n",
       "  </thead>\n",
       "  <tbody>\n",
       "    <tr>\n",
       "      <th>121028</th>\n",
       "      <td>121028</td>\n",
       "      <td>investigators comb scene of shooting in perth</td>\n",
       "      <td>2016-04-27</td>\n",
       "      <td>ABC Australia</td>\n",
       "      <td>0</td>\n",
       "    </tr>\n",
       "    <tr>\n",
       "      <th>194017</th>\n",
       "      <td>194017</td>\n",
       "      <td>same sex marriage advertising restrictions put...</td>\n",
       "      <td>2017-08-29</td>\n",
       "      <td>ABC Australia</td>\n",
       "      <td>0</td>\n",
       "    </tr>\n",
       "    <tr>\n",
       "      <th>116401</th>\n",
       "      <td>116401</td>\n",
       "      <td>adelaide hills man accused of stealing 1.5m of...</td>\n",
       "      <td>2016-04-01</td>\n",
       "      <td>ABC Australia</td>\n",
       "      <td>0</td>\n",
       "    </tr>\n",
       "    <tr>\n",
       "      <th>170981</th>\n",
       "      <td>170981</td>\n",
       "      <td>mick gatto meets media no comment over essendo...</td>\n",
       "      <td>2017-03-09</td>\n",
       "      <td>ABC Australia</td>\n",
       "      <td>0</td>\n",
       "    </tr>\n",
       "    <tr>\n",
       "      <th>376709</th>\n",
       "      <td>33948</td>\n",
       "      <td>Sage, Ink: New Hampshire Fail</td>\n",
       "      <td>2016-02-11 00:00:00</td>\n",
       "      <td>Atlantic</td>\n",
       "      <td>0</td>\n",
       "    </tr>\n",
       "  </tbody>\n",
       "</table>\n",
       "</div>"
      ],
      "text/plain": [
       "        Unnamed: 0                                           headline  \\\n",
       "121028      121028      investigators comb scene of shooting in perth   \n",
       "194017      194017  same sex marriage advertising restrictions put...   \n",
       "116401      116401  adelaide hills man accused of stealing 1.5m of...   \n",
       "170981      170981  mick gatto meets media no comment over essendo...   \n",
       "376709       33948                      Sage, Ink: New Hampshire Fail   \n",
       "\n",
       "                       date         source  is_sarcastic  \n",
       "121028           2016-04-27  ABC Australia             0  \n",
       "194017           2017-08-29  ABC Australia             0  \n",
       "116401           2016-04-01  ABC Australia             0  \n",
       "170981           2017-03-09  ABC Australia             0  \n",
       "376709  2016-02-11 00:00:00       Atlantic             0  "
      ]
     },
     "execution_count": 6,
     "metadata": {},
     "output_type": "execute_result"
    }
   ],
   "source": [
    "print(data.shape)\n",
    "data.sample(n = 5)"
   ]
  },
  {
   "cell_type": "code",
   "execution_count": 7,
   "metadata": {},
   "outputs": [
    {
     "data": {
      "text/plain": [
       "array(['2019', '2018', '2017', '2016', '2020'], dtype=object)"
      ]
     },
     "execution_count": 7,
     "metadata": {},
     "output_type": "execute_result"
    }
   ],
   "source": [
    "# data['year'] = data['date'].apply(lambda x: ''.join(re.findall('^[0-9]+-[0-9]+-([0-9]{2})', x)))\n",
    "# data['year'].unique()\n",
    "data['year'] = data['date'].apply(lambda x: x[:4])\n",
    "data['year'].unique()"
   ]
  },
  {
   "cell_type": "code",
   "execution_count": 8,
   "metadata": {},
   "outputs": [],
   "source": [
    "data['len'] = data['headline'].apply(lambda x: len(x.split(\" \")))"
   ]
  },
  {
   "cell_type": "code",
   "execution_count": 9,
   "metadata": {},
   "outputs": [
    {
     "data": {
      "image/png": "[encoded data removed]",
      "text/plain": [
       "<Figure size 432x288 with 1 Axes>"
      ]
     },
     "metadata": {
      "needs_background": "light"
     },
     "output_type": "display_data"
    }
   ],
   "source": [
    "data.groupby(['year', 'is_sarcastic']).size().plot.bar()\n",
    "plt.show()"
   ]
  },
  {
   "cell_type": "code",
   "execution_count": 10,
   "metadata": {},
   "outputs": [],
   "source": [
    "## Preprocessing:\n",
    "\n",
    "# Lowercase:\n",
    "data['clean'] = data['headline'].apply(lambda x: x.lower())\n",
    "\n",
    "# Expand Contractions:\n",
    "# https://www.analyticsvidhya.com/blog/2020/04/beginners-guide-exploratory-data-analysis-text-data/\n",
    "# https://stackoverflow.com/questions/19790188/expanding-english-language-contractions-in-python\n",
    "# Dictionary of English Contractions\n",
    "contractions_dict = { \"ain't\": \"are not\",\"aren't\": \"are not\",\n",
    "                     \"can't\": \"cannot\",\"can't've\": \"cannot have\",\n",
    "                     \"'cause\": \"because\",\"could've\": \"could have\",\"couldn't\": \"could not\",\n",
    "                     \"couldn't've\": \"could not have\", \"didn't\": \"did not\",\"doesn't\": \"does not\",\n",
    "                     \"don't\": \"do not\",\"hadn't\": \"had not\",\"hadn't've\": \"had not have\",\n",
    "                     \"hasn't\": \"has not\",\"haven't\": \"have not\",\"he'd\": \"he would\",\n",
    "                     \"he'd've\": \"he would have\",\"he'll\": \"he will\", \"he'll've\": \"he will have\",\n",
    "                     \"how'd\": \"how did\",\"how'd'y\": \"how do you\",\"how'll\": \"how will\",\n",
    "                     \"I'd\": \"I would\", \"I'd've\": \"I would have\",\"I'll\": \"I will\",\n",
    "                     \"I'll've\": \"I will have\",\"I'm\": \"I am\",\"I've\": \"I have\", \"isn't\": \"is not\",\n",
    "                     \"it'd\": \"it would\",\"it'd've\": \"it would have\",\"it'll\": \"it will\",\n",
    "                     \"it'll've\": \"it will have\", \"let's\": \"let us\",\"ma'am\": \"madam\",\n",
    "                     \"mayn't\": \"may not\",\"might've\": \"might have\",\"mightn't\": \"might not\", \n",
    "                     \"mightn't've\": \"might not have\",\"must've\": \"must have\",\"mustn't\": \"must not\",\n",
    "                     \"mustn't've\": \"must not have\", \"needn't\": \"need not\",\n",
    "                     \"needn't've\": \"need not have\",\"o'clock\": \"of the clock\",\"oughtn't\": \"ought not\",\n",
    "                     \"oughtn't've\": \"ought not have\",\"shan't\": \"shall not\",\"sha'n't\": \"shall not\",\n",
    "                     \"shan't've\": \"shall not have\",\"she'd\": \"she would\",\"she'd've\": \"she would have\",\n",
    "                     \"she'll\": \"she will\", \"she'll've\": \"she will have\",\"should've\": \"should have\",\n",
    "                     \"shouldn't\": \"should not\", \"shouldn't've\": \"should not have\",\"so've\": \"so have\",\n",
    "                     \"that'd\": \"that would\",\"that'd've\": \"that would have\", \"there'd\": \"there would\",\n",
    "                     \"there'd've\": \"there would have\", \"they'd\": \"they would\",\n",
    "                     \"they'd've\": \"they would have\",\"they'll\": \"they will\",\n",
    "                     \"they'll've\": \"they will have\", \"they're\": \"they are\",\"they've\": \"they have\",\n",
    "                     \"to've\": \"to have\",\"wasn't\": \"was not\",\"we'd\": \"we would\",\n",
    "                     \"we'd've\": \"we would have\",\"we'll\": \"we will\",\"we'll've\": \"we will have\",\n",
    "                     \"we're\": \"we are\",\"we've\": \"we have\", \"weren't\": \"were not\",\"what'll\": \"what will\",\n",
    "                     \"what'll've\": \"what will have\",\"what're\": \"what are\", \"what've\": \"what have\",\n",
    "                     \"when've\": \"when have\",\"where'd\": \"where did\", \"where've\": \"where have\",\n",
    "                     \"who'll\": \"who will\",\"who'll've\": \"who will have\",\"who've\": \"who have\",\n",
    "                     \"why've\": \"why have\",\"will've\": \"will have\",\"won't\": \"will not\",\n",
    "                     \"won't've\": \"will not have\", \"would've\": \"would have\",\"wouldn't\": \"would not\",\n",
    "                     \"wouldn't've\": \"would not have\",\"y'all\": \"you all\", \"y'all'd\": \"you all would\",\n",
    "                     \"y'all'd've\": \"you all would have\",\"y'all're\": \"you all are\",\n",
    "                     \"y'all've\": \"you all have\", \"you'd\": \"you would\",\"you'd've\": \"you would have\",\n",
    "                     \"you'll\": \"you will\",\"you'll've\": \"you will have\", \"you're\": \"you are\",\n",
    "                     \"you've\": \"you have\"}\n",
    "\n",
    "# Regular expression for finding contractions\n",
    "contractions_re=re.compile('(%s)' % '|'.join(contractions_dict.keys()))\n",
    "\n",
    "# Function for expanding contractions\n",
    "def expand_contractions(text,contractions_dict=contractions_dict):\n",
    "    def replace(match):\n",
    "        return contractions_dict[match.group(0)]\n",
    "    return contractions_re.sub(replace, text)\n",
    "\n",
    "# Expanding Contractions in the headlines\n",
    "data['clean'] = data['clean'].apply(lambda x: expand_contractions(x))\n",
    "\n",
    "# Remove special characters\n",
    "# Only Letters\n",
    "# re.findall('[a-zA-Z]+',data['clean'][883])\n",
    "\n",
    "# Letters and Numbers\n",
    "data['clean'] = data['clean'].apply(lambda x: \" \".join(re.findall('\\w+', x)))"
   ]
  },
  {
   "cell_type": "code",
   "execution_count": 11,
   "metadata": {},
   "outputs": [
    {
     "data": {
      "text/html": [
       "<div>\n",
       "<style scoped>\n",
       "    .dataframe tbody tr th:only-of-type {\n",
       "        vertical-align: middle;\n",
       "    }\n",
       "\n",
       "    .dataframe tbody tr th {\n",
       "        vertical-align: top;\n",
       "    }\n",
       "\n",
       "    .dataframe thead th {\n",
       "        text-align: right;\n",
       "    }\n",
       "</style>\n",
       "<table border=\"1\" class=\"dataframe\">\n",
       "  <thead>\n",
       "    <tr style=\"text-align: right;\">\n",
       "      <th></th>\n",
       "      <th>Unnamed: 0</th>\n",
       "      <th>headline</th>\n",
       "      <th>date</th>\n",
       "      <th>source</th>\n",
       "      <th>is_sarcastic</th>\n",
       "      <th>year</th>\n",
       "      <th>len</th>\n",
       "      <th>clean</th>\n",
       "    </tr>\n",
       "  </thead>\n",
       "  <tbody>\n",
       "    <tr>\n",
       "      <th>145859</th>\n",
       "      <td>145859</td>\n",
       "      <td>australia names graeme hick as batting coach</td>\n",
       "      <td>2016-09-15</td>\n",
       "      <td>ABC Australia</td>\n",
       "      <td>0</td>\n",
       "      <td>2016</td>\n",
       "      <td>7</td>\n",
       "      <td>australia names graeme hick as batting coach</td>\n",
       "    </tr>\n",
       "    <tr>\n",
       "      <th>160162</th>\n",
       "      <td>160162</td>\n",
       "      <td>national rural news</td>\n",
       "      <td>2016-12-14</td>\n",
       "      <td>ABC Australia</td>\n",
       "      <td>0</td>\n",
       "      <td>2016</td>\n",
       "      <td>3</td>\n",
       "      <td>national rural news</td>\n",
       "    </tr>\n",
       "    <tr>\n",
       "      <th>398872</th>\n",
       "      <td>20626</td>\n",
       "      <td>Now That We Can Read Genomes, Can We Write Them?</td>\n",
       "      <td>2017-05-10 00:00:00</td>\n",
       "      <td>Atlantic</td>\n",
       "      <td>0</td>\n",
       "      <td>2017</td>\n",
       "      <td>10</td>\n",
       "      <td>now that we can read genomes can we write them</td>\n",
       "    </tr>\n",
       "    <tr>\n",
       "      <th>118630</th>\n",
       "      <td>118630</td>\n",
       "      <td>palmer hits out at damning queensland nickel r...</td>\n",
       "      <td>2016-04-13</td>\n",
       "      <td>ABC Australia</td>\n",
       "      <td>0</td>\n",
       "      <td>2016</td>\n",
       "      <td>8</td>\n",
       "      <td>palmer hits out at damning queensland nickel r...</td>\n",
       "    </tr>\n",
       "    <tr>\n",
       "      <th>297338</th>\n",
       "      <td>5208</td>\n",
       "      <td>NRA Praised For Decreasing Stigma Of Mentally ...</td>\n",
       "      <td>2018-08-31 00:00:00</td>\n",
       "      <td>onion</td>\n",
       "      <td>1</td>\n",
       "      <td>2018</td>\n",
       "      <td>10</td>\n",
       "      <td>nra praised for decreasing stigma of mentally ...</td>\n",
       "    </tr>\n",
       "  </tbody>\n",
       "</table>\n",
       "</div>"
      ],
      "text/plain": [
       "        Unnamed: 0                                           headline  \\\n",
       "145859      145859       australia names graeme hick as batting coach   \n",
       "160162      160162                                national rural news   \n",
       "398872       20626   Now That We Can Read Genomes, Can We Write Them?   \n",
       "118630      118630  palmer hits out at damning queensland nickel r...   \n",
       "297338        5208  NRA Praised For Decreasing Stigma Of Mentally ...   \n",
       "\n",
       "                       date         source  is_sarcastic  year  len  \\\n",
       "145859           2016-09-15  ABC Australia             0  2016    7   \n",
       "160162           2016-12-14  ABC Australia             0  2016    3   \n",
       "398872  2017-05-10 00:00:00       Atlantic             0  2017   10   \n",
       "118630           2016-04-13  ABC Australia             0  2016    8   \n",
       "297338  2018-08-31 00:00:00          onion             1  2018   10   \n",
       "\n",
       "                                                    clean  \n",
       "145859       australia names graeme hick as batting coach  \n",
       "160162                                national rural news  \n",
       "398872     now that we can read genomes can we write them  \n",
       "118630  palmer hits out at damning queensland nickel r...  \n",
       "297338  nra praised for decreasing stigma of mentally ...  "
      ]
     },
     "execution_count": 11,
     "metadata": {},
     "output_type": "execute_result"
    }
   ],
   "source": [
    "data.sample(n = 5)"
   ]
  },
  {
   "cell_type": "code",
   "execution_count": 12,
   "metadata": {},
   "outputs": [],
   "source": [
    "# Lemmatization with stopwords removal\n",
    "# data['lemmatized'] = data['clean'].apply(lambda x: ' '.join([token.lemma_ for token in list(nlp(x)) if (token.is_stop==False)]))"
   ]
  },
  {
   "cell_type": "code",
   "execution_count": 13,
   "metadata": {},
   "outputs": [],
   "source": [
    "# data['clean'][7310]"
   ]
  },
  {
   "cell_type": "code",
   "execution_count": 14,
   "metadata": {},
   "outputs": [],
   "source": [
    "# data['lemmatized'][7310]"
   ]
  },
  {
   "cell_type": "code",
   "execution_count": 15,
   "metadata": {},
   "outputs": [],
   "source": [
    "# data.sample(n = 5)"
   ]
  },
  {
   "cell_type": "code",
   "execution_count": 16,
   "metadata": {},
   "outputs": [],
   "source": [
    "# data['lemma_len'] = data['lemmatized'].apply(lambda x: len(x.split()))"
   ]
  },
  {
   "cell_type": "code",
   "execution_count": 17,
   "metadata": {},
   "outputs": [
    {
     "data": {
      "text/html": [
       "<div>\n",
       "<style scoped>\n",
       "    .dataframe tbody tr th:only-of-type {\n",
       "        vertical-align: middle;\n",
       "    }\n",
       "\n",
       "    .dataframe tbody tr th {\n",
       "        vertical-align: top;\n",
       "    }\n",
       "\n",
       "    .dataframe thead th {\n",
       "        text-align: right;\n",
       "    }\n",
       "</style>\n",
       "<table border=\"1\" class=\"dataframe\">\n",
       "  <thead>\n",
       "    <tr style=\"text-align: right;\">\n",
       "      <th></th>\n",
       "      <th>Unnamed: 0</th>\n",
       "      <th>is_sarcastic</th>\n",
       "      <th>len</th>\n",
       "    </tr>\n",
       "  </thead>\n",
       "  <tbody>\n",
       "    <tr>\n",
       "      <th>count</th>\n",
       "      <td>420655.000000</td>\n",
       "      <td>420655.000000</td>\n",
       "      <td>420655.000000</td>\n",
       "    </tr>\n",
       "    <tr>\n",
       "      <th>mean</th>\n",
       "      <td>100729.286491</td>\n",
       "      <td>0.044317</td>\n",
       "      <td>8.834199</td>\n",
       "    </tr>\n",
       "    <tr>\n",
       "      <th>std</th>\n",
       "      <td>89888.962293</td>\n",
       "      <td>0.205798</td>\n",
       "      <td>2.853828</td>\n",
       "    </tr>\n",
       "    <tr>\n",
       "      <th>min</th>\n",
       "      <td>0.000000</td>\n",
       "      <td>0.000000</td>\n",
       "      <td>1.000000</td>\n",
       "    </tr>\n",
       "    <tr>\n",
       "      <th>25%</th>\n",
       "      <td>19295.000000</td>\n",
       "      <td>0.000000</td>\n",
       "      <td>7.000000</td>\n",
       "    </tr>\n",
       "    <tr>\n",
       "      <th>50%</th>\n",
       "      <td>73459.000000</td>\n",
       "      <td>0.000000</td>\n",
       "      <td>9.000000</td>\n",
       "    </tr>\n",
       "    <tr>\n",
       "      <th>75%</th>\n",
       "      <td>178622.500000</td>\n",
       "      <td>0.000000</td>\n",
       "      <td>11.000000</td>\n",
       "    </tr>\n",
       "    <tr>\n",
       "      <th>max</th>\n",
       "      <td>283786.000000</td>\n",
       "      <td>1.000000</td>\n",
       "      <td>151.000000</td>\n",
       "    </tr>\n",
       "  </tbody>\n",
       "</table>\n",
       "</div>"
      ],
      "text/plain": [
       "          Unnamed: 0   is_sarcastic            len\n",
       "count  420655.000000  420655.000000  420655.000000\n",
       "mean   100729.286491       0.044317       8.834199\n",
       "std     89888.962293       0.205798       2.853828\n",
       "min         0.000000       0.000000       1.000000\n",
       "25%     19295.000000       0.000000       7.000000\n",
       "50%     73459.000000       0.000000       9.000000\n",
       "75%    178622.500000       0.000000      11.000000\n",
       "max    283786.000000       1.000000     151.000000"
      ]
     },
     "execution_count": 17,
     "metadata": {},
     "output_type": "execute_result"
    }
   ],
   "source": [
    "data.describe()"
   ]
  },
  {
   "cell_type": "code",
   "execution_count": 18,
   "metadata": {
    "scrolled": true
   },
   "outputs": [
    {
     "data": {
      "text/plain": [
       "<matplotlib.axes._subplots.AxesSubplot at 0x7f918fcae460>"
      ]
     },
     "execution_count": 18,
     "metadata": {},
     "output_type": "execute_result"
    },
    {
     "data": {
      "image/png": "[encoded data removed]",
      "text/plain": [
       "<Figure size 432x288 with 1 Axes>"
      ]
     },
     "metadata": {
      "needs_background": "light"
     },
     "output_type": "display_data"
    }
   ],
   "source": [
    "data['len'].hist(bins = 100, alpha = 0.6)\n",
    "# data['lemma_len'].hist(bins = 100, alpha = 0.6)"
   ]
  },
  {
   "cell_type": "code",
   "execution_count": 19,
   "metadata": {},
   "outputs": [
    {
     "name": "stdout",
     "output_type": "stream",
     "text": [
      "21.0\n"
     ]
    }
   ],
   "source": [
    "# Removing any headlines longer than the 99.9th percentile\n",
    "print(np.quantile(data['len'], q = 0.999))\n",
    "data = data.loc[data['len'] <= np.quantile(data['len'], q = 0.999)]"
   ]
  },
  {
   "cell_type": "code",
   "execution_count": 20,
   "metadata": {},
   "outputs": [
    {
     "data": {
      "image/png": "[encoded data removed]",
      "text/plain": [
       "<Figure size 432x288 with 1 Axes>"
      ]
     },
     "metadata": {
      "needs_background": "light"
     },
     "output_type": "display_data"
    }
   ],
   "source": [
    "wc = wordcloud.WordCloud().generate(\" \".join(data['clean'].sample(10000)))\n",
    "plt.imshow(wc)\n",
    "plt.axis(\"off\")\n",
    "plt.show()"
   ]
  },
  {
   "cell_type": "markdown",
   "metadata": {},
   "source": [
    "### Modeling"
   ]
  },
  {
   "cell_type": "code",
   "execution_count": 21,
   "metadata": {},
   "outputs": [],
   "source": [
    "from sklearn import feature_extraction\n",
    "from sklearn.model_selection import train_test_split"
   ]
  },
  {
   "cell_type": "code",
   "execution_count": 22,
   "metadata": {},
   "outputs": [
    {
     "name": "stdout",
     "output_type": "stream",
     "text": [
      "Count of sarcastic articles is: 18387 (4.37%)\n"
     ]
    }
   ],
   "source": [
    "y_mean = data['is_sarcastic'].mean()\n",
    "y_sum = data['is_sarcastic'].sum()\n",
    "print(f'Count of sarcastic articles is: {y_sum} ({round(y_mean*100, 2)}%)')"
   ]
  },
  {
   "cell_type": "code",
   "execution_count": 23,
   "metadata": {},
   "outputs": [],
   "source": [
    "train = data.loc[data['year'] != '2020']\n",
    "test = data.loc[data['year'] == '2020']\n",
    "\n",
    "X_train = train['clean']\n",
    "y_train = train['is_sarcastic']\n",
    "\n",
    "X_test = test['clean']\n",
    "y_test = test['is_sarcastic']"
   ]
  },
  {
   "cell_type": "code",
   "execution_count": 24,
   "metadata": {
    "scrolled": false
   },
   "outputs": [
    {
     "data": {
      "text/html": [
       "<div>\n",
       "<style scoped>\n",
       "    .dataframe tbody tr th:only-of-type {\n",
       "        vertical-align: middle;\n",
       "    }\n",
       "\n",
       "    .dataframe tbody tr th {\n",
       "        vertical-align: top;\n",
       "    }\n",
       "\n",
       "    .dataframe thead th {\n",
       "        text-align: right;\n",
       "    }\n",
       "</style>\n",
       "<table border=\"1\" class=\"dataframe\">\n",
       "  <thead>\n",
       "    <tr style=\"text-align: right;\">\n",
       "      <th></th>\n",
       "      <th>clean</th>\n",
       "      <th>is_sarcastic</th>\n",
       "    </tr>\n",
       "  </thead>\n",
       "  <tbody>\n",
       "    <tr>\n",
       "      <th>290860</th>\n",
       "      <td>former u s ambassador to iraq discusses tensio...</td>\n",
       "      <td>0</td>\n",
       "    </tr>\n",
       "    <tr>\n",
       "      <th>290861</th>\n",
       "      <td>u s sends reinforcements after u s embassy in ...</td>\n",
       "      <td>0</td>\n",
       "    </tr>\n",
       "    <tr>\n",
       "      <th>290862</th>\n",
       "      <td>news brief u s embassy stormed north korea 202...</td>\n",
       "      <td>0</td>\n",
       "    </tr>\n",
       "    <tr>\n",
       "      <th>290863</th>\n",
       "      <td>unicef says even in 2020 newborns are still vu...</td>\n",
       "      <td>0</td>\n",
       "    </tr>\n",
       "    <tr>\n",
       "      <th>290864</th>\n",
       "      <td>in israel netanyahu seeks immunity from prosec...</td>\n",
       "      <td>0</td>\n",
       "    </tr>\n",
       "    <tr>\n",
       "      <th>...</th>\n",
       "      <td>...</td>\n",
       "      <td>...</td>\n",
       "    </tr>\n",
       "    <tr>\n",
       "      <th>414990</th>\n",
       "      <td>5 90s era photos of david duchovny to pound yo...</td>\n",
       "      <td>1</td>\n",
       "    </tr>\n",
       "    <tr>\n",
       "      <th>414991</th>\n",
       "      <td>adorable winter handbags that are all just the...</td>\n",
       "      <td>1</td>\n",
       "    </tr>\n",
       "    <tr>\n",
       "      <th>414992</th>\n",
       "      <td>amazing this woman s bush grew so big the gove...</td>\n",
       "      <td>1</td>\n",
       "    </tr>\n",
       "    <tr>\n",
       "      <th>414993</th>\n",
       "      <td>how to pick a fight with your partner then cry...</td>\n",
       "      <td>1</td>\n",
       "    </tr>\n",
       "    <tr>\n",
       "      <th>414994</th>\n",
       "      <td>careers to try while you wait for the next eye...</td>\n",
       "      <td>1</td>\n",
       "    </tr>\n",
       "  </tbody>\n",
       "</table>\n",
       "<p>23661 rows × 2 columns</p>\n",
       "</div>"
      ],
      "text/plain": [
       "                                                    clean  is_sarcastic\n",
       "290860  former u s ambassador to iraq discusses tensio...             0\n",
       "290861  u s sends reinforcements after u s embassy in ...             0\n",
       "290862  news brief u s embassy stormed north korea 202...             0\n",
       "290863  unicef says even in 2020 newborns are still vu...             0\n",
       "290864  in israel netanyahu seeks immunity from prosec...             0\n",
       "...                                                   ...           ...\n",
       "414990  5 90s era photos of david duchovny to pound yo...             1\n",
       "414991  adorable winter handbags that are all just the...             1\n",
       "414992  amazing this woman s bush grew so big the gove...             1\n",
       "414993  how to pick a fight with your partner then cry...             1\n",
       "414994  careers to try while you wait for the next eye...             1\n",
       "\n",
       "[23661 rows x 2 columns]"
      ]
     },
     "execution_count": 24,
     "metadata": {},
     "output_type": "execute_result"
    }
   ],
   "source": [
    "test[['clean', 'is_sarcastic']]"
   ]
  },
  {
   "cell_type": "code",
   "execution_count": 25,
   "metadata": {},
   "outputs": [
    {
     "name": "stdout",
     "output_type": "stream",
     "text": [
      "Train Size: 396666\n",
      "Test Size: 23661\n"
     ]
    }
   ],
   "source": [
    "print(f'Train Size: {X_train.shape[0]}')\n",
    "print(f'Test Size: {X_test.shape[0]}')"
   ]
  },
  {
   "cell_type": "code",
   "execution_count": 26,
   "metadata": {},
   "outputs": [],
   "source": [
    "cv = feature_extraction.text.CountVectorizer(lowercase = True,\n",
    "                                             strip_accents = 'ascii',\n",
    "                                             stop_words='english',\n",
    "                                             ngram_range=(1,3),\n",
    "                                             max_df = .8,\n",
    "                                             min_df = 10)\n",
    "\n",
    "tfidf = feature_extraction.text.TfidfVectorizer(lowercase = True,\n",
    "                                             strip_accents = 'ascii',\n",
    "                                             stop_words='english',\n",
    "                                             ngram_range=(1,3),\n",
    "                                             max_df = .8,\n",
    "                                             min_df = 10)"
   ]
  },
  {
   "cell_type": "code",
   "execution_count": 27,
   "metadata": {},
   "outputs": [],
   "source": [
    "binary = feature_extraction.text.CountVectorizer(lowercase = True,\n",
    "                                             binary = True,\n",
    "                                             strip_accents = 'ascii',\n",
    "                                             stop_words='english',\n",
    "                                             ngram_range=(1,3),\n",
    "                                             max_df = .8,\n",
    "                                             min_df = 10)"
   ]
  },
  {
   "cell_type": "code",
   "execution_count": 28,
   "metadata": {},
   "outputs": [
    {
     "name": "stdout",
     "output_type": "stream",
     "text": [
      "Fitting Count Vectorizer\n"
     ]
    }
   ],
   "source": [
    "print(\"Fitting Count Vectorizer\")\n",
    "cv.fit(X_train)\n",
    "X_train_cv = cv.transform(X_train)\n",
    "X_test_cv = cv.transform(X_test)"
   ]
  },
  {
   "cell_type": "code",
   "execution_count": 29,
   "metadata": {},
   "outputs": [],
   "source": [
    "cv_vocab = cv.vocabulary_"
   ]
  },
  {
   "cell_type": "code",
   "execution_count": 30,
   "metadata": {},
   "outputs": [],
   "source": [
    "X_train_cv = cv.transform(X_train)"
   ]
  },
  {
   "cell_type": "code",
   "execution_count": 31,
   "metadata": {},
   "outputs": [
    {
     "data": {
      "text/plain": [
       "<396666x36452 sparse matrix of type '<class 'numpy.int64'>'\n",
       "\twith 2797057 stored elements in Compressed Sparse Row format>"
      ]
     },
     "execution_count": 31,
     "metadata": {},
     "output_type": "execute_result"
    }
   ],
   "source": [
    "X_train_cv"
   ]
  },
  {
   "cell_type": "code",
   "execution_count": 54,
   "metadata": {
    "scrolled": true
   },
   "outputs": [],
   "source": [
    "from sklearn.linear_model import LogisticRegression\n",
    "from sklearn.naive_bayes import MultinomialNB, GaussianNB, BernoulliNB\n",
    "from sklearn.metrics import plot_roc_curve\n",
    "from sklearn.metrics import plot_confusion_matrix\n",
    "from sklearn.metrics import confusion_matrix"
   ]
  },
  {
   "cell_type": "code",
   "execution_count": 59,
   "metadata": {
    "scrolled": false
   },
   "outputs": [
    {
     "name": "stderr",
     "output_type": "stream",
     "text": [
      "/Users/valeriehuang/opt/anaconda3/lib/python3.8/site-packages/sklearn/linear_model/_logistic.py:762: ConvergenceWarning: lbfgs failed to converge (status=1):\n",
      "STOP: TOTAL NO. of ITERATIONS REACHED LIMIT.\n",
      "\n",
      "Increase the number of iterations (max_iter) or scale the data as shown in:\n",
      "    https://scikit-learn.org/stable/modules/preprocessing.html\n",
      "Please also refer to the documentation for alternative solver options:\n",
      "    https://scikit-learn.org/stable/modules/linear_model.html#logistic-regression\n",
      "  n_iter_i = _check_optimize_result(\n"
     ]
    },
    {
     "data": {
      "text/plain": [
       "LogisticRegression()"
      ]
     },
     "execution_count": 59,
     "metadata": {},
     "output_type": "execute_result"
    }
   ],
   "source": [
    "lr_cv = LogisticRegression()\n",
    "lr_cv.fit(X_train_cv, y_train)"
   ]
  },
  {
   "cell_type": "code",
   "execution_count": 61,
   "metadata": {},
   "outputs": [
    {
     "data": {
      "text/plain": [
       "array([[19747,   137],\n",
       "       [ 2603,  1174]])"
      ]
     },
     "execution_count": 61,
     "metadata": {},
     "output_type": "execute_result"
    }
   ],
   "source": [
    "confusion_matrix(y_test, lr_cv.predict(X_test_cv))"
   ]
  },
  {
   "cell_type": "code",
   "execution_count": 64,
   "metadata": {},
   "outputs": [
    {
     "data": {
      "image/png": "[encoded data removed]",
      "text/plain": [
       "<Figure size 432x288 with 2 Axes>"
      ]
     },
     "metadata": {
      "needs_background": "light"
     },
     "output_type": "display_data"
    }
   ],
   "source": [
    "matrix = plot_confusion_matrix(lr_cv, X_test_cv, y_test,\n",
    "                                 cmap=plt.cm.Blues,\n",
    "                                 normalize='true')\n",
    "plt.title('Confusion matrix for LR CV')\n",
    "plt.show(matrix)\n",
    "plt.show()"
   ]
  },
  {
   "cell_type": "code",
   "execution_count": 34,
   "metadata": {},
   "outputs": [
    {
     "data": {
      "text/plain": [
       "MultinomialNB()"
      ]
     },
     "execution_count": 34,
     "metadata": {},
     "output_type": "execute_result"
    }
   ],
   "source": [
    "mnb_cv = MultinomialNB()\n",
    "mnb_cv.fit(X_train_cv, y_train)"
   ]
  },
  {
   "cell_type": "code",
   "execution_count": 62,
   "metadata": {},
   "outputs": [
    {
     "data": {
      "text/plain": [
       "array([[19329,   555],\n",
       "       [ 2072,  1705]])"
      ]
     },
     "execution_count": 62,
     "metadata": {},
     "output_type": "execute_result"
    }
   ],
   "source": [
    "confusion_matrix(y_test, mnb_cv.predict(X_test_cv))"
   ]
  },
  {
   "cell_type": "code",
   "execution_count": 70,
   "metadata": {},
   "outputs": [
    {
     "data": {
      "image/png": "[encoded data removed]",
      "text/plain": [
       "<Figure size 432x288 with 2 Axes>"
      ]
     },
     "metadata": {
      "needs_background": "light"
     },
     "output_type": "display_data"
    }
   ],
   "source": [
    "matrix = plot_confusion_matrix(mnb_cv, X_test_cv, y_test,\n",
    "                                 cmap=plt.cm.Blues,\n",
    "                                 normalize='true')\n",
    "plt.title('Confusion matrix for MNB CV')\n",
    "plt.show(matrix)\n",
    "plt.show()"
   ]
  },
  {
   "cell_type": "code",
   "execution_count": 35,
   "metadata": {},
   "outputs": [
    {
     "data": {
      "image/png": "[encoded data removed]",
      "text/plain": [
       "<Figure size 432x288 with 1 Axes>"
      ]
     },
     "metadata": {
      "needs_background": "light"
     },
     "output_type": "display_data"
    },
    {
     "data": {
      "image/png": "[encoded data removed]",
      "text/plain": [
       "<Figure size 432x288 with 1 Axes>"
      ]
     },
     "metadata": {
      "needs_background": "light"
     },
     "output_type": "display_data"
    }
   ],
   "source": [
    "plot_roc_curve(lr_cv, X_test_cv, y_test)\n",
    "plot_roc_curve(mnb_cv, X_test_cv, y_test)\n",
    "plt.show()"
   ]
  },
  {
   "cell_type": "code",
   "execution_count": 36,
   "metadata": {},
   "outputs": [
    {
     "name": "stdout",
     "output_type": "stream",
     "text": [
      "Fitting TF-IDF Vectorizer\n",
      "Transforming Datasets\n"
     ]
    }
   ],
   "source": [
    "print(\"Fitting TF-IDF Vectorizer\")\n",
    "tfidf.fit(X_train)\n",
    "print(\"Transforming Datasets\")\n",
    "X_train_tfidf = tfidf.transform(X_train)\n",
    "X_test_tfidf = tfidf.transform(X_test)"
   ]
  },
  {
   "cell_type": "code",
   "execution_count": 37,
   "metadata": {
    "scrolled": false
   },
   "outputs": [
    {
     "name": "stderr",
     "output_type": "stream",
     "text": [
      "/Users/valeriehuang/opt/anaconda3/lib/python3.8/site-packages/sklearn/linear_model/_logistic.py:762: ConvergenceWarning: lbfgs failed to converge (status=1):\n",
      "STOP: TOTAL NO. of ITERATIONS REACHED LIMIT.\n",
      "\n",
      "Increase the number of iterations (max_iter) or scale the data as shown in:\n",
      "    https://scikit-learn.org/stable/modules/preprocessing.html\n",
      "Please also refer to the documentation for alternative solver options:\n",
      "    https://scikit-learn.org/stable/modules/linear_model.html#logistic-regression\n",
      "  n_iter_i = _check_optimize_result(\n"
     ]
    },
    {
     "data": {
      "text/plain": [
       "LogisticRegression()"
      ]
     },
     "execution_count": 37,
     "metadata": {},
     "output_type": "execute_result"
    }
   ],
   "source": [
    "lr_tfidf = LogisticRegression()\n",
    "lr_tfidf.fit(X_train_tfidf, y_train)"
   ]
  },
  {
   "cell_type": "code",
   "execution_count": 67,
   "metadata": {},
   "outputs": [
    {
     "data": {
      "text/plain": [
       "array([[18273,  1611],\n",
       "       [ 1498,  2279]])"
      ]
     },
     "execution_count": 67,
     "metadata": {},
     "output_type": "execute_result"
    }
   ],
   "source": [
    "confusion_matrix(y_test, lr_tfidf.predict(X_test_cv))"
   ]
  },
  {
   "cell_type": "code",
   "execution_count": 71,
   "metadata": {},
   "outputs": [
    {
     "data": {
      "image/png": "[encoded data removed]",
      "text/plain": [
       "<Figure size 432x288 with 2 Axes>"
      ]
     },
     "metadata": {
      "needs_background": "light"
     },
     "output_type": "display_data"
    }
   ],
   "source": [
    "matrix = plot_confusion_matrix(lr_tfidf, X_test_cv, y_test,\n",
    "                                 cmap=plt.cm.Blues,\n",
    "                                 normalize='true')\n",
    "plt.title('Confusion matrix for LR Tfidf')\n",
    "plt.show(matrix)\n",
    "plt.show()"
   ]
  },
  {
   "cell_type": "code",
   "execution_count": 38,
   "metadata": {},
   "outputs": [
    {
     "data": {
      "image/png": "[encoded data removed]",
      "text/plain": [
       "<Figure size 432x288 with 1 Axes>"
      ]
     },
     "metadata": {
      "needs_background": "light"
     },
     "output_type": "display_data"
    }
   ],
   "source": [
    "plot_roc_curve(lr_tfidf, X_test_tfidf, y_test)\n",
    "plt.show()"
   ]
  },
  {
   "cell_type": "code",
   "execution_count": 39,
   "metadata": {},
   "outputs": [
    {
     "name": "stdout",
     "output_type": "stream",
     "text": [
      "Fitting Binary Count Vectorizer\n",
      "Transforming Datasets\n"
     ]
    }
   ],
   "source": [
    "print(\"Fitting Binary Count Vectorizer\")\n",
    "binary.fit(X_train)\n",
    "print(\"Transforming Datasets\")\n",
    "X_train_binary = binary.transform(X_train)\n",
    "X_test_binary = binary.transform(X_test)"
   ]
  },
  {
   "cell_type": "code",
   "execution_count": 40,
   "metadata": {
    "scrolled": false
   },
   "outputs": [
    {
     "name": "stderr",
     "output_type": "stream",
     "text": [
      "/Users/valeriehuang/opt/anaconda3/lib/python3.8/site-packages/sklearn/linear_model/_logistic.py:762: ConvergenceWarning: lbfgs failed to converge (status=1):\n",
      "STOP: TOTAL NO. of ITERATIONS REACHED LIMIT.\n",
      "\n",
      "Increase the number of iterations (max_iter) or scale the data as shown in:\n",
      "    https://scikit-learn.org/stable/modules/preprocessing.html\n",
      "Please also refer to the documentation for alternative solver options:\n",
      "    https://scikit-learn.org/stable/modules/linear_model.html#logistic-regression\n",
      "  n_iter_i = _check_optimize_result(\n"
     ]
    },
    {
     "data": {
      "text/plain": [
       "LogisticRegression()"
      ]
     },
     "execution_count": 40,
     "metadata": {},
     "output_type": "execute_result"
    }
   ],
   "source": [
    "lr_binary = LogisticRegression()\n",
    "lr_binary.fit(X_train_binary, y_train)"
   ]
  },
  {
   "cell_type": "code",
   "execution_count": 68,
   "metadata": {},
   "outputs": [
    {
     "data": {
      "text/plain": [
       "array([[19742,   142],\n",
       "       [ 2598,  1179]])"
      ]
     },
     "execution_count": 68,
     "metadata": {},
     "output_type": "execute_result"
    }
   ],
   "source": [
    "confusion_matrix(y_test, lr_binary.predict(X_test_cv))"
   ]
  },
  {
   "cell_type": "code",
   "execution_count": 72,
   "metadata": {},
   "outputs": [
    {
     "data": {
      "image/png": "[encoded data removed]",
      "text/plain": [
       "<Figure size 432x288 with 2 Axes>"
      ]
     },
     "metadata": {
      "needs_background": "light"
     },
     "output_type": "display_data"
    }
   ],
   "source": [
    "matrix = plot_confusion_matrix(lr_binary, X_test_cv, y_test,\n",
    "                                 cmap=plt.cm.Blues,\n",
    "                                 normalize='true')\n",
    "plt.title('Confusion matrix for LR Binary')\n",
    "plt.show(matrix)\n",
    "plt.show()"
   ]
  },
  {
   "cell_type": "code",
   "execution_count": 41,
   "metadata": {},
   "outputs": [
    {
     "data": {
      "text/plain": [
       "MultinomialNB()"
      ]
     },
     "execution_count": 41,
     "metadata": {},
     "output_type": "execute_result"
    }
   ],
   "source": [
    "mnb_binary = MultinomialNB()\n",
    "mnb_binary.fit(X_train_binary, y_train)"
   ]
  },
  {
   "cell_type": "code",
   "execution_count": 74,
   "metadata": {},
   "outputs": [
    {
     "data": {
      "text/plain": [
       "array([[19319,   565],\n",
       "       [ 2066,  1711]])"
      ]
     },
     "execution_count": 74,
     "metadata": {},
     "output_type": "execute_result"
    }
   ],
   "source": [
    "confusion_matrix(y_test, mnb_binary.predict(X_test_cv))"
   ]
  },
  {
   "cell_type": "code",
   "execution_count": 78,
   "metadata": {},
   "outputs": [
    {
     "data": {
      "image/png": "[encoded data removed]",
      "text/plain": [
       "<Figure size 432x288 with 2 Axes>"
      ]
     },
     "metadata": {
      "needs_background": "light"
     },
     "output_type": "display_data"
    }
   ],
   "source": [
    "matrix = plot_confusion_matrix(mnb_binary, X_test_cv, y_test,\n",
    "                                 cmap=plt.cm.Blues,\n",
    "                                 normalize='true')\n",
    "plt.title('Confusion matrix for MNB Binary')\n",
    "plt.show(matrix)\n",
    "plt.show()"
   ]
  },
  {
   "cell_type": "code",
   "execution_count": 42,
   "metadata": {},
   "outputs": [
    {
     "data": {
      "text/plain": [
       "BernoulliNB()"
      ]
     },
     "execution_count": 42,
     "metadata": {},
     "output_type": "execute_result"
    }
   ],
   "source": [
    "bernoulli_binary = BernoulliNB()\n",
    "bernoulli_binary.fit(X_train_binary, y_train)"
   ]
  },
  {
   "cell_type": "code",
   "execution_count": 77,
   "metadata": {},
   "outputs": [
    {
     "data": {
      "text/plain": [
       "array([[19426,   458],\n",
       "       [ 2214,  1563]])"
      ]
     },
     "execution_count": 77,
     "metadata": {},
     "output_type": "execute_result"
    }
   ],
   "source": [
    "confusion_matrix(y_test, bernoulli_binary.predict(X_test_cv))"
   ]
  },
  {
   "cell_type": "code",
   "execution_count": 79,
   "metadata": {},
   "outputs": [
    {
     "data": {
      "image/png": "[encoded data removed]",
      "text/plain": [
       "<Figure size 432x288 with 2 Axes>"
      ]
     },
     "metadata": {
      "needs_background": "light"
     },
     "output_type": "display_data"
    }
   ],
   "source": [
    "matrix = plot_confusion_matrix(bernoulli_binary, X_test_cv, y_test,\n",
    "                                 cmap=plt.cm.Blues,\n",
    "                                 normalize='true')\n",
    "plt.title('Confusion matrix for LR Binary')\n",
    "plt.show(matrix)\n",
    "plt.show()"
   ]
  },
  {
   "cell_type": "code",
   "execution_count": 43,
   "metadata": {},
   "outputs": [
    {
     "data": {
      "image/png": "[encoded data removed]",
      "text/plain": [
       "<Figure size 432x288 with 1 Axes>"
      ]
     },
     "metadata": {
      "needs_background": "light"
     },
     "output_type": "display_data"
    },
    {
     "data": {
      "image/png": "[encoded data removed]",
      "text/plain": [
       "<Figure size 432x288 with 1 Axes>"
      ]
     },
     "metadata": {
      "needs_background": "light"
     },
     "output_type": "display_data"
    },
    {
     "data": {
      "image/png": "[encoded data removed]",
      "text/plain": [
       "<Figure size 432x288 with 1 Axes>"
      ]
     },
     "metadata": {
      "needs_background": "light"
     },
     "output_type": "display_data"
    }
   ],
   "source": [
    "plot_roc_curve(lr_binary, X_test_binary, y_test)\n",
    "plot_roc_curve(mnb_binary, X_test_binary, y_test)\n",
    "plot_roc_curve(bernoulli_binary, X_test_binary, y_test)\n",
    "plt.show()"
   ]
  },
  {
   "cell_type": "code",
   "execution_count": 208,
   "metadata": {},
   "outputs": [],
   "source": [
    "reverse_vocab = {}\n",
    "\n",
    "for key in cv_vocab.keys():\n",
    "    reverse_vocab[cv_vocab[key]] = key"
   ]
  },
  {
   "cell_type": "code",
   "execution_count": 209,
   "metadata": {},
   "outputs": [],
   "source": [
    "coef_dicts = []\n",
    "for i, coef_ in enumerate(list(lr.coef_[0,:])):\n",
    "    coef_dict = {'index':i, 'word': reverse_vocab[i], 'coef': coef_}\n",
    "    coef_dicts.append(coef_dict)"
   ]
  },
  {
   "cell_type": "code",
   "execution_count": 210,
   "metadata": {},
   "outputs": [],
   "source": [
    "coef_pd = pd.DataFrame(coef_dicts)"
   ]
  },
  {
   "cell_type": "code",
   "execution_count": 214,
   "metadata": {},
   "outputs": [
    {
     "data": {
      "text/html": [
       "<div>\n",
       "<style scoped>\n",
       "    .dataframe tbody tr th:only-of-type {\n",
       "        vertical-align: middle;\n",
       "    }\n",
       "\n",
       "    .dataframe tbody tr th {\n",
       "        vertical-align: top;\n",
       "    }\n",
       "\n",
       "    .dataframe thead th {\n",
       "        text-align: right;\n",
       "    }\n",
       "</style>\n",
       "<table border=\"1\" class=\"dataframe\">\n",
       "  <thead>\n",
       "    <tr style=\"text-align: right;\">\n",
       "      <th></th>\n",
       "      <th>index</th>\n",
       "      <th>word</th>\n",
       "      <th>coef</th>\n",
       "      <th>abs_coef</th>\n",
       "    </tr>\n",
       "  </thead>\n",
       "  <tbody>\n",
       "    <tr>\n",
       "      <th>22558</th>\n",
       "      <td>22558</td>\n",
       "      <td>onion</td>\n",
       "      <td>8.993871e+00</td>\n",
       "      <td>8.993871e+00</td>\n",
       "    </tr>\n",
       "    <tr>\n",
       "      <th>12725</th>\n",
       "      <td>12725</td>\n",
       "      <td>fucking</td>\n",
       "      <td>8.725978e+00</td>\n",
       "      <td>8.725978e+00</td>\n",
       "    </tr>\n",
       "    <tr>\n",
       "      <th>36063</th>\n",
       "      <td>36063</td>\n",
       "      <td>wow</td>\n",
       "      <td>7.938449e+00</td>\n",
       "      <td>7.938449e+00</td>\n",
       "    </tr>\n",
       "    <tr>\n",
       "      <th>12723</th>\n",
       "      <td>12723</td>\n",
       "      <td>fuck</td>\n",
       "      <td>7.443771e+00</td>\n",
       "      <td>7.443771e+00</td>\n",
       "    </tr>\n",
       "    <tr>\n",
       "      <th>31944</th>\n",
       "      <td>31944</td>\n",
       "      <td>things know</td>\n",
       "      <td>7.438019e+00</td>\n",
       "      <td>7.438019e+00</td>\n",
       "    </tr>\n",
       "    <tr>\n",
       "      <th>...</th>\n",
       "      <td>...</td>\n",
       "      <td>...</td>\n",
       "      <td>...</td>\n",
       "      <td>...</td>\n",
       "    </tr>\n",
       "    <tr>\n",
       "      <th>32671</th>\n",
       "      <td>32671</td>\n",
       "      <td>trayvon</td>\n",
       "      <td>2.740854e-04</td>\n",
       "      <td>2.740854e-04</td>\n",
       "    </tr>\n",
       "    <tr>\n",
       "      <th>30521</th>\n",
       "      <td>30521</td>\n",
       "      <td>strategist</td>\n",
       "      <td>2.678270e-04</td>\n",
       "      <td>2.678270e-04</td>\n",
       "    </tr>\n",
       "    <tr>\n",
       "      <th>14102</th>\n",
       "      <td>14102</td>\n",
       "      <td>half americans</td>\n",
       "      <td>-1.841803e-04</td>\n",
       "      <td>1.841803e-04</td>\n",
       "    </tr>\n",
       "    <tr>\n",
       "      <th>3002</th>\n",
       "      <td>3002</td>\n",
       "      <td>bald</td>\n",
       "      <td>3.588023e-05</td>\n",
       "      <td>3.588023e-05</td>\n",
       "    </tr>\n",
       "    <tr>\n",
       "      <th>14072</th>\n",
       "      <td>14072</td>\n",
       "      <td>hail</td>\n",
       "      <td>1.618068e-07</td>\n",
       "      <td>1.618068e-07</td>\n",
       "    </tr>\n",
       "  </tbody>\n",
       "</table>\n",
       "<p>36437 rows × 4 columns</p>\n",
       "</div>"
      ],
      "text/plain": [
       "       index            word          coef      abs_coef\n",
       "22558  22558           onion  8.993871e+00  8.993871e+00\n",
       "12725  12725         fucking  8.725978e+00  8.725978e+00\n",
       "36063  36063             wow  7.938449e+00  7.938449e+00\n",
       "12723  12723            fuck  7.443771e+00  7.443771e+00\n",
       "31944  31944     things know  7.438019e+00  7.438019e+00\n",
       "...      ...             ...           ...           ...\n",
       "32671  32671         trayvon  2.740854e-04  2.740854e-04\n",
       "30521  30521      strategist  2.678270e-04  2.678270e-04\n",
       "14102  14102  half americans -1.841803e-04  1.841803e-04\n",
       "3002    3002            bald  3.588023e-05  3.588023e-05\n",
       "14072  14072            hail  1.618068e-07  1.618068e-07\n",
       "\n",
       "[36437 rows x 4 columns]"
      ]
     },
     "execution_count": 214,
     "metadata": {},
     "output_type": "execute_result"
    }
   ],
   "source": [
    "coef_pd['abs_coef'] = coef_pd['coef'].apply(lambda x: abs(x))\n",
    "coef_pd.sort_values('abs_coef', ascending=False)[:10]"
   ]
  },
  {
   "cell_type": "code",
   "execution_count": 222,
   "metadata": {},
   "outputs": [
    {
     "data": {
      "text/html": [
       "<div>\n",
       "<style scoped>\n",
       "    .dataframe tbody tr th:only-of-type {\n",
       "        vertical-align: middle;\n",
       "    }\n",
       "\n",
       "    .dataframe tbody tr th {\n",
       "        vertical-align: top;\n",
       "    }\n",
       "\n",
       "    .dataframe thead th {\n",
       "        text-align: right;\n",
       "    }\n",
       "</style>\n",
       "<table border=\"1\" class=\"dataframe\">\n",
       "  <thead>\n",
       "    <tr style=\"text-align: right;\">\n",
       "      <th></th>\n",
       "      <th>index</th>\n",
       "      <th>word</th>\n",
       "      <th>coef</th>\n",
       "      <th>abs_coef</th>\n",
       "    </tr>\n",
       "  </thead>\n",
       "  <tbody>\n",
       "    <tr>\n",
       "      <th>22558</th>\n",
       "      <td>22558</td>\n",
       "      <td>onion</td>\n",
       "      <td>8.993871</td>\n",
       "      <td>8.993871</td>\n",
       "    </tr>\n",
       "    <tr>\n",
       "      <th>12725</th>\n",
       "      <td>12725</td>\n",
       "      <td>fucking</td>\n",
       "      <td>8.725978</td>\n",
       "      <td>8.725978</td>\n",
       "    </tr>\n",
       "    <tr>\n",
       "      <th>36063</th>\n",
       "      <td>36063</td>\n",
       "      <td>wow</td>\n",
       "      <td>7.938449</td>\n",
       "      <td>7.938449</td>\n",
       "    </tr>\n",
       "    <tr>\n",
       "      <th>12723</th>\n",
       "      <td>12723</td>\n",
       "      <td>fuck</td>\n",
       "      <td>7.443771</td>\n",
       "      <td>7.443771</td>\n",
       "    </tr>\n",
       "    <tr>\n",
       "      <th>31944</th>\n",
       "      <td>31944</td>\n",
       "      <td>things know</td>\n",
       "      <td>7.438019</td>\n",
       "      <td>7.438019</td>\n",
       "    </tr>\n",
       "    <tr>\n",
       "      <th>28968</th>\n",
       "      <td>28968</td>\n",
       "      <td>shit</td>\n",
       "      <td>6.585732</td>\n",
       "      <td>6.585732</td>\n",
       "    </tr>\n",
       "    <tr>\n",
       "      <th>32217</th>\n",
       "      <td>32217</td>\n",
       "      <td>tips</td>\n",
       "      <td>6.239879</td>\n",
       "      <td>6.239879</td>\n",
       "    </tr>\n",
       "    <tr>\n",
       "      <th>4309</th>\n",
       "      <td>4309</td>\n",
       "      <td>boyfriend</td>\n",
       "      <td>5.950183</td>\n",
       "      <td>5.950183</td>\n",
       "    </tr>\n",
       "    <tr>\n",
       "      <th>15061</th>\n",
       "      <td>15061</td>\n",
       "      <td>horoscopes week</td>\n",
       "      <td>5.889302</td>\n",
       "      <td>5.889302</td>\n",
       "    </tr>\n",
       "    <tr>\n",
       "      <th>15060</th>\n",
       "      <td>15060</td>\n",
       "      <td>horoscopes</td>\n",
       "      <td>5.876472</td>\n",
       "      <td>5.876472</td>\n",
       "    </tr>\n",
       "    <tr>\n",
       "      <th>35732</th>\n",
       "      <td>35732</td>\n",
       "      <td>woman</td>\n",
       "      <td>5.788357</td>\n",
       "      <td>5.788357</td>\n",
       "    </tr>\n",
       "    <tr>\n",
       "      <th>32933</th>\n",
       "      <td>32933</td>\n",
       "      <td>trump boys</td>\n",
       "      <td>5.658890</td>\n",
       "      <td>5.658890</td>\n",
       "    </tr>\n",
       "    <tr>\n",
       "      <th>32183</th>\n",
       "      <td>32183</td>\n",
       "      <td>timeline</td>\n",
       "      <td>5.454912</td>\n",
       "      <td>5.454912</td>\n",
       "    </tr>\n",
       "    <tr>\n",
       "      <th>2624</th>\n",
       "      <td>2624</td>\n",
       "      <td>australia</td>\n",
       "      <td>-5.443234</td>\n",
       "      <td>5.443234</td>\n",
       "    </tr>\n",
       "    <tr>\n",
       "      <th>9028</th>\n",
       "      <td>9028</td>\n",
       "      <td>dick</td>\n",
       "      <td>5.346948</td>\n",
       "      <td>5.346948</td>\n",
       "    </tr>\n",
       "    <tr>\n",
       "      <th>23829</th>\n",
       "      <td>23829</td>\n",
       "      <td>pictures week</td>\n",
       "      <td>5.189591</td>\n",
       "      <td>5.189591</td>\n",
       "    </tr>\n",
       "    <tr>\n",
       "      <th>35218</th>\n",
       "      <td>35218</td>\n",
       "      <td>week pictures week</td>\n",
       "      <td>5.189591</td>\n",
       "      <td>5.189591</td>\n",
       "    </tr>\n",
       "    <tr>\n",
       "      <th>3777</th>\n",
       "      <td>3777</td>\n",
       "      <td>bitch</td>\n",
       "      <td>5.106414</td>\n",
       "      <td>5.106414</td>\n",
       "    </tr>\n",
       "    <tr>\n",
       "      <th>35217</th>\n",
       "      <td>35217</td>\n",
       "      <td>week pictures</td>\n",
       "      <td>5.046456</td>\n",
       "      <td>5.046456</td>\n",
       "    </tr>\n",
       "    <tr>\n",
       "      <th>21162</th>\n",
       "      <td>21162</td>\n",
       "      <td>nation</td>\n",
       "      <td>4.979778</td>\n",
       "      <td>4.979778</td>\n",
       "    </tr>\n",
       "    <tr>\n",
       "      <th>2671</th>\n",
       "      <td>2671</td>\n",
       "      <td>australian</td>\n",
       "      <td>-4.952031</td>\n",
       "      <td>4.952031</td>\n",
       "    </tr>\n",
       "    <tr>\n",
       "      <th>25868</th>\n",
       "      <td>25868</td>\n",
       "      <td>realizing</td>\n",
       "      <td>4.844943</td>\n",
       "      <td>4.844943</td>\n",
       "    </tr>\n",
       "    <tr>\n",
       "      <th>24176</th>\n",
       "      <td>24176</td>\n",
       "      <td>police</td>\n",
       "      <td>-4.720834</td>\n",
       "      <td>4.720834</td>\n",
       "    </tr>\n",
       "    <tr>\n",
       "      <th>34069</th>\n",
       "      <td>34069</td>\n",
       "      <td>unveils</td>\n",
       "      <td>4.716037</td>\n",
       "      <td>4.716037</td>\n",
       "    </tr>\n",
       "    <tr>\n",
       "      <th>26420</th>\n",
       "      <td>26420</td>\n",
       "      <td>report</td>\n",
       "      <td>4.663050</td>\n",
       "      <td>4.663050</td>\n",
       "    </tr>\n",
       "    <tr>\n",
       "      <th>16116</th>\n",
       "      <td>16116</td>\n",
       "      <td>introduces</td>\n",
       "      <td>4.599096</td>\n",
       "      <td>4.599096</td>\n",
       "    </tr>\n",
       "    <tr>\n",
       "      <th>2811</th>\n",
       "      <td>2811</td>\n",
       "      <td>aw</td>\n",
       "      <td>4.567821</td>\n",
       "      <td>4.567821</td>\n",
       "    </tr>\n",
       "    <tr>\n",
       "      <th>34685</th>\n",
       "      <td>34685</td>\n",
       "      <td>wa</td>\n",
       "      <td>-4.555058</td>\n",
       "      <td>4.555058</td>\n",
       "    </tr>\n",
       "    <tr>\n",
       "      <th>18521</th>\n",
       "      <td>18521</td>\n",
       "      <td>ll</td>\n",
       "      <td>4.541499</td>\n",
       "      <td>4.541499</td>\n",
       "    </tr>\n",
       "    <tr>\n",
       "      <th>1870</th>\n",
       "      <td>1870</td>\n",
       "      <td>announces</td>\n",
       "      <td>4.539321</td>\n",
       "      <td>4.539321</td>\n",
       "    </tr>\n",
       "    <tr>\n",
       "      <th>25510</th>\n",
       "      <td>25510</td>\n",
       "      <td>quiz</td>\n",
       "      <td>4.493214</td>\n",
       "      <td>4.493214</td>\n",
       "    </tr>\n",
       "    <tr>\n",
       "      <th>31144</th>\n",
       "      <td>31144</td>\n",
       "      <td>sydney</td>\n",
       "      <td>-4.414332</td>\n",
       "      <td>4.414332</td>\n",
       "    </tr>\n",
       "    <tr>\n",
       "      <th>12680</th>\n",
       "      <td>12680</td>\n",
       "      <td>friend</td>\n",
       "      <td>4.329906</td>\n",
       "      <td>4.329906</td>\n",
       "    </tr>\n",
       "    <tr>\n",
       "      <th>2375</th>\n",
       "      <td>2375</td>\n",
       "      <td>ass</td>\n",
       "      <td>4.319201</td>\n",
       "      <td>4.319201</td>\n",
       "    </tr>\n",
       "    <tr>\n",
       "      <th>22113</th>\n",
       "      <td>22113</td>\n",
       "      <td>nsw</td>\n",
       "      <td>-4.311990</td>\n",
       "      <td>4.311990</td>\n",
       "    </tr>\n",
       "    <tr>\n",
       "      <th>34199</th>\n",
       "      <td>34199</td>\n",
       "      <td>vagina</td>\n",
       "      <td>4.272645</td>\n",
       "      <td>4.272645</td>\n",
       "    </tr>\n",
       "    <tr>\n",
       "      <th>25427</th>\n",
       "      <td>25427</td>\n",
       "      <td>queensland</td>\n",
       "      <td>-4.230199</td>\n",
       "      <td>4.230199</td>\n",
       "    </tr>\n",
       "    <tr>\n",
       "      <th>12724</th>\n",
       "      <td>12724</td>\n",
       "      <td>fucked</td>\n",
       "      <td>4.178779</td>\n",
       "      <td>4.178779</td>\n",
       "    </tr>\n",
       "    <tr>\n",
       "      <th>16949</th>\n",
       "      <td>16949</td>\n",
       "      <td>just</td>\n",
       "      <td>4.170996</td>\n",
       "      <td>4.170996</td>\n",
       "    </tr>\n",
       "    <tr>\n",
       "      <th>7898</th>\n",
       "      <td>7898</td>\n",
       "      <td>cum</td>\n",
       "      <td>4.155994</td>\n",
       "      <td>4.155994</td>\n",
       "    </tr>\n",
       "    <tr>\n",
       "      <th>7145</th>\n",
       "      <td>7145</td>\n",
       "      <td>constantly</td>\n",
       "      <td>4.153076</td>\n",
       "      <td>4.153076</td>\n",
       "    </tr>\n",
       "    <tr>\n",
       "      <th>7981</th>\n",
       "      <td>7981</td>\n",
       "      <td>cute</td>\n",
       "      <td>4.151870</td>\n",
       "      <td>4.151870</td>\n",
       "    </tr>\n",
       "    <tr>\n",
       "      <th>2412</th>\n",
       "      <td>2412</td>\n",
       "      <td>asshole</td>\n",
       "      <td>4.133857</td>\n",
       "      <td>4.133857</td>\n",
       "    </tr>\n",
       "    <tr>\n",
       "      <th>1864</th>\n",
       "      <td>1864</td>\n",
       "      <td>announce</td>\n",
       "      <td>4.113001</td>\n",
       "      <td>4.113001</td>\n",
       "    </tr>\n",
       "    <tr>\n",
       "      <th>27956</th>\n",
       "      <td>27956</td>\n",
       "      <td>says man</td>\n",
       "      <td>4.098151</td>\n",
       "      <td>4.098151</td>\n",
       "    </tr>\n",
       "    <tr>\n",
       "      <th>4317</th>\n",
       "      <td>4317</td>\n",
       "      <td>bra</td>\n",
       "      <td>4.084893</td>\n",
       "      <td>4.084893</td>\n",
       "    </tr>\n",
       "    <tr>\n",
       "      <th>19861</th>\n",
       "      <td>19861</td>\n",
       "      <td>melbourne</td>\n",
       "      <td>-4.069138</td>\n",
       "      <td>4.069138</td>\n",
       "    </tr>\n",
       "    <tr>\n",
       "      <th>25076</th>\n",
       "      <td>25076</td>\n",
       "      <td>pros cons</td>\n",
       "      <td>4.050641</td>\n",
       "      <td>4.050641</td>\n",
       "    </tr>\n",
       "    <tr>\n",
       "      <th>2022</th>\n",
       "      <td>2022</td>\n",
       "      <td>apologizes</td>\n",
       "      <td>4.042723</td>\n",
       "      <td>4.042723</td>\n",
       "    </tr>\n",
       "    <tr>\n",
       "      <th>5123</th>\n",
       "      <td>5123</td>\n",
       "      <td>canberra</td>\n",
       "      <td>-4.030991</td>\n",
       "      <td>4.030991</td>\n",
       "    </tr>\n",
       "  </tbody>\n",
       "</table>\n",
       "</div>"
      ],
      "text/plain": [
       "       index                word      coef  abs_coef\n",
       "22558  22558               onion  8.993871  8.993871\n",
       "12725  12725             fucking  8.725978  8.725978\n",
       "36063  36063                 wow  7.938449  7.938449\n",
       "12723  12723                fuck  7.443771  7.443771\n",
       "31944  31944         things know  7.438019  7.438019\n",
       "28968  28968                shit  6.585732  6.585732\n",
       "32217  32217                tips  6.239879  6.239879\n",
       "4309    4309           boyfriend  5.950183  5.950183\n",
       "15061  15061     horoscopes week  5.889302  5.889302\n",
       "15060  15060          horoscopes  5.876472  5.876472\n",
       "35732  35732               woman  5.788357  5.788357\n",
       "32933  32933          trump boys  5.658890  5.658890\n",
       "32183  32183            timeline  5.454912  5.454912\n",
       "2624    2624           australia -5.443234  5.443234\n",
       "9028    9028                dick  5.346948  5.346948\n",
       "23829  23829       pictures week  5.189591  5.189591\n",
       "35218  35218  week pictures week  5.189591  5.189591\n",
       "3777    3777               bitch  5.106414  5.106414\n",
       "35217  35217       week pictures  5.046456  5.046456\n",
       "21162  21162              nation  4.979778  4.979778\n",
       "2671    2671          australian -4.952031  4.952031\n",
       "25868  25868           realizing  4.844943  4.844943\n",
       "24176  24176              police -4.720834  4.720834\n",
       "34069  34069             unveils  4.716037  4.716037\n",
       "26420  26420              report  4.663050  4.663050\n",
       "16116  16116          introduces  4.599096  4.599096\n",
       "2811    2811                  aw  4.567821  4.567821\n",
       "34685  34685                  wa -4.555058  4.555058\n",
       "18521  18521                  ll  4.541499  4.541499\n",
       "1870    1870           announces  4.539321  4.539321\n",
       "25510  25510                quiz  4.493214  4.493214\n",
       "31144  31144              sydney -4.414332  4.414332\n",
       "12680  12680              friend  4.329906  4.329906\n",
       "2375    2375                 ass  4.319201  4.319201\n",
       "22113  22113                 nsw -4.311990  4.311990\n",
       "34199  34199              vagina  4.272645  4.272645\n",
       "25427  25427          queensland -4.230199  4.230199\n",
       "12724  12724              fucked  4.178779  4.178779\n",
       "16949  16949                just  4.170996  4.170996\n",
       "7898    7898                 cum  4.155994  4.155994\n",
       "7145    7145          constantly  4.153076  4.153076\n",
       "7981    7981                cute  4.151870  4.151870\n",
       "2412    2412             asshole  4.133857  4.133857\n",
       "1864    1864            announce  4.113001  4.113001\n",
       "27956  27956            says man  4.098151  4.098151\n",
       "4317    4317                 bra  4.084893  4.084893\n",
       "19861  19861           melbourne -4.069138  4.069138\n",
       "25076  25076           pros cons  4.050641  4.050641\n",
       "2022    2022          apologizes  4.042723  4.042723\n",
       "5123    5123            canberra -4.030991  4.030991"
      ]
     },
     "execution_count": 222,
     "metadata": {},
     "output_type": "execute_result"
    }
   ],
   "source": [
    "coef_pd.sort_values('abs_coef', ascending=False)[:50]"
   ]
  },
  {
   "cell_type": "code",
   "execution_count": null,
   "metadata": {},
   "outputs": [],
   "source": []
  }
 ],
 "metadata": {
  "kernelspec": {
   "display_name": "Python 3",
   "language": "python",
   "name": "python3"
  },
  "language_info": {
   "codemirror_mode": {
    "name": "ipython",
    "version": 3
   },
   "file_extension": ".py",
   "mimetype": "text/x-python",
   "name": "python",
   "nbconvert_exporter": "python",
   "pygments_lexer": "ipython3",
   "version": "3.8.3"
  }
 },
 "nbformat": 4,
 "nbformat_minor": 4
}
