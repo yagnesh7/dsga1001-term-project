{
 "cells": [
  {
   "cell_type": "code",
   "execution_count": 79,
   "metadata": {},
   "outputs": [],
   "source": [
    "import pandas as pd\n",
    "import numpy as np\n",
    "from datetime import datetime\n",
    "import warnings\n",
    "warnings.filterwarnings(\"ignore\")"
   ]
  },
  {
   "cell_type": "code",
   "execution_count": 80,
   "metadata": {},
   "outputs": [],
   "source": [
    "Huff_abc = pd.read_csv('HuffPost+abc.csv')"
   ]
  },
  {
   "cell_type": "code",
   "execution_count": 81,
   "metadata": {},
   "outputs": [],
   "source": [
    "Huff_abc = Huff_abc.drop('Unnamed: 0', 1)"
   ]
  },
  {
   "cell_type": "code",
   "execution_count": 82,
   "metadata": {},
   "outputs": [],
   "source": [
    "NPR = pd.read_csv('NPR 2016 to 2020.csv')"
   ]
  },
  {
   "cell_type": "code",
   "execution_count": 83,
   "metadata": {},
   "outputs": [],
   "source": [
    "Onion = pd.read_csv('onion_headlines.csv')"
   ]
  },
  {
   "cell_type": "code",
   "execution_count": 84,
   "metadata": {},
   "outputs": [],
   "source": [
    "Guardian = pd.read_csv('Guardian 2017 to 2020.csv')"
   ]
  },
  {
   "cell_type": "code",
   "execution_count": 85,
   "metadata": {},
   "outputs": [],
   "source": [
    "nottheonion = pd.read_csv('nottheonion_2020.csv')"
   ]
  },
  {
   "cell_type": "code",
   "execution_count": 86,
   "metadata": {},
   "outputs": [],
   "source": [
    "Onion = Onion[['headlines','date','source']]\n",
    "Onion['is_sarcastic'] = 1\n",
    "Onion.date = pd.to_datetime(Onion.date, format='%m/%d/%Y')\n",
    "Onion.columns = ['headline','date','source','is_sarcastic']"
   ]
  },
  {
   "cell_type": "code",
   "execution_count": 87,
   "metadata": {},
   "outputs": [],
   "source": [
    "Guardian = Guardian[['title','date','source']]\n",
    "Guardian['is_sarcastic'] = 0\n",
    "Guardian.date = pd.to_datetime(Guardian.date, format='%m-%d-%Y')\n",
    "Guardian.columns = ['headline','date','source','is_sarcastic']"
   ]
  },
  {
   "cell_type": "code",
   "execution_count": 88,
   "metadata": {},
   "outputs": [],
   "source": [
    "NPR = NPR[['title','date','source']]\n",
    "NPR['is_sarcastic'] = 0\n",
    "NPR.date = pd.to_datetime(NPR.date, format='%B-%d-%Y')\n",
    "NPR.columns = ['headline','date','source','is_sarcastic']"
   ]
  },
  {
   "cell_type": "code",
   "execution_count": 89,
   "metadata": {},
   "outputs": [],
   "source": [
    "nottheonion['date'] = nottheonion['date'].apply(lambda x: datetime.utcfromtimestamp(int(x)).date())"
   ]
  },
  {
   "cell_type": "code",
   "execution_count": 90,
   "metadata": {},
   "outputs": [],
   "source": [
    "nottheonion = nottheonion[['title','date','source']]\n",
    "nottheonion['is_sarcastic'] = 0\n",
    "nottheonion.columns = ['headline','date','source','is_sarcastic']"
   ]
  },
  {
   "cell_type": "code",
   "execution_count": 91,
   "metadata": {},
   "outputs": [
    {
     "data": {
      "text/html": [
       "<div>\n",
       "<style scoped>\n",
       "    .dataframe tbody tr th:only-of-type {\n",
       "        vertical-align: middle;\n",
       "    }\n",
       "\n",
       "    .dataframe tbody tr th {\n",
       "        vertical-align: top;\n",
       "    }\n",
       "\n",
       "    .dataframe thead th {\n",
       "        text-align: right;\n",
       "    }\n",
       "</style>\n",
       "<table border=\"1\" class=\"dataframe\">\n",
       "  <thead>\n",
       "    <tr style=\"text-align: right;\">\n",
       "      <th></th>\n",
       "      <th>headline</th>\n",
       "      <th>date</th>\n",
       "      <th>source</th>\n",
       "      <th>is_sarcastic</th>\n",
       "    </tr>\n",
       "  </thead>\n",
       "  <tbody>\n",
       "    <tr>\n",
       "      <th>0</th>\n",
       "      <td>former versace store clerk sues over secret 'b...</td>\n",
       "      <td>2019-01-01</td>\n",
       "      <td>Huffington Post</td>\n",
       "      <td>0</td>\n",
       "    </tr>\n",
       "    <tr>\n",
       "      <th>1</th>\n",
       "      <td>the 'roseanne' revival catches up to our thorn...</td>\n",
       "      <td>2019-01-01</td>\n",
       "      <td>Huffington Post</td>\n",
       "      <td>0</td>\n",
       "    </tr>\n",
       "    <tr>\n",
       "      <th>2</th>\n",
       "      <td>j.k. rowling wishes snape happy birthday in th...</td>\n",
       "      <td>2019-01-01</td>\n",
       "      <td>Huffington Post</td>\n",
       "      <td>0</td>\n",
       "    </tr>\n",
       "    <tr>\n",
       "      <th>3</th>\n",
       "      <td>advancing the world's women</td>\n",
       "      <td>2019-01-01</td>\n",
       "      <td>Huffington Post</td>\n",
       "      <td>0</td>\n",
       "    </tr>\n",
       "    <tr>\n",
       "      <th>4</th>\n",
       "      <td>the fascinating case for eating lab-grown meat</td>\n",
       "      <td>2019-01-01</td>\n",
       "      <td>Huffington Post</td>\n",
       "      <td>0</td>\n",
       "    </tr>\n",
       "    <tr>\n",
       "      <th>...</th>\n",
       "      <td>...</td>\n",
       "      <td>...</td>\n",
       "      <td>...</td>\n",
       "      <td>...</td>\n",
       "    </tr>\n",
       "    <tr>\n",
       "      <th>283782</th>\n",
       "      <td>vision of flames approaching corryong in victoria</td>\n",
       "      <td>2019-12-31</td>\n",
       "      <td>ABC Australia</td>\n",
       "      <td>0</td>\n",
       "    </tr>\n",
       "    <tr>\n",
       "      <th>283783</th>\n",
       "      <td>wa police and government backflip on drug amne...</td>\n",
       "      <td>2019-12-31</td>\n",
       "      <td>ABC Australia</td>\n",
       "      <td>0</td>\n",
       "    </tr>\n",
       "    <tr>\n",
       "      <th>283784</th>\n",
       "      <td>we have fears for their safety: victorian premier</td>\n",
       "      <td>2019-12-31</td>\n",
       "      <td>ABC Australia</td>\n",
       "      <td>0</td>\n",
       "    </tr>\n",
       "    <tr>\n",
       "      <th>283785</th>\n",
       "      <td>when do the 20s start</td>\n",
       "      <td>2019-12-31</td>\n",
       "      <td>ABC Australia</td>\n",
       "      <td>0</td>\n",
       "    </tr>\n",
       "    <tr>\n",
       "      <th>283786</th>\n",
       "      <td>yarraville shooting woman dead man critically ...</td>\n",
       "      <td>2019-12-31</td>\n",
       "      <td>ABC Australia</td>\n",
       "      <td>0</td>\n",
       "    </tr>\n",
       "  </tbody>\n",
       "</table>\n",
       "<p>283787 rows × 4 columns</p>\n",
       "</div>"
      ],
      "text/plain": [
       "                                                 headline        date  \\\n",
       "0       former versace store clerk sues over secret 'b...  2019-01-01   \n",
       "1       the 'roseanne' revival catches up to our thorn...  2019-01-01   \n",
       "2       j.k. rowling wishes snape happy birthday in th...  2019-01-01   \n",
       "3                             advancing the world's women  2019-01-01   \n",
       "4          the fascinating case for eating lab-grown meat  2019-01-01   \n",
       "...                                                   ...         ...   \n",
       "283782  vision of flames approaching corryong in victoria  2019-12-31   \n",
       "283783  wa police and government backflip on drug amne...  2019-12-31   \n",
       "283784  we have fears for their safety: victorian premier  2019-12-31   \n",
       "283785                              when do the 20s start  2019-12-31   \n",
       "283786  yarraville shooting woman dead man critically ...  2019-12-31   \n",
       "\n",
       "                 source  is_sarcastic  \n",
       "0       Huffington Post             0  \n",
       "1       Huffington Post             0  \n",
       "2       Huffington Post             0  \n",
       "3       Huffington Post             0  \n",
       "4       Huffington Post             0  \n",
       "...                 ...           ...  \n",
       "283782    ABC Australia             0  \n",
       "283783    ABC Australia             0  \n",
       "283784    ABC Australia             0  \n",
       "283785    ABC Australia             0  \n",
       "283786    ABC Australia             0  \n",
       "\n",
       "[283787 rows x 4 columns]"
      ]
     },
     "execution_count": 91,
     "metadata": {},
     "output_type": "execute_result"
    }
   ],
   "source": [
    "Huff_abc"
   ]
  },
  {
   "cell_type": "code",
   "execution_count": 92,
   "metadata": {},
   "outputs": [],
   "source": [
    "frames = [Huff_abc, NPR, Onion, Guardian, nottheonion]\n",
    "df = pd.concat(frames,axis=0)\n",
    "df.to_csv('Combined Data.csv')"
   ]
  },
  {
   "cell_type": "code",
   "execution_count": 94,
   "metadata": {},
   "outputs": [],
   "source": [
    "National_Report = pd.read_csv('national_report.csv')"
   ]
  },
  {
   "cell_type": "code",
   "execution_count": 95,
   "metadata": {},
   "outputs": [],
   "source": [
    "Atlantic = pd.read_csv('atlantic_cleaned.csv')"
   ]
  },
  {
   "cell_type": "code",
   "execution_count": 96,
   "metadata": {},
   "outputs": [],
   "source": [
    "Reductress = pd.read_csv('reductress_cleaned.csv')"
   ]
  },
  {
   "cell_type": "code",
   "execution_count": 97,
   "metadata": {},
   "outputs": [],
   "source": [
    "National_Report['source'] = 'National_Report'"
   ]
  },
  {
   "cell_type": "code",
   "execution_count": 98,
   "metadata": {},
   "outputs": [],
   "source": [
    "National = National_Report[['Headlines','Dates','source']]\n",
    "National['is_sarcastic'] = 1\n",
    "National['Dates'] = pd.to_datetime(National.Dates, format='%d-%b-%y')\n",
    "National.columns = ['headline','date','source','is_sarcastic']"
   ]
  },
  {
   "cell_type": "code",
   "execution_count": 99,
   "metadata": {},
   "outputs": [],
   "source": [
    "Atlantic['source'] = 'Atlantic'\n",
    "Atlantic['is_sarcastic'] = 0\n",
    "Atlantic['date'] = pd.to_datetime(Atlantic.date)"
   ]
  },
  {
   "cell_type": "code",
   "execution_count": 100,
   "metadata": {},
   "outputs": [],
   "source": [
    "Reductress['source'] = 'Reductress'\n",
    "Reductress['is_sarcastic'] = 1\n",
    "Reductress.columns = ['headline','date','source','is_sarcastic']"
   ]
  },
  {
   "cell_type": "code",
   "execution_count": 105,
   "metadata": {},
   "outputs": [],
   "source": [
    "frames = [df, National, Atlantic, Reductress]\n",
    "df = pd.concat(frames,axis=0)"
   ]
  },
  {
   "cell_type": "code",
   "execution_count": 112,
   "metadata": {},
   "outputs": [],
   "source": [
    "df.to_csv('Combined Data v2.csv')"
   ]
  }
 ],
 "metadata": {
  "kernelspec": {
   "display_name": "Python 3",
   "language": "python",
   "name": "python3"
  },
  "language_info": {
   "codemirror_mode": {
    "name": "ipython",
    "version": 3
   },
   "file_extension": ".py",
   "mimetype": "text/x-python",
   "name": "python",
   "nbconvert_exporter": "python",
   "pygments_lexer": "ipython3",
   "version": "3.8.3"
  }
 },
 "nbformat": 4,
 "nbformat_minor": 4
}
