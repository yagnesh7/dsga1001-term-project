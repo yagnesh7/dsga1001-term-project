{
 "cells": [
  {
   "cell_type": "markdown",
   "metadata": {},
   "source": [
    "### Imports"
   ]
  },
  {
   "cell_type": "code",
   "execution_count": 1,
   "metadata": {},
   "outputs": [],
   "source": [
    "import matplotlib.pyplot as plt \n",
    "import pandas as pd\n",
    "import numpy as np\n",
    "import datetime\n",
    "import seaborn as sns\n",
    "import re\n",
    "import nltk\n",
    "import logging\n",
    "\n",
    "import spacy\n",
    "import en_core_web_sm\n",
    "nlp = spacy.load(\"en_core_web_sm\", disable=['parser', 'ner'])\n",
    "import gensim\n",
    "from gensim.utils import lemmatize \n",
    "from nltk.stem import WordNetLemmatizer \n",
    "\n",
    "from sklearn import feature_extraction\n",
    "from sklearn.utils import resample\n",
    "from sklearn.model_selection import train_test_split, GridSearchCV\n",
    "from sklearn.linear_model import LogisticRegression\n",
    "from sklearn.naive_bayes import MultinomialNB, BernoulliNB\n",
    "from sklearn.ensemble import RandomForestClassifier\n",
    "from sklearn.svm import SVC\n",
    "from sklearn.metrics import (plot_roc_curve, classification_report, roc_auc_score, average_precision_score,\n",
    "confusion_matrix, plot_confusion_matrix, plot_precision_recall_curve)\n"
   ]
  },
  {
   "cell_type": "markdown",
   "metadata": {},
   "source": [
    "### Configs"
   ]
  },
  {
   "cell_type": "code",
   "execution_count": 2,
   "metadata": {},
   "outputs": [
    {
     "data": {
      "text/plain": [
       "{'run_name': 'template_run',\n",
       " 'test_year': 2020,\n",
       " 'model': 'svc',\n",
       " 'upsampling': 0.4,\n",
       " 'lemmatize': None,\n",
       " 'vectorizer': {'type': 'cv',\n",
       "  'ngrams': (1, 3),\n",
       "  'binary': True,\n",
       "  'stopwords': 'english',\n",
       "  'max_df': 0.8,\n",
       "  'min_df': 10},\n",
       " 'grid_search': True,\n",
       " 'hyperparameters': {'C': [1]}}"
      ]
     },
     "execution_count": 2,
     "metadata": {},
     "output_type": "execute_result"
    }
   ],
   "source": [
    "configs = {\n",
    "    \"run_name\": \"template_run\",\n",
    "    \"test_year\": 2020,\n",
    "    # Model Type, will support LR, SVC, RandomForest, and NB\n",
    "    'model': 'svc', # lr, svc, mnb, bnb, rf \n",
    "    'upsampling': 0.4, # 0.0 to 1.0 or None\n",
    "    'lemmatize': None, #'spacy', # Choose from nltk, spacy, gensim, None\n",
    "    # Vectorizer Type (CV, TFIDF)\n",
    "    'vectorizer': {'type': 'cv', \n",
    "                    'ngrams': (1,3),\n",
    "                   'binary': True,\n",
    "                   'stopwords': 'english',\n",
    "                   'max_df': 0.8,\n",
    "                   'min_df': 10,\n",
    "                  },\n",
    "    'grid_search': True, # If true, your other hyperparemeters should be in a list.\n",
    "    'hyperparameters': {\n",
    "        # Change these based on your model.\n",
    "        \"C\": [1]\n",
    "    }\n",
    "}\n",
    "\n",
    "configs"
   ]
  },
  {
   "cell_type": "code",
   "execution_count": 3,
   "metadata": {},
   "outputs": [],
   "source": [
    "ts = str(datetime.datetime.now())[:19].replace(\":\",\"-\")\n",
    "logging.basicConfig(filename = f\"../logs/{configs['run_name']}_{ts}.log\", level=logging.INFO)"
   ]
  },
  {
   "cell_type": "code",
   "execution_count": 4,
   "metadata": {},
   "outputs": [],
   "source": [
    "logging.info(configs)"
   ]
  },
  {
   "cell_type": "markdown",
   "metadata": {},
   "source": [
    "### Data Loading and Splitting"
   ]
  },
  {
   "cell_type": "code",
   "execution_count": 5,
   "metadata": {},
   "outputs": [
    {
     "name": "stdout",
     "output_type": "stream",
     "text": [
      "(241405, 4)\n",
      "(240320, 4)\n"
     ]
    }
   ],
   "source": [
    "data = pd.read_csv('../data/combined_clean_v10_nonsource.csv', sep = \"|\")\n",
    "data = data.loc[~data['clean'].isnull()]\n",
    "print(data.shape)\n",
    "logging.info(f\"Date shape before removing duplicates {data.shape}\")\n",
    "data = data.drop_duplicates().reset_index(drop = True)\n",
    "print(data.shape)\n",
    "logging.info(f\"Date shape after removing duplicates {data.shape}\")\n"
   ]
  },
  {
   "cell_type": "code",
   "execution_count": 6,
   "metadata": {},
   "outputs": [],
   "source": [
    "data['clean'] = data['clean'].astype('U')\n",
    "data['year'] = data['year'].astype(int)"
   ]
  },
  {
   "cell_type": "markdown",
   "metadata": {},
   "source": [
    "### Lemmatization"
   ]
  },
  {
   "cell_type": "code",
   "execution_count": 7,
   "metadata": {
    "scrolled": false
   },
   "outputs": [
    {
     "name": "stdout",
     "output_type": "stream",
     "text": [
      "CPU times: user 5 µs, sys: 1e+03 ns, total: 6 µs\n",
      "Wall time: 8.11 µs\n"
     ]
    }
   ],
   "source": [
    "%%time\n",
    "def sentence_lemmatizer(text):\n",
    "    word_list = nltk.word_tokenize(text)\n",
    "    lemmatized_output = ' '.join([lemmatizer.lemmatize(w) for w in word_list])\n",
    "    return lemmatized_output\n",
    "\n",
    "if configs['lemmatize'] == \"nltk\":\n",
    "    data['clean']=data['clean'].apply(lambda x:sentence_lemmatizer(x))\n",
    "    \n",
    "if configs['lemmatize'] == \"spacy\":\n",
    "    data['clean'] = data['clean'].apply(lambda x: ' '.join([token.lemma_ for token in list(nlp(x)) if (token.is_stop==False)]))\n",
    "\n",
    "if configs['lemmatize'] == \"gensim\":\n",
    "    data['clean'] = data['clean'].apply(lambda x:' '.join([wd.decode('utf-8').split('/')[0] for wd in lemmatize(x)]))"
   ]
  },
  {
   "cell_type": "markdown",
   "metadata": {},
   "source": [
    "### Train Test Split"
   ]
  },
  {
   "cell_type": "code",
   "execution_count": 8,
   "metadata": {},
   "outputs": [
    {
     "name": "stdout",
     "output_type": "stream",
     "text": [
      "Train has 200479 records, 8.58% are sarcastic headlines\n",
      "Test has 39841 records, 12.11% are sarcastic headlines\n"
     ]
    }
   ],
   "source": [
    "test_year = configs['test_year']\n",
    "\n",
    "train = data.loc[data['year'] < test_year]\n",
    "test = data.loc[data['year'] == test_year]\n",
    "\n",
    "train_sarcastic_pct = train['is_sarcastic'].mean()*100\n",
    "test_sarcastic_pct = test['is_sarcastic'].mean()*100\n",
    "\n",
    "print(f\"Train has {train.shape[0]} records, {round(train_sarcastic_pct,2)}% are sarcastic headlines\")\n",
    "print(f\"Test has {test.shape[0]} records, {round(test_sarcastic_pct,2)}% are sarcastic headlines\")\n",
    "\n",
    "logging.info(f\"Train has {train.shape[0]} records, {round(train_sarcastic_pct,2)}% are sarcastic headlines\")\n",
    "logging.info(f\"Test has {test.shape[0]} records, {round(test_sarcastic_pct,2)}% are sarcastic headlines\")"
   ]
  },
  {
   "cell_type": "markdown",
   "metadata": {},
   "source": [
    "## Upsampling"
   ]
  },
  {
   "cell_type": "code",
   "execution_count": 9,
   "metadata": {},
   "outputs": [
    {
     "name": "stdout",
     "output_type": "stream",
     "text": [
      "Upsampled Train has 256589 records, 28.57% are sarcastic headlines\n",
      "Test has 39841 records, 12.11% are sarcastic headlines\n"
     ]
    }
   ],
   "source": [
    "if configs['upsampling']:\n",
    "    df_majority = train[train.is_sarcastic == 0]\n",
    "    df_minority = train[train.is_sarcastic == 1]\n",
    "    df_minority_upsampled = resample(df_minority, replace=True, n_samples=round(df_majority.shape[0]*configs['upsampling']))\n",
    "    train = pd.concat([df_majority, df_minority_upsampled])\n",
    "    \n",
    "    train_sarcastic_pct = train['is_sarcastic'].mean()*100\n",
    "    test_sarcastic_pct = test['is_sarcastic'].mean()*100\n",
    "    \n",
    "    print(f\"Upsampled Train has {train.shape[0]} records, {round(train_sarcastic_pct,2)}% are sarcastic headlines\")\n",
    "    print(f\"Test has {test.shape[0]} records, {round(test_sarcastic_pct,2)}% are sarcastic headlines\")\n",
    "\n",
    "    logging.info(f\"Upsampled Train has {train.shape[0]} records, {round(train_sarcastic_pct,2)}% are sarcastic headlines\")\n",
    "    logging.info(f\"Test has {test.shape[0]} records, {round(test_sarcastic_pct,2)}% are sarcastic headlines\")\n"
   ]
  },
  {
   "cell_type": "code",
   "execution_count": 10,
   "metadata": {},
   "outputs": [],
   "source": [
    "X_train = train['clean']\n",
    "y_train = train['is_sarcastic']\n",
    "\n",
    "X_test = test['clean']\n",
    "y_test = test['is_sarcastic']"
   ]
  },
  {
   "cell_type": "markdown",
   "metadata": {},
   "source": [
    "### Vectorization\n",
    "\n",
    "Please adjust the configs or add other data processing steps here."
   ]
  },
  {
   "cell_type": "code",
   "execution_count": 11,
   "metadata": {},
   "outputs": [
    {
     "name": "stdout",
     "output_type": "stream",
     "text": [
      "Please make sure your vectorizer is a valid option or add the functionality.\n",
      "Vectorizer is what converts the text into numerical entries\n",
      "CountVectorizer(binary=True, max_df=0.8, min_df=10, ngram_range=(1, 3),\n",
      "                stop_words='english', strip_accents='ascii')\n"
     ]
    }
   ],
   "source": [
    "print(\"Please make sure your vectorizer is a valid option or add the functionality.\")\n",
    "print('Vectorizer is what converts the text into numerical entries')\n",
    "\n",
    "if configs['vectorizer']['type'] == \"cv\":\n",
    "    vectorizer = feature_extraction.text.CountVectorizer(\n",
    "                                             lowercase = True,\n",
    "                                             strip_accents = 'ascii',\n",
    "                                             stop_words = configs['vectorizer']['stopwords'],\n",
    "                                             ngram_range = configs['vectorizer']['ngrams'],\n",
    "                                             max_df = configs['vectorizer']['max_df'],\n",
    "                                             min_df = configs['vectorizer']['min_df'],\n",
    "                                             binary = configs['vectorizer']['binary']\n",
    "    )\n",
    "                                                        \n",
    "if configs['vectorizer']['type'] == \"tfidf\":\n",
    "    vectorizer = feature_extraction.text.TfidfVectorizer(\n",
    "                                             lowercase = True,\n",
    "                                             strip_accents = 'ascii',\n",
    "                                             stop_words = configs['vectorizer']['stopwords'],\n",
    "                                             ngram_range = configs['vectorizer']['ngrams'],\n",
    "                                             max_df = configs['vectorizer']['max_df'],\n",
    "                                             min_df = configs['vectorizer']['min_df'],\n",
    "                                             binary = configs['vectorizer']['binary']\n",
    "    )\n",
    "    \n",
    "assert(vectorizer)\n",
    "vectorizer\n",
    "\n",
    "logging.info(vectorizer)\n",
    "print(vectorizer)"
   ]
  },
  {
   "cell_type": "code",
   "execution_count": 12,
   "metadata": {},
   "outputs": [
    {
     "name": "stdout",
     "output_type": "stream",
     "text": [
      "Fitting Vectorizer and Transform Train & Test\n",
      "CPU times: user 7.69 s, sys: 322 ms, total: 8.01 s\n",
      "Wall time: 8.05 s\n"
     ]
    }
   ],
   "source": [
    "%%time\n",
    "print(\"Fitting Vectorizer and Transform Train & Test\")\n",
    "X_train_transformed =  vectorizer.fit_transform(X_train)\n",
    "X_test_transformed = vectorizer.transform(X_test)"
   ]
  },
  {
   "cell_type": "markdown",
   "metadata": {},
   "source": [
    "### Modeling"
   ]
  },
  {
   "cell_type": "code",
   "execution_count": 13,
   "metadata": {},
   "outputs": [
    {
     "data": {
      "text/plain": [
       "GridSearchCV(estimator=SVC(), param_grid={'C': [1]})"
      ]
     },
     "execution_count": 13,
     "metadata": {},
     "output_type": "execute_result"
    }
   ],
   "source": [
    "if configs['grid_search']:\n",
    "    if configs['model'] == \"lr\":\n",
    "        model = LogisticRegression()\n",
    "    if configs['model'] == \"rf\":\n",
    "        model = RandomForestClassifier()\n",
    "    if configs['model'] == \"bnb\":\n",
    "        model = BernoulliNB()\n",
    "    if configs['model'] == \"mnb\":\n",
    "        model = MultinomialNB()\n",
    "    if configs['model'] == 'svc':\n",
    "        model = SVC()\n",
    "\n",
    "    grid_search = GridSearchCV(model, configs['hyperparameters'])\n",
    "    \n",
    "logging.info(grid_search)\n",
    "grid_search"
   ]
  },
  {
   "cell_type": "code",
   "execution_count": 14,
   "metadata": {
    "scrolled": true
   },
   "outputs": [
    {
     "data": {
      "text/plain": [
       "GridSearchCV(estimator=SVC(), param_grid={'C': [1]})"
      ]
     },
     "execution_count": 14,
     "metadata": {},
     "output_type": "execute_result"
    }
   ],
   "source": [
    "grid_search.fit(X_train_transformed, y_train)"
   ]
  },
  {
   "cell_type": "code",
   "execution_count": 15,
   "metadata": {},
   "outputs": [
    {
     "data": {
      "text/plain": [
       "SVC(C=1)"
      ]
     },
     "execution_count": 15,
     "metadata": {},
     "output_type": "execute_result"
    }
   ],
   "source": [
    "be = grid_search.best_estimator_\n",
    "logging.info(\"Best Model:\")\n",
    "logging.info(be)\n",
    "be"
   ]
  },
  {
   "cell_type": "markdown",
   "metadata": {},
   "source": [
    "### Evaluation"
   ]
  },
  {
   "cell_type": "code",
   "execution_count": 17,
   "metadata": {
    "scrolled": false
   },
   "outputs": [
    {
     "name": "stdout",
     "output_type": "stream",
     "text": [
      "              precision    recall  f1-score   support\n",
      "\n",
      "           0       0.92      0.99      0.95     35017\n",
      "           1       0.81      0.37      0.51      4824\n",
      "\n",
      "    accuracy                           0.91     39841\n",
      "   macro avg       0.86      0.68      0.73     39841\n",
      "weighted avg       0.91      0.91      0.90     39841\n",
      "\n"
     ]
    },
    {
     "data": {
      "image/png": "[encoded data removed]",
      "text/plain": [
       "<Figure size 432x288 with 2 Axes>"
      ]
     },
     "metadata": {
      "needs_background": "light"
     },
     "output_type": "display_data"
    },
    {
     "data": {
      "image/png": "[encoded data removed]",
      "text/plain": [
       "<Figure size 432x288 with 1 Axes>"
      ]
     },
     "metadata": {
      "needs_background": "light"
     },
     "output_type": "display_data"
    },
    {
     "data": {
      "image/png": "[encoded data removed]",
      "text/plain": [
       "<Figure size 432x288 with 1 Axes>"
      ]
     },
     "metadata": {
      "needs_background": "light"
     },
     "output_type": "display_data"
    }
   ],
   "source": [
    "be_preds = be.predict(X_test_transformed)\n",
    "#be_probs = be.predict_proba(X_test_transformed)[:,1]\n",
    "\n",
    "print(classification_report(y_test, be_preds))\n",
    "\n",
    "plot_confusion_matrix(be, X_test_transformed, y_test, cmap = plt.cm.Blues)\n",
    "plt.show()\n",
    "\n",
    "plot_roc_curve(be, X_test_transformed, y_test)\n",
    "plt.show()\n",
    "\n",
    "plot_precision_recall_curve(be, X_test_transformed, y_test)\n",
    "plt.show()"
   ]
  },
  {
   "cell_type": "code",
   "execution_count": 20,
   "metadata": {},
   "outputs": [
    {
     "data": {
      "text/plain": [
       "0.6794156656011335"
      ]
     },
     "execution_count": 20,
     "metadata": {},
     "output_type": "execute_result"
    }
   ],
   "source": [
    "from sklearn import metrics\n",
    "fpr, tpr, thresholds = metrics.roc_curve(y_test, be_preds)\n",
    "metrics.auc(fpr, tpr)\n"
   ]
  },
  {
   "cell_type": "markdown",
   "metadata": {},
   "source": [
    "### Feature Ranking (for logistic regression)"
   ]
  },
  {
   "cell_type": "code",
   "execution_count": 3,
   "metadata": {},
   "outputs": [],
   "source": [
    "vocab = vectorizer.get_feature_names()\n",
    "coef_dicts = []\n",
    "for i, coef_ in enumerate(list(be.coef_[0,:])):\n",
    "    coef_dict = {'word': vocab[i], 'coef': coef_}\n",
    "    coef_dicts.append(coef_dict)\n",
    "\n",
    "coef_pd = pd.DataFrame(coef_dicts)\n",
    "print(\"Words with Lowest Coefficients of Logistic Regression model\")\n",
    "print(coef_pd.sort_values('coef', ascending=True)[['word', 'coef']][:20])\n",
    "\n",
    "print(\"Words with Highest Coefficients of Logistic Regression model\")\n",
    "print(coef_pd.sort_values('coef', ascending=False)[['word', 'coef']][:20])"
   ]
  },
  {
   "cell_type": "markdown",
   "metadata": {},
   "source": [
    "### Feature Ranking (for bernoulli nb)"
   ]
  },
  {
   "cell_type": "code",
   "execution_count": null,
   "metadata": {},
   "outputs": [],
   "source": [
    "neg_class_prob_sorted = be.feature_logprob[0, :].argsort()\n",
    "pos_class_prob_sorted = be.feature_logprob[1, :].argsort()\n",
    "\n",
    "neg_pd = pd.DataFrame({'word': np.take(vectorizer.get_feature_names(), neg_class_prob_sorted[:20])}, \n",
    "                       index = neg_class_prob_sorted[:20])\n",
    "\n",
    "pos_pd = pd.DataFrame({'word': np.take(vectorizer.get_feature_names(), pos_class_prob_sorted[:20])}, \n",
    "                       index = pos_class_prob_sorted[:20])\n",
    "\n",
    "print(\"Words Ranking for the Non-Satirical Class of Bernoulli NB CV model\")\n",
    "print(neg_pd)\n",
    "print()\n",
    "print(\"Words Ranking for the Satirical Class of Bernoulli NB CV model\")\n",
    "print(pos_pd)"
   ]
  },
  {
   "cell_type": "markdown",
   "metadata": {},
   "source": [
    "## Save Information"
   ]
  },
  {
   "cell_type": "code",
   "execution_count": 20,
   "metadata": {},
   "outputs": [],
   "source": [
    "logging.info(grid_search.cv_results_)"
   ]
  },
  {
   "cell_type": "code",
   "execution_count": 21,
   "metadata": {},
   "outputs": [],
   "source": [
    "auc_score = roc_auc_score(y_test, be_probs)\n",
    "avg_precision = average_precision_score(y_test, be_probs)\n",
    "cm = confusion_matrix(y_test, be_preds)"
   ]
  },
  {
   "cell_type": "code",
   "execution_count": 22,
   "metadata": {},
   "outputs": [],
   "source": [
    "logging.info(f'AUC: {auc_score}')\n",
    "logging.info(f'Average Precision: {avg_precision}')\n",
    "logging.info('Confusion Matrix:')\n",
    "logging.info(cm)\n",
    "logging.info(\"Classification Report:\")\n",
    "logging.info(classification_report(y_test, be_preds))"
   ]
  },
  {
   "cell_type": "code",
   "execution_count": null,
   "metadata": {},
   "outputs": [],
   "source": []
  }
 ],
 "metadata": {
  "kernelspec": {
   "display_name": "Python 3",
   "language": "python",
   "name": "python3"
  },
  "language_info": {
   "codemirror_mode": {
    "name": "ipython",
    "version": 3
   },
   "file_extension": ".py",
   "mimetype": "text/x-python",
   "name": "python",
   "nbconvert_exporter": "python",
   "pygments_lexer": "ipython3",
   "version": "3.8.3"
  }
 },
 "nbformat": 4,
 "nbformat_minor": 4
}
