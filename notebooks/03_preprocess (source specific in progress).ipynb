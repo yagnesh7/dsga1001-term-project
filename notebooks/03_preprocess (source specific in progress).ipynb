{
 "cells": [
  {
   "cell_type": "code",
   "execution_count": 4,
   "metadata": {},
   "outputs": [],
   "source": [
    "import pandas as pd\n",
    "import numpy as np\n",
    "import re"
   ]
  },
  {
   "cell_type": "code",
   "execution_count": 29,
   "metadata": {},
   "outputs": [],
   "source": [
    "data = pd.read_csv('../data/combined_data_v3.csv')"
   ]
  },
  {
   "cell_type": "code",
   "execution_count": null,
   "metadata": {
    "scrolled": false
   },
   "outputs": [],
   "source": [
    "data.sample(n = 10)"
   ]
  },
  {
   "cell_type": "markdown",
   "metadata": {},
   "source": [
    "### Preprocessing Steps\n",
    "1. Standardize common abbreviations* (WIP)\n",
    "    1. u.s. --> usa\n",
    "1. Lowercase\n",
    "1. Expand Contractions\n",
    "1. Optional:\n",
    "    1. Remove Source Specific Language\n",
    "    1. Remove Profanity\n",
    "1. Remove Special Characters\n"
   ]
  },
  {
   "cell_type": "code",
   "execution_count": 6,
   "metadata": {},
   "outputs": [],
   "source": [
    "def replace_words(text, replace_dict):\n",
    "    tokens = []\n",
    "    for w in text.split():\n",
    "        word = w\n",
    "        for t in replace_dict.keys():\n",
    "            if w == t:\n",
    "                word = replace_dict[t]\n",
    "        tokens.append(word)\n",
    "    \n",
    "    return \" \".join(tokens)"
   ]
  },
  {
   "cell_type": "code",
   "execution_count": 7,
   "metadata": {},
   "outputs": [],
   "source": [
    "data['clean'] = data['headline']\n",
    "\n",
    "## Standardize Common Abbreviations\n",
    "translate_dict = {\n",
    "    \"US\": \"USA\",\n",
    "    \"U.S.\": \"USA\",\n",
    "    \"u.s.\": \"USA\",\n",
    "    \"u.s\": \"USA\",\n",
    "}\n",
    "\n",
    "\n",
    "\n",
    "data['clean'] = data['clean'].apply(lambda x: replace_words(x, translate_dict))"
   ]
  },
  {
   "cell_type": "code",
   "execution_count": 8,
   "metadata": {},
   "outputs": [],
   "source": [
    "# Lowercase\n",
    "data['clean'] = data['clean'].apply(lambda x: x.lower())"
   ]
  },
  {
   "cell_type": "code",
   "execution_count": 9,
   "metadata": {},
   "outputs": [],
   "source": [
    "# Expand Contractions\n",
    "contractions_dict = { \"ain't\": \"are not\",\"aren't\": \"are not\",\n",
    "                     \"can't\": \"cannot\",\"can't've\": \"cannot have\",\n",
    "                     \"'cause\": \"because\",\"could've\": \"could have\",\"couldn't\": \"could not\",\n",
    "                     \"couldn't've\": \"could not have\", \"didn't\": \"did not\",\"doesn't\": \"does not\",\n",
    "                     \"don't\": \"do not\",\"hadn't\": \"had not\",\"hadn't've\": \"had not have\",\n",
    "                     \"hasn't\": \"has not\",\"haven't\": \"have not\",\"he'd\": \"he would\",\n",
    "                     \"he'd've\": \"he would have\",\"he'll\": \"he will\", \"he'll've\": \"he will have\",\n",
    "                     \"how'd\": \"how did\",\"how'd'y\": \"how do you\",\"how'll\": \"how will\",\n",
    "                     \"I'd\": \"I would\", \"I'd've\": \"I would have\",\"I'll\": \"I will\",\n",
    "                     \"I'll've\": \"I will have\",\"I'm\": \"I am\",\"I've\": \"I have\", \"isn't\": \"is not\",\n",
    "                     \"it'd\": \"it would\",\"it'd've\": \"it would have\",\"it'll\": \"it will\",\n",
    "                     \"it'll've\": \"it will have\", \"let's\": \"let us\",\"ma'am\": \"madam\",\n",
    "                     \"mayn't\": \"may not\",\"might've\": \"might have\",\"mightn't\": \"might not\", \n",
    "                     \"mightn't've\": \"might not have\",\"must've\": \"must have\",\"mustn't\": \"must not\",\n",
    "                     \"mustn't've\": \"must not have\", \"needn't\": \"need not\",\n",
    "                     \"needn't've\": \"need not have\",\"o'clock\": \"of the clock\",\"oughtn't\": \"ought not\",\n",
    "                     \"oughtn't've\": \"ought not have\",\"shan't\": \"shall not\",\"sha'n't\": \"shall not\",\n",
    "                     \"shan't've\": \"shall not have\",\"she'd\": \"she would\",\"she'd've\": \"she would have\",\n",
    "                     \"she'll\": \"she will\", \"she'll've\": \"she will have\",\"should've\": \"should have\",\n",
    "                     \"shouldn't\": \"should not\", \"shouldn't've\": \"should not have\",\"so've\": \"so have\",\n",
    "                     \"that'd\": \"that would\",\"that'd've\": \"that would have\", \"there'd\": \"there would\",\n",
    "                     \"there'd've\": \"there would have\", \"they'd\": \"they would\",\n",
    "                     \"they'd've\": \"they would have\",\"they'll\": \"they will\",\n",
    "                     \"they'll've\": \"they will have\", \"they're\": \"they are\",\"they've\": \"they have\",\n",
    "                     \"to've\": \"to have\",\"wasn't\": \"was not\",\"we'd\": \"we would\",\n",
    "                     \"we'd've\": \"we would have\",\"we'll\": \"we will\",\"we'll've\": \"we will have\",\n",
    "                     \"we're\": \"we are\",\"we've\": \"we have\", \"weren't\": \"were not\",\"what'll\": \"what will\",\n",
    "                     \"what'll've\": \"what will have\",\"what're\": \"what are\", \"what've\": \"what have\",\n",
    "                     \"when've\": \"when have\",\"where'd\": \"where did\", \"where've\": \"where have\",\n",
    "                     \"who's\": \"who is\",\n",
    "                     \"who'll\": \"who will\",\"who'll've\": \"who will have\",\"who've\": \"who have\",\n",
    "                     \"why've\": \"why have\",\"will've\": \"will have\",\"won't\": \"will not\",\n",
    "                     \"won't've\": \"will not have\", \"would've\": \"would have\",\"wouldn't\": \"would not\",\n",
    "                     \"wouldn't've\": \"would not have\",\"y'all\": \"you all\", \"y'all'd\": \"you all would\",\n",
    "                     \"y'all'd've\": \"you all would have\",\"y'all're\": \"you all are\",\n",
    "                     \"y'all've\": \"you all have\", \"you'd\": \"you would\",\"you'd've\": \"you would have\",\n",
    "                     \"you'll\": \"you will\",\"you'll've\": \"you will have\", \"you're\": \"you are\",\n",
    "                     \"you've\": \"you have\"}\n",
    "\n",
    "\n",
    "\n",
    "data['clean'] = data['clean'].apply(lambda x: replace_words(x, contractions_dict))\n"
   ]
  },
  {
   "cell_type": "code",
   "execution_count": 10,
   "metadata": {},
   "outputs": [
    {
     "data": {
      "text/plain": [
       "'who is afraid to think?'"
      ]
     },
     "execution_count": 10,
     "metadata": {},
     "output_type": "execute_result"
    }
   ],
   "source": [
    "# Example should read: who is afraid\n",
    "data['clean'][77627]"
   ]
  },
  {
   "cell_type": "code",
   "execution_count": 11,
   "metadata": {},
   "outputs": [],
   "source": [
    "## Remove Special Characters\n",
    "data['clean'] = data['clean'].apply(lambda x: re.sub('[^A-Za-z0-9 ]+', '', x))"
   ]
  },
  {
   "cell_type": "code",
   "execution_count": 12,
   "metadata": {},
   "outputs": [
    {
     "data": {
      "text/plain": [
       "0         former versace store clerk sues over secret bl...\n",
       "1         the roseanne revival catches up to our thorny ...\n",
       "2         jk rowling wishes snape happy birthday in the ...\n",
       "3                                advancing the worlds women\n",
       "4             the fascinating case for eating labgrown meat\n",
       "                                ...                        \n",
       "389499    overworked gamer wishes he could just stay hom...\n",
       "389500    how king henry viii became the worlds first ga...\n",
       "389501    ring fit user hates how crowded adventure gets...\n",
       "389502    gamer postpones new years resolution until q3 ...\n",
       "389503    netflix announces its losing the audio portion...\n",
       "Name: clean, Length: 389504, dtype: object"
      ]
     },
     "execution_count": 12,
     "metadata": {},
     "output_type": "execute_result"
    }
   ],
   "source": [
    "data['clean']"
   ]
  },
  {
   "cell_type": "code",
   "execution_count": 13,
   "metadata": {},
   "outputs": [],
   "source": [
    "#data[['source', 'year', 'clean', 'is_sarcastic']].to_csv('../data/combined_clean.csv', index = False, sep = \"|\")"
   ]
  },
  {
   "cell_type": "code",
   "execution_count": 8,
   "metadata": {},
   "outputs": [],
   "source": [
    "data = pd.read_csv('combined_clean.csv', sep='|')"
   ]
  },
  {
   "cell_type": "code",
   "execution_count": 19,
   "metadata": {},
   "outputs": [],
   "source": [
    "#Profanity Removal \n",
    "file = open('profanity_wordlist.txt','r')\n",
    "words = []\n",
    "for line in file:\n",
    "    stripped_line = line.strip()\n",
    "    words.append(stripped_line)\n",
    "\n",
    "fake_swears = ['anus','aryan','bdsm','bondage','breasts','crap','drunk','enlargement','erection','erotic',\n",
    "              'erotism','facial','fat','gay','gays','gigolo','glans','god','hell', 'hemp','heroin','herpes',\n",
    "              'hitler','hiv','hookah','hooker','hooter','hooters','hump','humped','humping','incest','jerk',\n",
    "              'junkie','junky','kill','klan','kraut','LEN','lesbians','lesbos','loin','loins','lube','lust',\n",
    "              'lusting','lusty','masochist','masturbate','masturbating','masturbation','menses','menstruate',\n",
    "               'menstruation','meth','molest','moron','muff', 'murder','naked','napalm','nazi','nazism','nipple',\n",
    "               'nipples','nude', 'nudes','opiate','opium','oral','orally','organ','ovary','ovum','ovums','pawn',\n",
    "               'pcp','pedo','pedophile','pedophilia','pedophiliac','penetrate','penetration','perversion','peyote',\n",
    "               'phallic','pimp', 'playboy','pollock','porn', 'pornography','pornos','pot','potty','prick','pricks',\n",
    "               'prostitute','prude','punky','queer','quicky','racy','rape','raped','raper','raping','rapist',\n",
    "               'raunch','revue','rum','rump','sadism','sadist','sandbar','scantilly','screw','screwed','screwing',\n",
    "               'scum','seaman','seamen','seduce', 'sex','sexual','slave','sleaze','sleazy','slope','smut','smutty',\n",
    "               'snatch','sniper','snuff','sodom', 'souse', 'steamy', 'stoned', 'strip', 'strip club', 'stripclub',\n",
    "               'stroke','stupied','suck','sucked','sucking','tampon','tawdry','thrust', 'toke','tramp', 'trashy',\n",
    "               'ugly','unwed','urinal','urine','uterus','uzi','valium','viagra','virgin','vixen','vodka','vomit',\n",
    "               'voyeur','vulgar','weed','weirdo','wench','yury']\n",
    "\n",
    "real_swears = list()\n",
    "for word in words:\n",
    "    if word not in fake_swears:\n",
    "        real_swears.append(word)\n",
    "\n",
    "\n",
    "def profanity_remove(text):\n",
    "    if type(text)!='str':\n",
    "        text = str(text)\n",
    "    initial_words = text.split()\n",
    "    new_words = list(filter(lambda w: w not in real_swears, initial_words))\n",
    "    new_text = ' '.join(new_words)\n",
    "    return new_text\n",
    "\n",
    "data['clean'] = data['clean'].apply(lambda x:profanity_remove(x))"
   ]
  },
  {
   "cell_type": "code",
   "execution_count": 53,
   "metadata": {},
   "outputs": [
    {
     "data": {
      "text/plain": [
       "['dear therapist i am ', 'd', ' i am sad']"
      ]
     },
     "execution_count": 53,
     "metadata": {},
     "output_type": "execute_result"
    }
   ],
   "source": [
    "source_specific_language = {'Huffington Post':['huffpollster', 'huffpost', 'gps guide', 'on the looney front', \n",
    "                                               'morning email','talktome', 'daily meditation', 'sunday roundup'],\n",
    "                            'ABC Australia':['planet america', 'talking pictures','sunday session','tasmania', \n",
    "                                             'perth', 'png','adelaide', 'wa', 'afl', 'queensland', 'nt','canberra',\n",
    "                                             'nsw', 'aboriginal', 'sa','hobart', 'qld','melbourne', 'brisbane', \n",
    "                                             'sydney', 'socceroos',  'nrl','bushfire', 'tasmanian', 'just game', \n",
    "                                             'rba', 'tas', 'matildas', 'qna', 'nz', 'nbn', 'sydneys', 'cairns',\n",
    "                                             'australians', 'newcastle','tasmanias', 'asx', 'ndis', 'gold coast', \n",
    "                                             'aflw', 'townsville', 'adelaides', 'aussie'],\n",
    "                            'npr':['news brief'], 'guardian':['in pictures', 'the guardian view', 'weatherwatch'],\n",
    "                            'atlantic':['track of the day', 'dear therapist', 'photos of the week', \n",
    "                                        'the family weekly','the books briefing', 'america by air', 'gaffe track',\n",
    "                                        'todays news', 'poem of the day','trump time capsule', 'poem of the week', \n",
    "                                        'photo contest', 'time capsule', 'education stories','big stories'],\n",
    "                            'onion':['onion', 'things to know','strongsideweakside', 'the onions', 'your horoscopes',\n",
    "                                     'things to watch', 'week in pictures']}\n",
    "for i in range(len(data)):\n",
    "    if data.iloc[i]['source'] in source_specific_language:\n",
    "        dict_entry = source_specific_language[data.iloc[i]['source']]\n",
    "        for \n",
    "    \n",
    "        "
   ]
  },
  {
   "cell_type": "code",
   "execution_count": 60,
   "metadata": {},
   "outputs": [
    {
     "name": "stdout",
     "output_type": "stream",
     "text": [
      "['1985 ', ' cabinet documents mabo decision']\n"
     ]
    }
   ],
   "source": [
    "text = '1985 qld cabinet documents mabo decision'\n",
    "words = ['qld']\n",
    "for word in words:\n",
    "    if word in text:\n",
    "        word_list = text.split(word)"
   ]
  },
  {
   "cell_type": "code",
   "execution_count": null,
   "metadata": {},
   "outputs": [],
   "source": []
  }
 ],
 "metadata": {
  "kernelspec": {
   "display_name": "Python 3",
   "language": "python",
   "name": "python3"
  },
  "language_info": {
   "codemirror_mode": {
    "name": "ipython",
    "version": 3
   },
   "file_extension": ".py",
   "mimetype": "text/x-python",
   "name": "python",
   "nbconvert_exporter": "python",
   "pygments_lexer": "ipython3",
   "version": "3.8.3"
  }
 },
 "nbformat": 4,
 "nbformat_minor": 4
}
