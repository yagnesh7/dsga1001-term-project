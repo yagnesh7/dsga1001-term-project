{
 "cells": [
  {
   "cell_type": "markdown",
   "metadata": {},
   "source": [
    "### Imports"
   ]
  },
  {
   "cell_type": "code",
   "execution_count": 188,
   "metadata": {},
   "outputs": [],
   "source": [
    "import matplotlib.pyplot as plt \n",
    "import pandas as pd\n",
    "import numpy as np\n",
    "import datetime\n",
    "import seaborn as sns\n",
    "import re\n",
    "import nltk\n",
    "import logging\n",
    "\n",
    "from sklearn import feature_extraction\n",
    "from sklearn.model_selection import train_test_split, GridSearchCV\n",
    "from sklearn.linear_model import LogisticRegression\n",
    "from sklearn.naive_bayes import MultinomialNB, BernoulliNB\n",
    "from sklearn.ensemble import RandomForestClassifier\n",
    "from sklearn.svm import SVC\n",
    "from sklearn.metrics import (plot_roc_curve, classification_report, roc_auc_score, average_precision_score,\n",
    "confusion_matrix, plot_confusion_matrix, plot_precision_recall_curve)"
   ]
  },
  {
   "cell_type": "markdown",
   "metadata": {},
   "source": [
    "### Configs"
   ]
  },
  {
   "cell_type": "code",
   "execution_count": 189,
   "metadata": {},
   "outputs": [
    {
     "data": {
      "text/plain": [
       "{'run_name': 'template_run',\n",
       " 'test_year': 2020,\n",
       " 'model': 'lr',\n",
       " 'vectorizer': {'type': 'cv',\n",
       "  'ngrams': (1, 3),\n",
       "  'binary': False,\n",
       "  'stopwords': 'english',\n",
       "  'max_df': 0.8,\n",
       "  'min_df': 10},\n",
       " 'grid_search': True,\n",
       " 'hyperparameters': {'C': [0.001, 0.01, 0.1, 1, 10],\n",
       "  'solver': ['lbfgs'],\n",
       "  'penalty': ['l2'],\n",
       "  'max_iter': [100]}}"
      ]
     },
     "execution_count": 189,
     "metadata": {},
     "output_type": "execute_result"
    }
   ],
   "source": [
    "configs = {\n",
    "    \"run_name\": \"template_run\",\n",
    "    \"test_year\": 2020,\n",
    "    # Model Type, will support LR, SVC, RandomForest, and NB\n",
    "    'model': 'lr',\n",
    "    # Vectorizer Type (CV, TFIDF)\n",
    "    'vectorizer': {'type': 'cv', \n",
    "                    'ngrams': (1,3),\n",
    "                   'binary': False,\n",
    "                   'stopwords': 'english',\n",
    "                   'max_df': 0.8,\n",
    "                   'min_df': 10\n",
    "                  },\n",
    "    'grid_search': True, # If true, your other hyperparemeters should be in a list.\n",
    "    'hyperparameters': {\n",
    "        # Change these based on your model.\n",
    "        \"C\": [0.001, 0.01, 0.1, 1, 10],\n",
    "        \"solver\": [\"lbfgs\"],\n",
    "        \"penalty\": [\"l2\"],\n",
    "        \"max_iter\": [100]\n",
    "    }\n",
    "}\n",
    "\n",
    "configs"
   ]
  },
  {
   "cell_type": "code",
   "execution_count": 190,
   "metadata": {},
   "outputs": [],
   "source": [
    "ts = str(datetime.datetime.now())[:19].replace(\":\",\"-\")\n",
    "logging.basicConfig(filename = f\"../logs/{configs['run_name']}_{ts}.log\", level=logging.INFO)"
   ]
  },
  {
   "cell_type": "code",
   "execution_count": 191,
   "metadata": {},
   "outputs": [],
   "source": [
    "logging.info(configs)"
   ]
  },
  {
   "cell_type": "markdown",
   "metadata": {},
   "source": [
    "### Data Loading and Splitting"
   ]
  },
  {
   "cell_type": "code",
   "execution_count": 192,
   "metadata": {},
   "outputs": [
    {
     "name": "stdout",
     "output_type": "stream",
     "text": [
      "(215013, 4)\n",
      "(211631, 4)\n"
     ]
    }
   ],
   "source": [
    "data = pd.read_csv('../data/combined_clean.csv', sep = \"|\")\n",
    "print(data.shape)\n",
    "logging.info(f\"Date shape before removing duplicates {data.shape}\")\n",
    "data = data.drop_duplicates().reset_index(drop = True)\n",
    "print(data.shape)\n",
    "logging.info(f\"Date shape after removing duplicates {data.shape}\")\n"
   ]
  },
  {
   "cell_type": "code",
   "execution_count": 193,
   "metadata": {},
   "outputs": [],
   "source": [
    "data['clean'] = data['clean'].astype('U')\n",
    "data['year'] = data['year'].astype(int)"
   ]
  },
  {
   "cell_type": "code",
   "execution_count": 194,
   "metadata": {},
   "outputs": [
    {
     "name": "stdout",
     "output_type": "stream",
     "text": [
      "(159752, 4)\n",
      "(17813, 4)\n"
     ]
    }
   ],
   "source": [
    "test_year = configs['test_year']\n",
    "\n",
    "train = data.loc[data['year'] < test_year]\n",
    "test = data.loc[data['year'] == test_year]\n",
    "\n",
    "print(train[train.is_sarcastic == 0].shape)\n",
    "print(train[train.is_sarcastic == 1].shape)"
   ]
  },
  {
   "cell_type": "code",
   "execution_count": 195,
   "metadata": {},
   "outputs": [
    {
     "data": {
      "text/plain": [
       "1    159752\n",
       "0    159752\n",
       "Name: is_sarcastic, dtype: int64"
      ]
     },
     "execution_count": 195,
     "metadata": {},
     "output_type": "execute_result"
    }
   ],
   "source": [
    "from sklearn.utils import resample\n",
    "df_majority = train[train.is_sarcastic == 0]\n",
    "df_minority = train[train.is_sarcastic == 1]\n",
    " \n",
    "# Upsample minority class\n",
    "df_minority_upsampled = resample(df_minority, \n",
    "                                 replace=True,     # sample with replacement\n",
    "                                 n_samples=round(df_majority.shape[0])    # to match majority class\n",
    "                                 ) # reproducible results\n",
    " \n",
    "# Combine majority class with upsampled minority class\n",
    "train = pd.concat([df_majority, df_minority_upsampled])\n",
    " \n",
    "# Display new class counts\n",
    "train.is_sarcastic.value_counts()"
   ]
  },
  {
   "cell_type": "code",
   "execution_count": 196,
   "metadata": {},
   "outputs": [
    {
     "name": "stdout",
     "output_type": "stream",
     "text": [
      "Train has 319504 records, 50.0% are sarcastic headlines\n",
      "Test has 34066 records, 14.56% are sarcastic headlines\n"
     ]
    }
   ],
   "source": [
    "train_sarcastic_pct = train['is_sarcastic'].mean()*100\n",
    "test_sarcastic_pct = test['is_sarcastic'].mean()*100\n",
    "\n",
    "print(f\"Train has {train.shape[0]} records, {round(train_sarcastic_pct,2)}% are sarcastic headlines\")\n",
    "print(f\"Test has {test.shape[0]} records, {round(test_sarcastic_pct,2)}% are sarcastic headlines\")\n",
    "\n",
    "logging.info(f\"Train has {train.shape[0]} records, {round(train_sarcastic_pct,2)}% are sarcastic headlines\")\n",
    "logging.info(f\"Test has {test.shape[0]} records, {round(test_sarcastic_pct,2)}% are sarcastic headlines\")"
   ]
  },
  {
   "cell_type": "code",
   "execution_count": 197,
   "metadata": {},
   "outputs": [],
   "source": [
    "X_train = train['clean']\n",
    "y_train = train['is_sarcastic']\n",
    "\n",
    "X_test = test['clean']\n",
    "y_test = test['is_sarcastic']"
   ]
  },
  {
   "cell_type": "markdown",
   "metadata": {},
   "source": [
    "### Vectorization\n",
    "\n",
    "Please adjust the configs or add other data processing steps here."
   ]
  },
  {
   "cell_type": "code",
   "execution_count": 198,
   "metadata": {},
   "outputs": [
    {
     "name": "stdout",
     "output_type": "stream",
     "text": [
      "Please make sure your vectorizer is a valid option or add the functionality.\n",
      "Vectorizer is what converts the text into numerical entries\n",
      "CountVectorizer(max_df=0.8, min_df=10, ngram_range=(1, 3), stop_words='english',\n",
      "                strip_accents='ascii')\n"
     ]
    }
   ],
   "source": [
    "print(\"Please make sure your vectorizer is a valid option or add the functionality.\")\n",
    "print('Vectorizer is what converts the text into numerical entries')\n",
    "\n",
    "if configs['vectorizer']['type'] == \"cv\":\n",
    "    vectorizer = feature_extraction.text.CountVectorizer(\n",
    "                                             lowercase = True,\n",
    "                                             strip_accents = 'ascii',\n",
    "                                             stop_words = configs['vectorizer']['stopwords'],\n",
    "                                             ngram_range = configs['vectorizer']['ngrams'],\n",
    "                                             max_df = configs['vectorizer']['max_df'],\n",
    "                                             min_df = configs['vectorizer']['min_df'],\n",
    "                                             binary = configs['vectorizer']['binary']\n",
    "    )\n",
    "                                                        \n",
    "if configs['vectorizer']['type'] == \"tfidf\":\n",
    "    vectorizer = feature_extraction.text.TfidfVectorizer(\n",
    "                                             lowercase = True,\n",
    "                                             strip_accents = 'ascii',\n",
    "                                             stop_words = configs['vectorizer']['stopwords'],\n",
    "                                             ngram_range = configs['vectorizer']['ngrams'],\n",
    "                                             max_df = configs['vectorizer']['max_df'],\n",
    "                                             min_df = configs['vectorizer']['min_df'],\n",
    "                                             binary = configs['vectorizer']['binary']\n",
    "    )\n",
    "    \n",
    "assert(vectorizer)\n",
    "vectorizer\n",
    "\n",
    "logging.info(vectorizer)\n",
    "print(vectorizer)"
   ]
  },
  {
   "cell_type": "code",
   "execution_count": 199,
   "metadata": {},
   "outputs": [
    {
     "name": "stdout",
     "output_type": "stream",
     "text": [
      "Fitting Vectorizer and Transform Train & Test\n",
      "CPU times: user 9.64 s, sys: 407 ms, total: 10 s\n",
      "Wall time: 10.2 s\n"
     ]
    }
   ],
   "source": [
    "%%time\n",
    "print(\"Fitting Vectorizer and Transform Train & Test\")\n",
    "X_train_transformed =  vectorizer.fit_transform(X_train)\n",
    "X_test_transformed = vectorizer.transform(X_test)"
   ]
  },
  {
   "cell_type": "markdown",
   "metadata": {},
   "source": [
    "### Modeling"
   ]
  },
  {
   "cell_type": "code",
   "execution_count": 200,
   "metadata": {},
   "outputs": [
    {
     "data": {
      "text/plain": [
       "GridSearchCV(estimator=LogisticRegression(),\n",
       "             param_grid={'C': [0.001, 0.01, 0.1, 1, 10], 'max_iter': [100],\n",
       "                         'penalty': ['l2'], 'solver': ['lbfgs']})"
      ]
     },
     "execution_count": 200,
     "metadata": {},
     "output_type": "execute_result"
    }
   ],
   "source": [
    "if configs['grid_search']:\n",
    "    if configs['model'] == \"lr\":\n",
    "        model = LogisticRegression()\n",
    "    if configs['model'] == \"rf\":\n",
    "        model = RandomForestClassifier()\n",
    "    if configs['model'] == \"bnb\":\n",
    "        model = BernoulliNB()\n",
    "    if configs['model'] == \"mnb\":\n",
    "        model = MultinomialNB()\n",
    "    if configs['model'] == 'svc':\n",
    "        model = SVC()\n",
    "\n",
    "    grid_search = GridSearchCV(model, configs['hyperparameters'])\n",
    "    \n",
    "logging.info(grid_search)\n",
    "grid_search"
   ]
  },
  {
   "cell_type": "code",
   "execution_count": 201,
   "metadata": {
    "scrolled": true
   },
   "outputs": [
    {
     "name": "stderr",
     "output_type": "stream",
     "text": [
      "/Users/valeriehuang/opt/anaconda3/lib/python3.8/site-packages/sklearn/linear_model/_logistic.py:762: ConvergenceWarning: lbfgs failed to converge (status=1):\n",
      "STOP: TOTAL NO. of ITERATIONS REACHED LIMIT.\n",
      "\n",
      "Increase the number of iterations (max_iter) or scale the data as shown in:\n",
      "    https://scikit-learn.org/stable/modules/preprocessing.html\n",
      "Please also refer to the documentation for alternative solver options:\n",
      "    https://scikit-learn.org/stable/modules/linear_model.html#logistic-regression\n",
      "  n_iter_i = _check_optimize_result(\n",
      "/Users/valeriehuang/opt/anaconda3/lib/python3.8/site-packages/sklearn/linear_model/_logistic.py:762: ConvergenceWarning: lbfgs failed to converge (status=1):\n",
      "STOP: TOTAL NO. of ITERATIONS REACHED LIMIT.\n",
      "\n",
      "Increase the number of iterations (max_iter) or scale the data as shown in:\n",
      "    https://scikit-learn.org/stable/modules/preprocessing.html\n",
      "Please also refer to the documentation for alternative solver options:\n",
      "    https://scikit-learn.org/stable/modules/linear_model.html#logistic-regression\n",
      "  n_iter_i = _check_optimize_result(\n",
      "/Users/valeriehuang/opt/anaconda3/lib/python3.8/site-packages/sklearn/linear_model/_logistic.py:762: ConvergenceWarning: lbfgs failed to converge (status=1):\n",
      "STOP: TOTAL NO. of ITERATIONS REACHED LIMIT.\n",
      "\n",
      "Increase the number of iterations (max_iter) or scale the data as shown in:\n",
      "    https://scikit-learn.org/stable/modules/preprocessing.html\n",
      "Please also refer to the documentation for alternative solver options:\n",
      "    https://scikit-learn.org/stable/modules/linear_model.html#logistic-regression\n",
      "  n_iter_i = _check_optimize_result(\n",
      "/Users/valeriehuang/opt/anaconda3/lib/python3.8/site-packages/sklearn/linear_model/_logistic.py:762: ConvergenceWarning: lbfgs failed to converge (status=1):\n",
      "STOP: TOTAL NO. of ITERATIONS REACHED LIMIT.\n",
      "\n",
      "Increase the number of iterations (max_iter) or scale the data as shown in:\n",
      "    https://scikit-learn.org/stable/modules/preprocessing.html\n",
      "Please also refer to the documentation for alternative solver options:\n",
      "    https://scikit-learn.org/stable/modules/linear_model.html#logistic-regression\n",
      "  n_iter_i = _check_optimize_result(\n",
      "/Users/valeriehuang/opt/anaconda3/lib/python3.8/site-packages/sklearn/linear_model/_logistic.py:762: ConvergenceWarning: lbfgs failed to converge (status=1):\n",
      "STOP: TOTAL NO. of ITERATIONS REACHED LIMIT.\n",
      "\n",
      "Increase the number of iterations (max_iter) or scale the data as shown in:\n",
      "    https://scikit-learn.org/stable/modules/preprocessing.html\n",
      "Please also refer to the documentation for alternative solver options:\n",
      "    https://scikit-learn.org/stable/modules/linear_model.html#logistic-regression\n",
      "  n_iter_i = _check_optimize_result(\n",
      "/Users/valeriehuang/opt/anaconda3/lib/python3.8/site-packages/sklearn/linear_model/_logistic.py:762: ConvergenceWarning: lbfgs failed to converge (status=1):\n",
      "STOP: TOTAL NO. of ITERATIONS REACHED LIMIT.\n",
      "\n",
      "Increase the number of iterations (max_iter) or scale the data as shown in:\n",
      "    https://scikit-learn.org/stable/modules/preprocessing.html\n",
      "Please also refer to the documentation for alternative solver options:\n",
      "    https://scikit-learn.org/stable/modules/linear_model.html#logistic-regression\n",
      "  n_iter_i = _check_optimize_result(\n",
      "/Users/valeriehuang/opt/anaconda3/lib/python3.8/site-packages/sklearn/linear_model/_logistic.py:762: ConvergenceWarning: lbfgs failed to converge (status=1):\n",
      "STOP: TOTAL NO. of ITERATIONS REACHED LIMIT.\n",
      "\n",
      "Increase the number of iterations (max_iter) or scale the data as shown in:\n",
      "    https://scikit-learn.org/stable/modules/preprocessing.html\n",
      "Please also refer to the documentation for alternative solver options:\n",
      "    https://scikit-learn.org/stable/modules/linear_model.html#logistic-regression\n",
      "  n_iter_i = _check_optimize_result(\n",
      "/Users/valeriehuang/opt/anaconda3/lib/python3.8/site-packages/sklearn/linear_model/_logistic.py:762: ConvergenceWarning: lbfgs failed to converge (status=1):\n",
      "STOP: TOTAL NO. of ITERATIONS REACHED LIMIT.\n",
      "\n",
      "Increase the number of iterations (max_iter) or scale the data as shown in:\n",
      "    https://scikit-learn.org/stable/modules/preprocessing.html\n",
      "Please also refer to the documentation for alternative solver options:\n",
      "    https://scikit-learn.org/stable/modules/linear_model.html#logistic-regression\n",
      "  n_iter_i = _check_optimize_result(\n",
      "/Users/valeriehuang/opt/anaconda3/lib/python3.8/site-packages/sklearn/linear_model/_logistic.py:762: ConvergenceWarning: lbfgs failed to converge (status=1):\n",
      "STOP: TOTAL NO. of ITERATIONS REACHED LIMIT.\n",
      "\n",
      "Increase the number of iterations (max_iter) or scale the data as shown in:\n",
      "    https://scikit-learn.org/stable/modules/preprocessing.html\n",
      "Please also refer to the documentation for alternative solver options:\n",
      "    https://scikit-learn.org/stable/modules/linear_model.html#logistic-regression\n",
      "  n_iter_i = _check_optimize_result(\n",
      "/Users/valeriehuang/opt/anaconda3/lib/python3.8/site-packages/sklearn/linear_model/_logistic.py:762: ConvergenceWarning: lbfgs failed to converge (status=1):\n",
      "STOP: TOTAL NO. of ITERATIONS REACHED LIMIT.\n",
      "\n",
      "Increase the number of iterations (max_iter) or scale the data as shown in:\n",
      "    https://scikit-learn.org/stable/modules/preprocessing.html\n",
      "Please also refer to the documentation for alternative solver options:\n",
      "    https://scikit-learn.org/stable/modules/linear_model.html#logistic-regression\n",
      "  n_iter_i = _check_optimize_result(\n",
      "/Users/valeriehuang/opt/anaconda3/lib/python3.8/site-packages/sklearn/linear_model/_logistic.py:762: ConvergenceWarning: lbfgs failed to converge (status=1):\n",
      "STOP: TOTAL NO. of ITERATIONS REACHED LIMIT.\n",
      "\n",
      "Increase the number of iterations (max_iter) or scale the data as shown in:\n",
      "    https://scikit-learn.org/stable/modules/preprocessing.html\n",
      "Please also refer to the documentation for alternative solver options:\n",
      "    https://scikit-learn.org/stable/modules/linear_model.html#logistic-regression\n",
      "  n_iter_i = _check_optimize_result(\n",
      "/Users/valeriehuang/opt/anaconda3/lib/python3.8/site-packages/sklearn/linear_model/_logistic.py:762: ConvergenceWarning: lbfgs failed to converge (status=1):\n",
      "STOP: TOTAL NO. of ITERATIONS REACHED LIMIT.\n",
      "\n",
      "Increase the number of iterations (max_iter) or scale the data as shown in:\n",
      "    https://scikit-learn.org/stable/modules/preprocessing.html\n",
      "Please also refer to the documentation for alternative solver options:\n",
      "    https://scikit-learn.org/stable/modules/linear_model.html#logistic-regression\n",
      "  n_iter_i = _check_optimize_result(\n"
     ]
    },
    {
     "data": {
      "text/plain": [
       "GridSearchCV(estimator=LogisticRegression(),\n",
       "             param_grid={'C': [0.001, 0.01, 0.1, 1, 10], 'max_iter': [100],\n",
       "                         'penalty': ['l2'], 'solver': ['lbfgs']})"
      ]
     },
     "execution_count": 201,
     "metadata": {},
     "output_type": "execute_result"
    }
   ],
   "source": [
    "grid_search.fit(X_train_transformed, y_train)"
   ]
  },
  {
   "cell_type": "code",
   "execution_count": 202,
   "metadata": {},
   "outputs": [
    {
     "data": {
      "text/plain": [
       "LogisticRegression(C=10)"
      ]
     },
     "execution_count": 202,
     "metadata": {},
     "output_type": "execute_result"
    }
   ],
   "source": [
    "be = grid_search.best_estimator_\n",
    "logging.info(\"Best Model:\")\n",
    "logging.info(be)\n",
    "be"
   ]
  },
  {
   "cell_type": "markdown",
   "metadata": {},
   "source": [
    "### Evaluation"
   ]
  },
  {
   "cell_type": "code",
   "execution_count": 203,
   "metadata": {},
   "outputs": [
    {
     "name": "stdout",
     "output_type": "stream",
     "text": [
      "              precision    recall  f1-score   support\n",
      "\n",
      "           0       0.92      0.95      0.94     29107\n",
      "           1       0.65      0.52      0.58      4959\n",
      "\n",
      "    accuracy                           0.89     34066\n",
      "   macro avg       0.78      0.74      0.76     34066\n",
      "weighted avg       0.88      0.89      0.88     34066\n",
      "\n"
     ]
    },
    {
     "data": {
      "image/png": "[encoded data removed]",
      "text/plain": [
       "<Figure size 432x288 with 2 Axes>"
      ]
     },
     "metadata": {
      "needs_background": "light"
     },
     "output_type": "display_data"
    },
    {
     "data": {
      "image/png": "[encoded data removed]",
      "text/plain": [
       "<Figure size 432x288 with 1 Axes>"
      ]
     },
     "metadata": {
      "needs_background": "light"
     },
     "output_type": "display_data"
    },
    {
     "data": {
      "image/png": "[encoded data removed]",
      "text/plain": [
       "<Figure size 432x288 with 1 Axes>"
      ]
     },
     "metadata": {
      "needs_background": "light"
     },
     "output_type": "display_data"
    }
   ],
   "source": [
    "be_preds = be.predict(X_test_transformed)\n",
    "be_probs = be.predict_proba(X_test_transformed)[:,1]\n",
    "\n",
    "print(classification_report(y_test, be_preds))\n",
    "\n",
    "plot_confusion_matrix(be, X_test_transformed, y_test, cmap = plt.cm.Blues)\n",
    "plt.show()\n",
    "\n",
    "plot_roc_curve(be, X_test_transformed, y_test)\n",
    "plt.show()\n",
    "\n",
    "plot_precision_recall_curve(be, X_test_transformed, y_test)\n",
    "plt.show()"
   ]
  },
  {
   "cell_type": "markdown",
   "metadata": {},
   "source": [
    "## Save Information"
   ]
  },
  {
   "cell_type": "code",
   "execution_count": 204,
   "metadata": {},
   "outputs": [],
   "source": [
    "logging.info(grid_search.cv_results_)"
   ]
  },
  {
   "cell_type": "code",
   "execution_count": 205,
   "metadata": {},
   "outputs": [],
   "source": [
    "auc_score = roc_auc_score(y_test, be_probs)\n",
    "avg_precision = average_precision_score(y_test, be_probs)\n",
    "cm = confusion_matrix(y_test, be_preds)"
   ]
  },
  {
   "cell_type": "code",
   "execution_count": 206,
   "metadata": {},
   "outputs": [],
   "source": [
    "logging.info(f'AUC: {auc_score}')\n",
    "logging.info(f'Average Precision: {avg_precision}')\n",
    "logging.info('Confusion Matrix:')\n",
    "logging.info(cm)"
   ]
  },
  {
   "cell_type": "code",
   "execution_count": 207,
   "metadata": {},
   "outputs": [],
   "source": [
    "logging.info(\"Classification Report:\")\n",
    "logging.info(classification_report(y_test, be_preds))"
   ]
  },
  {
   "cell_type": "code",
   "execution_count": 214,
   "metadata": {},
   "outputs": [],
   "source": [
    "upsampling_data = pd.read_excel('../data/Precision_Recall.xlsx')"
   ]
  },
  {
   "cell_type": "code",
   "execution_count": 215,
   "metadata": {},
   "outputs": [
    {
     "data": {
      "text/html": [
       "<div>\n",
       "<style scoped>\n",
       "    .dataframe tbody tr th:only-of-type {\n",
       "        vertical-align: middle;\n",
       "    }\n",
       "\n",
       "    .dataframe tbody tr th {\n",
       "        vertical-align: top;\n",
       "    }\n",
       "\n",
       "    .dataframe thead th {\n",
       "        text-align: right;\n",
       "    }\n",
       "</style>\n",
       "<table border=\"1\" class=\"dataframe\">\n",
       "  <thead>\n",
       "    <tr style=\"text-align: right;\">\n",
       "      <th></th>\n",
       "      <th>Proportion</th>\n",
       "      <th>Precision for Not Satirical</th>\n",
       "      <th>Recall for Not Satirical</th>\n",
       "      <th>F-1 Score for Not Satirical</th>\n",
       "      <th>Precision for Satirical</th>\n",
       "      <th>Recall for Satirical</th>\n",
       "      <th>F-1 Score for Satirical</th>\n",
       "    </tr>\n",
       "  </thead>\n",
       "  <tbody>\n",
       "    <tr>\n",
       "      <th>0</th>\n",
       "      <td>0.2</td>\n",
       "      <td>0.92</td>\n",
       "      <td>0.97</td>\n",
       "      <td>0.95</td>\n",
       "      <td>0.74</td>\n",
       "      <td>0.52</td>\n",
       "      <td>0.61</td>\n",
       "    </tr>\n",
       "    <tr>\n",
       "      <th>1</th>\n",
       "      <td>0.3</td>\n",
       "      <td>0.93</td>\n",
       "      <td>0.94</td>\n",
       "      <td>0.94</td>\n",
       "      <td>0.64</td>\n",
       "      <td>0.58</td>\n",
       "      <td>0.61</td>\n",
       "    </tr>\n",
       "    <tr>\n",
       "      <th>2</th>\n",
       "      <td>0.4</td>\n",
       "      <td>0.93</td>\n",
       "      <td>0.94</td>\n",
       "      <td>0.93</td>\n",
       "      <td>0.62</td>\n",
       "      <td>0.58</td>\n",
       "      <td>0.60</td>\n",
       "    </tr>\n",
       "    <tr>\n",
       "      <th>3</th>\n",
       "      <td>0.5</td>\n",
       "      <td>0.93</td>\n",
       "      <td>0.93</td>\n",
       "      <td>0.93</td>\n",
       "      <td>0.61</td>\n",
       "      <td>0.60</td>\n",
       "      <td>0.60</td>\n",
       "    </tr>\n",
       "    <tr>\n",
       "      <th>4</th>\n",
       "      <td>0.6</td>\n",
       "      <td>0.93</td>\n",
       "      <td>0.93</td>\n",
       "      <td>0.93</td>\n",
       "      <td>0.61</td>\n",
       "      <td>0.59</td>\n",
       "      <td>0.60</td>\n",
       "    </tr>\n",
       "    <tr>\n",
       "      <th>5</th>\n",
       "      <td>0.7</td>\n",
       "      <td>0.93</td>\n",
       "      <td>0.94</td>\n",
       "      <td>0.93</td>\n",
       "      <td>0.62</td>\n",
       "      <td>0.58</td>\n",
       "      <td>0.60</td>\n",
       "    </tr>\n",
       "    <tr>\n",
       "      <th>6</th>\n",
       "      <td>0.8</td>\n",
       "      <td>0.93</td>\n",
       "      <td>0.94</td>\n",
       "      <td>0.93</td>\n",
       "      <td>0.62</td>\n",
       "      <td>0.56</td>\n",
       "      <td>0.59</td>\n",
       "    </tr>\n",
       "    <tr>\n",
       "      <th>7</th>\n",
       "      <td>0.9</td>\n",
       "      <td>0.92</td>\n",
       "      <td>0.95</td>\n",
       "      <td>0.94</td>\n",
       "      <td>0.65</td>\n",
       "      <td>0.54</td>\n",
       "      <td>0.59</td>\n",
       "    </tr>\n",
       "    <tr>\n",
       "      <th>8</th>\n",
       "      <td>1.0</td>\n",
       "      <td>0.92</td>\n",
       "      <td>0.95</td>\n",
       "      <td>0.94</td>\n",
       "      <td>0.65</td>\n",
       "      <td>0.52</td>\n",
       "      <td>0.58</td>\n",
       "    </tr>\n",
       "  </tbody>\n",
       "</table>\n",
       "</div>"
      ],
      "text/plain": [
       "   Proportion  Precision for Not Satirical  Recall for Not Satirical  \\\n",
       "0         0.2                         0.92                      0.97   \n",
       "1         0.3                         0.93                      0.94   \n",
       "2         0.4                         0.93                      0.94   \n",
       "3         0.5                         0.93                      0.93   \n",
       "4         0.6                         0.93                      0.93   \n",
       "5         0.7                         0.93                      0.94   \n",
       "6         0.8                         0.93                      0.94   \n",
       "7         0.9                         0.92                      0.95   \n",
       "8         1.0                         0.92                      0.95   \n",
       "\n",
       "   F-1 Score for Not Satirical  Precision for Satirical  Recall for Satirical  \\\n",
       "0                         0.95                     0.74                  0.52   \n",
       "1                         0.94                     0.64                  0.58   \n",
       "2                         0.93                     0.62                  0.58   \n",
       "3                         0.93                     0.61                  0.60   \n",
       "4                         0.93                     0.61                  0.59   \n",
       "5                         0.93                     0.62                  0.58   \n",
       "6                         0.93                     0.62                  0.56   \n",
       "7                         0.94                     0.65                  0.54   \n",
       "8                         0.94                     0.65                  0.52   \n",
       "\n",
       "   F-1 Score for Satirical  \n",
       "0                     0.61  \n",
       "1                     0.61  \n",
       "2                     0.60  \n",
       "3                     0.60  \n",
       "4                     0.60  \n",
       "5                     0.60  \n",
       "6                     0.59  \n",
       "7                     0.59  \n",
       "8                     0.58  "
      ]
     },
     "execution_count": 215,
     "metadata": {},
     "output_type": "execute_result"
    }
   ],
   "source": [
    "upsampling_data"
   ]
  },
  {
   "cell_type": "code",
   "execution_count": null,
   "metadata": {},
   "outputs": [],
   "source": []
  }
 ],
 "metadata": {
  "kernelspec": {
   "display_name": "Python 3",
   "language": "python",
   "name": "python3"
  },
  "language_info": {
   "codemirror_mode": {
    "name": "ipython",
    "version": 3
   },
   "file_extension": ".py",
   "mimetype": "text/x-python",
   "name": "python",
   "nbconvert_exporter": "python",
   "pygments_lexer": "ipython3",
   "version": "3.8.3"
  }
 },
 "nbformat": 4,
 "nbformat_minor": 4
}
