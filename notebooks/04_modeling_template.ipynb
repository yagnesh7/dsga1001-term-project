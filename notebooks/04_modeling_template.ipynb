{
 "cells": [
  {
   "cell_type": "markdown",
   "metadata": {},
   "source": [
    "### Imports"
   ]
  },
  {
   "cell_type": "code",
   "execution_count": 156,
   "metadata": {},
   "outputs": [],
   "source": [
    "import matplotlib.pyplot as plt \n",
    "import pandas as pd\n",
    "import numpy as np\n",
    "import datetime\n",
    "import seaborn as sns\n",
    "import re\n",
    "import nltk\n",
    "import logging\n",
    "\n",
    "import spacy\n",
    "import en_core_web_sm\n",
    "nlp = spacy.load(\"en_core_web_sm\", disable=['parser', 'ner'])\n",
    "import gensim\n",
    "from gensim.utils import lemmatize \n",
    "from nltk.stem import WordNetLemmatizer \n",
    "\n",
    "from sklearn import feature_extraction\n",
    "from sklearn.utils import resample\n",
    "from sklearn.model_selection import train_test_split, GridSearchCV\n",
    "from sklearn.linear_model import LogisticRegression\n",
    "from sklearn.naive_bayes import MultinomialNB, BernoulliNB\n",
    "from sklearn.ensemble import RandomForestClassifier\n",
    "from sklearn.svm import SVC\n",
    "from sklearn.metrics import (plot_roc_curve, classification_report, roc_auc_score, average_precision_score,\n",
    "confusion_matrix, plot_confusion_matrix, plot_precision_recall_curve)\n"
   ]
  },
  {
   "cell_type": "markdown",
   "metadata": {},
   "source": [
    "### Configs"
   ]
  },
  {
   "cell_type": "code",
   "execution_count": 175,
   "metadata": {},
   "outputs": [
    {
     "data": {
      "text/plain": [
       "{'run_name': 'template_run',\n",
       " 'test_year': 2020,\n",
       " 'model': 'lr',\n",
       " 'upsampling': 0.4,\n",
       " 'lemmatize': None,\n",
       " 'vectorizer': {'type': 'cv',\n",
       "  'ngrams': (1, 3),\n",
       "  'binary': True,\n",
       "  'stopwords': 'english',\n",
       "  'max_df': 0.8,\n",
       "  'min_df': 10},\n",
       " 'grid_search': True,\n",
       " 'hyperparameters': {'C': [0.001, 0.01, 0.1, 1, 10],\n",
       "  'solver': ['lbfgs'],\n",
       "  'penalty': ['l2'],\n",
       "  'max_iter': [1000]}}"
      ]
     },
     "execution_count": 175,
     "metadata": {},
     "output_type": "execute_result"
    }
   ],
   "source": [
    "configs = {\n",
    "    \"run_name\": \"template_run\",\n",
    "    \"test_year\": 2020,\n",
    "    # Model Type, will support LR, SVC, RandomForest, and NB\n",
    "    'model': 'lr', # lr, svc, mnb, bnb, rf \n",
    "    'upsampling': 0.4, # 0.0 to 1.0 or None\n",
    "    'lemmatize': None, #'spacy', # Choose from nltk, spacy, gensim, None\n",
    "    # Vectorizer Type (CV, TFIDF)\n",
    "    'vectorizer': {'type': 'cv', \n",
    "                    'ngrams': (1,3),\n",
    "                   'binary': True,\n",
    "                   'stopwords': 'english',\n",
    "                   'max_df': 0.8,\n",
    "                   'min_df': 10,\n",
    "                  },\n",
    "    'grid_search': True, # If true, your other hyperparemeters should be in a list.\n",
    "    'hyperparameters': {\n",
    "        # Change these based on your model.\n",
    "        \"C\": [0.001, 0.01, 0.1, 1, 10],\n",
    "        \"solver\": [\"lbfgs\"],\n",
    "        \"penalty\": [\"l2\"],\n",
    "        \"max_iter\": [1000]\n",
    "    }\n",
    "}\n",
    "\n",
    "configs"
   ]
  },
  {
   "cell_type": "code",
   "execution_count": 158,
   "metadata": {},
   "outputs": [],
   "source": [
    "ts = str(datetime.datetime.now())[:19].replace(\":\",\"-\")\n",
    "logging.basicConfig(filename = f\"../logs/{configs['run_name']}_{ts}.log\", level=logging.INFO)"
   ]
  },
  {
   "cell_type": "code",
   "execution_count": 159,
   "metadata": {},
   "outputs": [],
   "source": [
    "logging.info(configs)"
   ]
  },
  {
   "cell_type": "markdown",
   "metadata": {},
   "source": [
    "### Data Loading and Splitting"
   ]
  },
  {
   "cell_type": "code",
   "execution_count": 160,
   "metadata": {},
   "outputs": [
    {
     "name": "stdout",
     "output_type": "stream",
     "text": [
      "(246660, 4)\n",
      "(245525, 4)\n"
     ]
    }
   ],
   "source": [
    "data = pd.read_csv('../data/combined_clean_v6.csv', sep = \"|\")\n",
    "data = data.loc[~data['clean'].isnull()]\n",
    "print(data.shape)\n",
    "logging.info(f\"Date shape before removing duplicates {data.shape}\")\n",
    "data = data.drop_duplicates().reset_index(drop = True)\n",
    "print(data.shape)\n",
    "logging.info(f\"Date shape after removing duplicates {data.shape}\")\n"
   ]
  },
  {
   "cell_type": "code",
   "execution_count": 161,
   "metadata": {},
   "outputs": [],
   "source": [
    "data['clean'] = data['clean'].astype('U')\n",
    "data['year'] = data['year'].astype(int)"
   ]
  },
  {
   "cell_type": "markdown",
   "metadata": {},
   "source": [
    "### Lemmatization"
   ]
  },
  {
   "cell_type": "code",
   "execution_count": 162,
   "metadata": {
    "scrolled": false
   },
   "outputs": [
    {
     "name": "stdout",
     "output_type": "stream",
     "text": [
      "CPU times: user 6 µs, sys: 1e+03 ns, total: 7 µs\n",
      "Wall time: 8.82 µs\n"
     ]
    }
   ],
   "source": [
    "%%time\n",
    "def sentence_lemmatizer(text):\n",
    "    word_list = nltk.word_tokenize(text)\n",
    "    lemmatized_output = ' '.join([lemmatizer.lemmatize(w) for w in word_list])\n",
    "    return lemmatized_output\n",
    "\n",
    "if configs['lemmatize'] == \"nltk\":\n",
    "    data['clean']=data['clean'].apply(lambda x:sentence_lemmatizer(x))\n",
    "    \n",
    "if configs['lemmatize'] == \"spacy\":\n",
    "    data['clean'] = data['clean'].apply(lambda x: ' '.join([token.lemma_ for token in list(nlp(x)) if (token.is_stop==False)]))\n",
    "\n",
    "if configs['lemmatize'] == \"gensim\":\n",
    "    data['clean'] = data['clean'].apply(lambda x:' '.join([wd.decode('utf-8').split('/')[0] for wd in lemmatize(x)]))"
   ]
  },
  {
   "cell_type": "markdown",
   "metadata": {},
   "source": [
    "### Train Test Split"
   ]
  },
  {
   "cell_type": "code",
   "execution_count": 163,
   "metadata": {},
   "outputs": [
    {
     "name": "stdout",
     "output_type": "stream",
     "text": [
      "Train has 204968 records, 8.69% are sarcastic headlines\n",
      "Test has 40557 records, 12.23% are sarcastic headlines\n"
     ]
    }
   ],
   "source": [
    "test_year = configs['test_year']\n",
    "\n",
    "train = data.loc[data['year'] < test_year]\n",
    "test = data.loc[data['year'] == test_year]\n",
    "\n",
    "train_sarcastic_pct = train['is_sarcastic'].mean()*100\n",
    "test_sarcastic_pct = test['is_sarcastic'].mean()*100\n",
    "\n",
    "print(f\"Train has {train.shape[0]} records, {round(train_sarcastic_pct,2)}% are sarcastic headlines\")\n",
    "print(f\"Test has {test.shape[0]} records, {round(test_sarcastic_pct,2)}% are sarcastic headlines\")\n",
    "\n",
    "logging.info(f\"Train has {train.shape[0]} records, {round(train_sarcastic_pct,2)}% are sarcastic headlines\")\n",
    "logging.info(f\"Test has {test.shape[0]} records, {round(test_sarcastic_pct,2)}% are sarcastic headlines\")"
   ]
  },
  {
   "cell_type": "markdown",
   "metadata": {},
   "source": [
    "## Upsampling"
   ]
  },
  {
   "cell_type": "code",
   "execution_count": 164,
   "metadata": {},
   "outputs": [
    {
     "name": "stdout",
     "output_type": "stream",
     "text": [
      "Upsampled Train has 374310 records, 50.0% are sarcastic headlines\n",
      "Test has 40557 records, 12.23% are sarcastic headlines\n"
     ]
    }
   ],
   "source": [
    "if configs['upsampling']:\n",
    "    df_majority = train[train.is_sarcastic == 0]\n",
    "    df_minority = train[train.is_sarcastic == 1]\n",
    "    df_minority_upsampled = resample(df_minority, replace=True, n_samples=round(df_majority.shape[0]*configs['upsampling']))\n",
    "    train = pd.concat([df_majority, df_minority_upsampled])\n",
    "    \n",
    "    train_sarcastic_pct = train['is_sarcastic'].mean()*100\n",
    "    test_sarcastic_pct = test['is_sarcastic'].mean()*100\n",
    "    \n",
    "    print(f\"Upsampled Train has {train.shape[0]} records, {round(train_sarcastic_pct,2)}% are sarcastic headlines\")\n",
    "    print(f\"Test has {test.shape[0]} records, {round(test_sarcastic_pct,2)}% are sarcastic headlines\")\n",
    "\n",
    "    logging.info(f\"Upsampled Train has {train.shape[0]} records, {round(train_sarcastic_pct,2)}% are sarcastic headlines\")\n",
    "    logging.info(f\"Test has {test.shape[0]} records, {round(test_sarcastic_pct,2)}% are sarcastic headlines\")\n"
   ]
  },
  {
   "cell_type": "code",
   "execution_count": 165,
   "metadata": {},
   "outputs": [],
   "source": [
    "X_train = train['clean']\n",
    "y_train = train['is_sarcastic']\n",
    "\n",
    "X_test = test['clean']\n",
    "y_test = test['is_sarcastic']"
   ]
  },
  {
   "cell_type": "markdown",
   "metadata": {},
   "source": [
    "### Vectorization\n",
    "\n",
    "Please adjust the configs or add other data processing steps here."
   ]
  },
  {
   "cell_type": "code",
   "execution_count": 166,
   "metadata": {},
   "outputs": [
    {
     "name": "stdout",
     "output_type": "stream",
     "text": [
      "Please make sure your vectorizer is a valid option or add the functionality.\n",
      "Vectorizer is what converts the text into numerical entries\n",
      "CountVectorizer(binary=True, max_df=0.8, min_df=10, ngram_range=(1, 3),\n",
      "                stop_words='english', strip_accents='ascii')\n"
     ]
    }
   ],
   "source": [
    "print(\"Please make sure your vectorizer is a valid option or add the functionality.\")\n",
    "print('Vectorizer is what converts the text into numerical entries')\n",
    "\n",
    "if configs['vectorizer']['type'] == \"cv\":\n",
    "    vectorizer = feature_extraction.text.CountVectorizer(\n",
    "                                             lowercase = True,\n",
    "                                             strip_accents = 'ascii',\n",
    "                                             stop_words = configs['vectorizer']['stopwords'],\n",
    "                                             ngram_range = configs['vectorizer']['ngrams'],\n",
    "                                             max_df = configs['vectorizer']['max_df'],\n",
    "                                             min_df = configs['vectorizer']['min_df'],\n",
    "                                             binary = configs['vectorizer']['binary']\n",
    "    )\n",
    "                                                        \n",
    "if configs['vectorizer']['type'] == \"tfidf\":\n",
    "    vectorizer = feature_extraction.text.TfidfVectorizer(\n",
    "                                             lowercase = True,\n",
    "                                             strip_accents = 'ascii',\n",
    "                                             stop_words = configs['vectorizer']['stopwords'],\n",
    "                                             ngram_range = configs['vectorizer']['ngrams'],\n",
    "                                             max_df = configs['vectorizer']['max_df'],\n",
    "                                             min_df = configs['vectorizer']['min_df'],\n",
    "                                             binary = configs['vectorizer']['binary']\n",
    "    )\n",
    "    \n",
    "assert(vectorizer)\n",
    "vectorizer\n",
    "\n",
    "logging.info(vectorizer)\n",
    "print(vectorizer)"
   ]
  },
  {
   "cell_type": "code",
   "execution_count": 167,
   "metadata": {},
   "outputs": [
    {
     "name": "stdout",
     "output_type": "stream",
     "text": [
      "Fitting Vectorizer and Transform Train & Test\n",
      "CPU times: user 11.6 s, sys: 517 ms, total: 12.1 s\n",
      "Wall time: 12.4 s\n"
     ]
    }
   ],
   "source": [
    "%%time\n",
    "print(\"Fitting Vectorizer and Transform Train & Test\")\n",
    "X_train_transformed =  vectorizer.fit_transform(X_train)\n",
    "X_test_transformed = vectorizer.transform(X_test)"
   ]
  },
  {
   "cell_type": "markdown",
   "metadata": {},
   "source": [
    "### Modeling"
   ]
  },
  {
   "cell_type": "code",
   "execution_count": 168,
   "metadata": {},
   "outputs": [
    {
     "data": {
      "text/plain": [
       "GridSearchCV(estimator=LogisticRegression(),\n",
       "             param_grid={'C': [0.001, 0.01, 0.1, 1, 10], 'max_iter': [1000],\n",
       "                         'penalty': ['l2'], 'solver': ['lbfgs']})"
      ]
     },
     "execution_count": 168,
     "metadata": {},
     "output_type": "execute_result"
    }
   ],
   "source": [
    "if configs['grid_search']:\n",
    "    if configs['model'] == \"lr\":\n",
    "        model = LogisticRegression()\n",
    "    if configs['model'] == \"rf\":\n",
    "        model = RandomForestClassifier()\n",
    "    if configs['model'] == \"bnb\":\n",
    "        model = BernoulliNB()\n",
    "    if configs['model'] == \"mnb\":\n",
    "        model = MultinomialNB()\n",
    "    if configs['model'] == 'svc':\n",
    "        model = SVC()\n",
    "\n",
    "    grid_search = GridSearchCV(model, configs['hyperparameters'])\n",
    "    \n",
    "logging.info(grid_search)\n",
    "grid_search"
   ]
  },
  {
   "cell_type": "code",
   "execution_count": 169,
   "metadata": {
    "scrolled": true
   },
   "outputs": [
    {
     "data": {
      "text/plain": [
       "GridSearchCV(estimator=LogisticRegression(),\n",
       "             param_grid={'C': [0.001, 0.01, 0.1, 1, 10], 'max_iter': [1000],\n",
       "                         'penalty': ['l2'], 'solver': ['lbfgs']})"
      ]
     },
     "execution_count": 169,
     "metadata": {},
     "output_type": "execute_result"
    }
   ],
   "source": [
    "grid_search.fit(X_train_transformed, y_train)"
   ]
  },
  {
   "cell_type": "code",
   "execution_count": 170,
   "metadata": {},
   "outputs": [
    {
     "data": {
      "text/plain": [
       "LogisticRegression(C=10, max_iter=1000)"
      ]
     },
     "execution_count": 170,
     "metadata": {},
     "output_type": "execute_result"
    }
   ],
   "source": [
    "be = grid_search.best_estimator_\n",
    "logging.info(\"Best Model:\")\n",
    "logging.info(be)\n",
    "be"
   ]
  },
  {
   "cell_type": "markdown",
   "metadata": {},
   "source": [
    "### Evaluation"
   ]
  },
  {
   "cell_type": "code",
<<<<<<< HEAD
   "execution_count": 171,
   "metadata": {},
=======
   "execution_count": 19,
   "metadata": {
    "scrolled": true
   },
>>>>>>> f6d293706374b250b079fc5f1cf0a6d85b81558a
   "outputs": [
    {
     "name": "stdout",
     "output_type": "stream",
     "text": [
      "              precision    recall  f1-score   support\n",
      "\n",
      "           0       0.93      0.97      0.95     35598\n",
      "           1       0.68      0.44      0.54      4959\n",
      "\n",
      "    accuracy                           0.91     40557\n",
      "   macro avg       0.80      0.71      0.74     40557\n",
      "weighted avg       0.90      0.91      0.90     40557\n",
      "\n"
     ]
    },
    {
     "data": {
      "image/png": "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\n",
      "text/plain": [
       "<Figure size 432x288 with 2 Axes>"
      ]
     },
     "metadata": {
      "needs_background": "light"
     },
     "output_type": "display_data"
    },
    {
     "data": {
      "image/png": "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\n",
      "text/plain": [
       "<Figure size 432x288 with 1 Axes>"
      ]
     },
     "metadata": {
      "needs_background": "light"
     },
     "output_type": "display_data"
    },
    {
     "data": {
      "image/png": "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\n",
      "text/plain": [
       "<Figure size 432x288 with 1 Axes>"
      ]
     },
     "metadata": {
      "needs_background": "light"
     },
     "output_type": "display_data"
    }
   ],
   "source": [
    "be_preds = be.predict(X_test_transformed)\n",
    "be_probs = be.predict_proba(X_test_transformed)[:,1]\n",
    "\n",
    "print(classification_report(y_test, be_preds))\n",
    "\n",
    "plot_confusion_matrix(be, X_test_transformed, y_test, cmap = plt.cm.Blues)\n",
    "plt.show()\n",
    "\n",
    "plot_roc_curve(be, X_test_transformed, y_test)\n",
    "plt.show()\n",
    "\n",
    "plot_precision_recall_curve(be, X_test_transformed, y_test)\n",
    "plt.show()"
   ]
  },
  {
   "cell_type": "markdown",
   "metadata": {},
   "source": [
    "### Feature Ranking (for logistic regression)"
   ]
  },
  {
   "cell_type": "code",
   "execution_count": 3,
   "metadata": {},
   "outputs": [],
   "source": [
    "vocab = vectorizer.get_feature_names()\n",
    "coef_dicts = []\n",
    "for i, coef_ in enumerate(list(be.coef_[0,:])):\n",
    "    coef_dict = {'word': vocab[i], 'coef': coef_}\n",
    "    coef_dicts.append(coef_dict)\n",
    "\n",
    "coef_pd = pd.DataFrame(coef_dicts)\n",
    "print(\"Words with Lowest Coefficients of Logistic Regression model\")\n",
    "print(coef_pd.sort_values('coef', ascending=True)[['word', 'coef']][:20])\n",
    "\n",
    "print(\"Words with Highest Coefficients of Logistic Regression model\")\n",
    "print(coef_pd.sort_values('coef', ascending=False)[['word', 'coef']][:20])"
   ]
  },
  {
   "cell_type": "markdown",
   "metadata": {},
   "source": [
    "## Save Information"
   ]
  },
  {
   "cell_type": "code",
   "execution_count": 172,
   "metadata": {},
   "outputs": [],
   "source": [
    "logging.info(grid_search.cv_results_)"
   ]
  },
  {
   "cell_type": "code",
   "execution_count": 173,
   "metadata": {},
   "outputs": [],
   "source": [
    "auc_score = roc_auc_score(y_test, be_probs)\n",
    "avg_precision = average_precision_score(y_test, be_probs)\n",
    "cm = confusion_matrix(y_test, be_preds)"
   ]
  },
  {
   "cell_type": "code",
   "execution_count": 174,
   "metadata": {},
   "outputs": [],
   "source": [
    "logging.info(f'AUC: {auc_score}')\n",
    "logging.info(f'Average Precision: {avg_precision}')\n",
    "logging.info('Confusion Matrix:')\n",
    "logging.info(cm)\n",
    "logging.info(\"Classification Report:\")\n",
    "logging.info(classification_report(y_test, be_preds))"
   ]
  },
  {
   "cell_type": "code",
   "execution_count": null,
   "metadata": {},
   "outputs": [],
   "source": []
  }
 ],
 "metadata": {
  "kernelspec": {
   "display_name": "Python 3",
   "language": "python",
   "name": "python3"
  },
  "language_info": {
   "codemirror_mode": {
    "name": "ipython",
    "version": 3
   },
   "file_extension": ".py",
   "mimetype": "text/x-python",
   "name": "python",
   "nbconvert_exporter": "python",
   "pygments_lexer": "ipython3",
<<<<<<< HEAD
   "version": "3.8.3"
=======
   "version": "3.7.9"
>>>>>>> f6d293706374b250b079fc5f1cf0a6d85b81558a
  }
 },
 "nbformat": 4,
 "nbformat_minor": 4
}
