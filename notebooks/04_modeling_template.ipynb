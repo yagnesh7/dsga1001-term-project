{
 "cells": [
  {
   "cell_type": "markdown",
   "metadata": {},
   "source": [
    "### Imports"
   ]
  },
  {
   "cell_type": "code",
   "execution_count": 8,
   "metadata": {},
   "outputs": [],
   "source": [
    "import matplotlib.pyplot as plt \n",
    "import pandas as pd\n",
    "import numpy as np\n",
    "import datetime\n",
    "import seaborn as sns\n",
    "import re\n",
    "import nltk\n",
    "import logging\n",
    "\n",
    "import spacy\n",
    "import en_core_web_sm\n",
    "nlp = spacy.load(\"en_core_web_sm\", disable=['parser', 'ner'])\n",
    "import gensim\n",
    "from gensim.utils import lemmatize \n",
    "from nltk.stem import WordNetLemmatizer \n",
    "\n",
    "from sklearn import feature_extraction\n",
    "from sklearn.model_selection import train_test_split, GridSearchCV\n",
    "from sklearn.linear_model import LogisticRegression\n",
    "from sklearn.naive_bayes import MultinomialNB, BernoulliNB\n",
    "from sklearn.ensemble import RandomForestClassifier\n",
    "from sklearn.svm import SVC\n",
    "from sklearn.metrics import (plot_roc_curve, classification_report, roc_auc_score, average_precision_score,\n",
    "confusion_matrix, plot_confusion_matrix, plot_precision_recall_curve)\n"
   ]
  },
  {
   "cell_type": "markdown",
   "metadata": {},
   "source": [
    "### Configs"
   ]
  },
  {
   "cell_type": "code",
   "execution_count": 15,
   "metadata": {},
   "outputs": [
    {
     "data": {
      "text/plain": [
       "{'run_name': 'template_run',\n",
       " 'test_year': 2020,\n",
       " 'model': 'lr',\n",
       " 'lemmatize': 'spacy',\n",
       " 'vectorizer': {'type': 'cv',\n",
       "  'ngrams': (1, 3),\n",
       "  'binary': True,\n",
       "  'stopwords': 'english',\n",
       "  'max_df': 0.8,\n",
       "  'min_df': 10},\n",
       " 'grid_search': True,\n",
       " 'hyperparameters': {'C': [0.001, 0.01, 0.1, 1, 10],\n",
       "  'solver': ['lbfgs'],\n",
       "  'penalty': ['l2'],\n",
       "  'max_iter': [1000]}}"
      ]
     },
     "execution_count": 15,
     "metadata": {},
     "output_type": "execute_result"
    }
   ],
   "source": [
    "configs = {\n",
    "    \"run_name\": \"template_run\",\n",
    "    \"test_year\": 2020,\n",
    "    # Model Type, will support LR, SVC, RandomForest, and NB\n",
    "    'model': 'lr',\n",
    "    'lemmatize': 'spacy', # Choose from nltk, spacy, gensim\n",
    "    # Vectorizer Type (CV, TFIDF)\n",
    "    'vectorizer': {'type': 'cv', \n",
    "                    'ngrams': (1,3),\n",
    "                   'binary': True,\n",
    "                   'stopwords': 'english',\n",
    "                   'max_df': 0.8,\n",
    "                   'min_df': 10,\n",
    "                  },\n",
    "    'grid_search': True, # If true, your other hyperparemeters should be in a list.\n",
    "    'hyperparameters': {\n",
    "        # Change these based on your model.\n",
    "        \"C\": [0.001, 0.01, 0.1, 1, 10],\n",
    "        \"solver\": [\"lbfgs\"],\n",
    "        \"penalty\": [\"l2\"],\n",
    "        \"max_iter\": [1000]\n",
    "    }\n",
    "}\n",
    "\n",
    "configs"
   ]
  },
  {
   "cell_type": "code",
   "execution_count": 16,
   "metadata": {},
   "outputs": [],
   "source": [
    "ts = str(datetime.datetime.now())[:19].replace(\":\",\"-\")\n",
    "logging.basicConfig(filename = f\"../logs/{configs['run_name']}_{ts}.log\", level=logging.INFO)"
   ]
  },
  {
   "cell_type": "code",
   "execution_count": 17,
   "metadata": {},
   "outputs": [],
   "source": [
    "logging.info(configs)"
   ]
  },
  {
   "cell_type": "markdown",
   "metadata": {},
   "source": [
    "### Data Loading and Splitting"
   ]
  },
  {
   "cell_type": "code",
   "execution_count": 18,
   "metadata": {},
   "outputs": [
    {
     "name": "stdout",
     "output_type": "stream",
     "text": [
      "(246667, 4)\n",
      "(245527, 4)\n"
     ]
    }
   ],
   "source": [
    "data = pd.read_csv('../data/combined_clean_v6.csv', sep = \"|\")\n",
    "print(data.shape)\n",
    "logging.info(f\"Date shape before removing duplicates {data.shape}\")\n",
    "data = data.drop_duplicates().reset_index(drop = True)\n",
    "print(data.shape)\n",
    "logging.info(f\"Date shape after removing duplicates {data.shape}\")\n"
   ]
  },
  {
   "cell_type": "code",
   "execution_count": 19,
   "metadata": {},
   "outputs": [],
   "source": [
    "data['clean'] = data['clean'].astype('U')\n",
    "data['year'] = data['year'].astype(int)"
   ]
  },
  {
   "cell_type": "markdown",
   "metadata": {},
   "source": [
    "### Lemmatization"
   ]
  },
  {
   "cell_type": "code",
   "execution_count": 20,
   "metadata": {
    "scrolled": false
   },
   "outputs": [],
   "source": [
    "%%time\n",
    "def sentence_lemmatizer(text):\n",
    "    word_list = nltk.word_tokenize(text)\n",
    "    lemmatized_output = ' '.join([lemmatizer.lemmatize(w) for w in word_list])\n",
    "    return lemmatized_output\n",
    "\n",
    "if configs['lemmatize'] == \"nltk\":\n",
    "    data['clean']=data['clean'].apply(lambda x:sentence_lemmatizer(x))\n",
    "    \n",
    "if configs['lemmatize'] == \"spacy\":\n",
    "    data['clean'] = data['clean'].apply(lambda x: ' '.join([token.lemma_ for token in list(nlp(x)) if (token.is_stop==False)]))\n",
    "\n",
    "if configs['lemmatize'] == \"gensim\":\n",
    "    data['clean'] = data['clean'].apply(lambda x:' '.join([wd.decode('utf-8').split('/')[0] for wd in lemmatize(x)]))"
   ]
  },
  {
   "cell_type": "markdown",
   "metadata": {},
   "source": [
    "### Train Test Split"
   ]
  },
  {
   "cell_type": "code",
   "execution_count": 21,
   "metadata": {},
   "outputs": [
    {
     "name": "stdout",
     "output_type": "stream",
     "text": [
      "Train has 204969 records, 8.69% are sarcastic headlines\n",
      "Test has 40558 records, 12.23% are sarcastic headlines\n"
     ]
    }
   ],
   "source": [
    "test_year = configs['test_year']\n",
    "\n",
    "train = data.loc[data['year'] < test_year]\n",
    "test = data.loc[data['year'] == test_year]\n",
    "\n",
    "train_sarcastic_pct = train['is_sarcastic'].mean()*100\n",
    "test_sarcastic_pct = test['is_sarcastic'].mean()*100\n",
    "\n",
    "print(f\"Train has {train.shape[0]} records, {round(train_sarcastic_pct,2)}% are sarcastic headlines\")\n",
    "print(f\"Test has {test.shape[0]} records, {round(test_sarcastic_pct,2)}% are sarcastic headlines\")\n",
    "\n",
    "logging.info(f\"Train has {train.shape[0]} records, {round(train_sarcastic_pct,2)}% are sarcastic headlines\")\n",
    "logging.info(f\"Test has {test.shape[0]} records, {round(test_sarcastic_pct,2)}% are sarcastic headlines\")"
   ]
  },
  {
   "cell_type": "code",
   "execution_count": 22,
   "metadata": {},
   "outputs": [],
   "source": [
    "X_train = train['clean']\n",
    "y_train = train['is_sarcastic']\n",
    "\n",
    "X_test = test['clean']\n",
    "y_test = test['is_sarcastic']"
   ]
  },
  {
   "cell_type": "markdown",
   "metadata": {},
   "source": [
    "### Vectorization\n",
    "\n",
    "Please adjust the configs or add other data processing steps here."
   ]
  },
  {
   "cell_type": "code",
   "execution_count": 23,
   "metadata": {},
   "outputs": [
    {
     "name": "stdout",
     "output_type": "stream",
     "text": [
      "Please make sure your vectorizer is a valid option or add the functionality.\n",
      "Vectorizer is what converts the text into numerical entries\n",
      "CountVectorizer(binary=True, max_df=0.8, min_df=10, ngram_range=(1, 3),\n",
      "                stop_words='english', strip_accents='ascii')\n"
     ]
    }
   ],
   "source": [
    "print(\"Please make sure your vectorizer is a valid option or add the functionality.\")\n",
    "print('Vectorizer is what converts the text into numerical entries')\n",
    "\n",
    "if configs['vectorizer']['type'] == \"cv\":\n",
    "    vectorizer = feature_extraction.text.CountVectorizer(\n",
    "                                             lowercase = True,\n",
    "                                             strip_accents = 'ascii',\n",
    "                                             stop_words = configs['vectorizer']['stopwords'],\n",
    "                                             ngram_range = configs['vectorizer']['ngrams'],\n",
    "                                             max_df = configs['vectorizer']['max_df'],\n",
    "                                             min_df = configs['vectorizer']['min_df'],\n",
    "                                             binary = configs['vectorizer']['binary']\n",
    "    )\n",
    "                                                        \n",
    "if configs['vectorizer']['type'] == \"tfidf\":\n",
    "    vectorizer = feature_extraction.text.TfidfVectorizer(\n",
    "                                             lowercase = True,\n",
    "                                             strip_accents = 'ascii',\n",
    "                                             stop_words = configs['vectorizer']['stopwords'],\n",
    "                                             ngram_range = configs['vectorizer']['ngrams'],\n",
    "                                             max_df = configs['vectorizer']['max_df'],\n",
    "                                             min_df = configs['vectorizer']['min_df'],\n",
    "                                             binary = configs['vectorizer']['binary']\n",
    "    )\n",
    "    \n",
    "assert(vectorizer)\n",
    "vectorizer\n",
    "\n",
    "logging.info(vectorizer)\n",
    "print(vectorizer)"
   ]
  },
  {
   "cell_type": "code",
   "execution_count": 24,
   "metadata": {},
   "outputs": [
    {
     "name": "stdout",
     "output_type": "stream",
     "text": [
      "Fitting Vectorizer and Transform Train & Test\n",
      "Wall time: 7.61 s\n"
     ]
    }
   ],
   "source": [
    "%%time\n",
    "print(\"Fitting Vectorizer and Transform Train & Test\")\n",
    "X_train_transformed =  vectorizer.fit_transform(X_train)\n",
    "X_test_transformed = vectorizer.transform(X_test)"
   ]
  },
  {
   "cell_type": "markdown",
   "metadata": {},
   "source": [
    "### Modeling"
   ]
  },
  {
   "cell_type": "code",
   "execution_count": 25,
   "metadata": {},
   "outputs": [
    {
     "data": {
      "text/plain": [
       "GridSearchCV(estimator=LogisticRegression(),\n",
       "             param_grid={'C': [0.001, 0.01, 0.1, 1, 10], 'max_iter': [1000],\n",
       "                         'penalty': ['l2'], 'solver': ['lbfgs']})"
      ]
     },
     "execution_count": 25,
     "metadata": {},
     "output_type": "execute_result"
    }
   ],
   "source": [
    "if configs['grid_search']:\n",
    "    if configs['model'] == \"lr\":\n",
    "        model = LogisticRegression()\n",
    "    if configs['model'] == \"rf\":\n",
    "        model = RandomForestClassifier()\n",
    "    if configs['model'] == \"bnb\":\n",
    "        model = BernoulliNB()\n",
    "    if configs['model'] == \"mnb\":\n",
    "        model = MultinomialNB()\n",
    "    if configs['model'] == 'svc':\n",
    "        model = SVC()\n",
    "\n",
    "    grid_search = GridSearchCV(model, configs['hyperparameters'])\n",
    "    \n",
    "logging.info(grid_search)\n",
    "grid_search"
   ]
  },
  {
   "cell_type": "code",
   "execution_count": 26,
   "metadata": {
    "scrolled": true
   },
   "outputs": [
    {
     "data": {
      "text/plain": [
       "GridSearchCV(estimator=LogisticRegression(),\n",
       "             param_grid={'C': [0.001, 0.01, 0.1, 1, 10], 'max_iter': [1000],\n",
       "                         'penalty': ['l2'], 'solver': ['lbfgs']})"
      ]
     },
     "execution_count": 26,
     "metadata": {},
     "output_type": "execute_result"
    }
   ],
   "source": [
    "grid_search.fit(X_train_transformed, y_train)"
   ]
  },
  {
   "cell_type": "code",
   "execution_count": 27,
   "metadata": {},
   "outputs": [
    {
     "data": {
      "text/plain": [
       "LogisticRegression(C=0.1, max_iter=1000)"
      ]
     },
     "execution_count": 27,
     "metadata": {},
     "output_type": "execute_result"
    }
   ],
   "source": [
    "be = grid_search.best_estimator_\n",
    "logging.info(\"Best Model:\")\n",
    "logging.info(be)\n",
    "be"
   ]
  },
  {
   "cell_type": "markdown",
   "metadata": {},
   "source": [
    "### Evaluation"
   ]
  },
  {
   "cell_type": "code",
   "execution_count": 28,
   "metadata": {},
   "outputs": [
    {
     "name": "stdout",
     "output_type": "stream",
     "text": [
      "              precision    recall  f1-score   support\n",
      "\n",
      "           0       0.90      1.00      0.95     35599\n",
      "           1       0.88      0.24      0.38      4959\n",
      "\n",
      "    accuracy                           0.90     40558\n",
      "   macro avg       0.89      0.62      0.66     40558\n",
      "weighted avg       0.90      0.90      0.88     40558\n",
      "\n"
     ]
    },
    {
     "data": {
      "image/png": "[encoded data removed]",
      "text/plain": [
       "<Figure size 432x288 with 2 Axes>"
      ]
     },
     "metadata": {
      "needs_background": "light"
     },
     "output_type": "display_data"
    },
    {
     "data": {
      "image/png": "[encoded data removed]",
      "text/plain": [
       "<Figure size 432x288 with 1 Axes>"
      ]
     },
     "metadata": {
      "needs_background": "light"
     },
     "output_type": "display_data"
    },
    {
     "data": {
      "image/png": "[encoded data removed]",
      "text/plain": [
       "<Figure size 432x288 with 1 Axes>"
      ]
     },
     "metadata": {
      "needs_background": "light"
     },
     "output_type": "display_data"
    }
   ],
   "source": [
    "be_preds = be.predict(X_test_transformed)\n",
    "be_probs = be.predict_proba(X_test_transformed)[:,1]\n",
    "\n",
    "print(classification_report(y_test, be_preds))\n",
    "\n",
    "plot_confusion_matrix(be, X_test_transformed, y_test, cmap = plt.cm.Blues)\n",
    "plt.show()\n",
    "\n",
    "plot_roc_curve(be, X_test_transformed, y_test)\n",
    "plt.show()\n",
    "\n",
    "plot_precision_recall_curve(be, X_test_transformed, y_test)\n",
    "plt.show()"
   ]
  },
  {
   "cell_type": "markdown",
   "metadata": {},
   "source": [
    "## Save Information"
   ]
  },
  {
   "cell_type": "code",
   "execution_count": 29,
   "metadata": {},
   "outputs": [],
   "source": [
    "logging.info(grid_search.cv_results_)"
   ]
  },
  {
   "cell_type": "code",
   "execution_count": 30,
   "metadata": {},
   "outputs": [],
   "source": [
    "auc_score = roc_auc_score(y_test, be_probs)\n",
    "avg_precision = average_precision_score(y_test, be_probs)\n",
    "cm = confusion_matrix(y_test, be_preds)"
   ]
  },
  {
   "cell_type": "code",
   "execution_count": 31,
   "metadata": {},
   "outputs": [],
   "source": [
    "logging.info(f'AUC: {auc_score}')\n",
    "logging.info(f'Average Precision: {avg_precision}')\n",
    "logging.info('Confusion Matrix:')\n",
    "logging.info(cm)\n",
    "logging.info(\"Classification Report:\")\n",
    "logging.info(classification_report(y_test, be_preds))"
   ]
  },
  {
   "cell_type": "code",
   "execution_count": null,
   "metadata": {},
   "outputs": [],
   "source": []
  }
 ],
 "metadata": {
  "kernelspec": {
   "display_name": "Python 3",
   "language": "python",
   "name": "python3"
  },
  "language_info": {
   "codemirror_mode": {
    "name": "ipython",
    "version": 3
   },
   "file_extension": ".py",
   "mimetype": "text/x-python",
   "name": "python",
   "nbconvert_exporter": "python",
   "pygments_lexer": "ipython3",
   "version": "3.7.1"
  }
 },
 "nbformat": 4,
 "nbformat_minor": 4
}
